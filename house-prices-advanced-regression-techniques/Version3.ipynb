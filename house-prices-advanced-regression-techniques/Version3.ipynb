{
 "cells": [
  {
   "cell_type": "code",
   "execution_count": 41,
   "metadata": {},
   "outputs": [],
   "source": [
    "import pandas as pd\n",
    "import numpy as np\n",
    "import seaborn as sns\n",
    "color = sns.color_palette('PuBuGn_d')\n",
    "sns.set_style('darkgrid')\n",
    "from scipy import stats\n",
    "import matplotlib.pyplot as plt  # Matlab-style plotting"
   ]
  },
  {
   "cell_type": "code",
   "execution_count": 42,
   "metadata": {},
   "outputs": [],
   "source": [
    "data=pd.read_csv(\"train.csv\")"
   ]
  },
  {
   "cell_type": "code",
   "execution_count": 43,
   "metadata": {},
   "outputs": [
    {
     "data": {
      "text/html": [
       "<div>\n",
       "<style scoped>\n",
       "    .dataframe tbody tr th:only-of-type {\n",
       "        vertical-align: middle;\n",
       "    }\n",
       "\n",
       "    .dataframe tbody tr th {\n",
       "        vertical-align: top;\n",
       "    }\n",
       "\n",
       "    .dataframe thead th {\n",
       "        text-align: right;\n",
       "    }\n",
       "</style>\n",
       "<table border=\"1\" class=\"dataframe\">\n",
       "  <thead>\n",
       "    <tr style=\"text-align: right;\">\n",
       "      <th></th>\n",
       "      <th>Id</th>\n",
       "      <th>MSSubClass</th>\n",
       "      <th>MSZoning</th>\n",
       "      <th>LotFrontage</th>\n",
       "      <th>LotArea</th>\n",
       "      <th>Street</th>\n",
       "      <th>Alley</th>\n",
       "      <th>LotShape</th>\n",
       "      <th>LandContour</th>\n",
       "      <th>Utilities</th>\n",
       "      <th>...</th>\n",
       "      <th>PoolArea</th>\n",
       "      <th>PoolQC</th>\n",
       "      <th>Fence</th>\n",
       "      <th>MiscFeature</th>\n",
       "      <th>MiscVal</th>\n",
       "      <th>MoSold</th>\n",
       "      <th>YrSold</th>\n",
       "      <th>SaleType</th>\n",
       "      <th>SaleCondition</th>\n",
       "      <th>SalePrice</th>\n",
       "    </tr>\n",
       "  </thead>\n",
       "  <tbody>\n",
       "    <tr>\n",
       "      <th>0</th>\n",
       "      <td>1</td>\n",
       "      <td>60</td>\n",
       "      <td>RL</td>\n",
       "      <td>65.0</td>\n",
       "      <td>8450</td>\n",
       "      <td>Pave</td>\n",
       "      <td>NaN</td>\n",
       "      <td>Reg</td>\n",
       "      <td>Lvl</td>\n",
       "      <td>AllPub</td>\n",
       "      <td>...</td>\n",
       "      <td>0</td>\n",
       "      <td>NaN</td>\n",
       "      <td>NaN</td>\n",
       "      <td>NaN</td>\n",
       "      <td>0</td>\n",
       "      <td>2</td>\n",
       "      <td>2008</td>\n",
       "      <td>WD</td>\n",
       "      <td>Normal</td>\n",
       "      <td>208500</td>\n",
       "    </tr>\n",
       "  </tbody>\n",
       "</table>\n",
       "<p>1 rows × 81 columns</p>\n",
       "</div>"
      ],
      "text/plain": [
       "   Id  MSSubClass MSZoning  LotFrontage  LotArea Street Alley LotShape  \\\n",
       "0   1          60       RL         65.0     8450   Pave   NaN      Reg   \n",
       "\n",
       "  LandContour Utilities    ...     PoolArea PoolQC Fence MiscFeature MiscVal  \\\n",
       "0         Lvl    AllPub    ...            0    NaN   NaN         NaN       0   \n",
       "\n",
       "  MoSold YrSold  SaleType  SaleCondition  SalePrice  \n",
       "0      2   2008        WD         Normal     208500  \n",
       "\n",
       "[1 rows x 81 columns]"
      ]
     },
     "execution_count": 43,
     "metadata": {},
     "output_type": "execute_result"
    }
   ],
   "source": [
    "data.head(1)"
   ]
  },
  {
   "cell_type": "code",
   "execution_count": null,
   "metadata": {},
   "outputs": [],
   "source": []
  },
  {
   "cell_type": "code",
   "execution_count": 44,
   "metadata": {},
   "outputs": [],
   "source": [
    "train=data.drop([\"Id\",\"SalePrice\"],axis=1)"
   ]
  },
  {
   "cell_type": "code",
   "execution_count": 45,
   "metadata": {},
   "outputs": [],
   "source": [
    "target = data[\"SalePrice\"]"
   ]
  },
  {
   "cell_type": "code",
   "execution_count": null,
   "metadata": {},
   "outputs": [],
   "source": []
  },
  {
   "cell_type": "code",
   "execution_count": null,
   "metadata": {},
   "outputs": [],
   "source": []
  },
  {
   "cell_type": "code",
   "execution_count": null,
   "metadata": {},
   "outputs": [],
   "source": []
  },
  {
   "cell_type": "code",
   "execution_count": null,
   "metadata": {},
   "outputs": [],
   "source": [
    "\n"
   ]
  },
  {
   "cell_type": "code",
   "execution_count": 46,
   "metadata": {},
   "outputs": [],
   "source": [
    "train['LotFrontage']=train['LotFrontage'].fillna(train['LotFrontage'].mean())"
   ]
  },
  {
   "cell_type": "code",
   "execution_count": 47,
   "metadata": {},
   "outputs": [],
   "source": [
    "train['Alley']=train['Alley'].fillna('None')"
   ]
  },
  {
   "cell_type": "code",
   "execution_count": 48,
   "metadata": {},
   "outputs": [],
   "source": [
    "train['MasVnrType']=train['MasVnrType'].fillna('None')"
   ]
  },
  {
   "cell_type": "code",
   "execution_count": 49,
   "metadata": {},
   "outputs": [],
   "source": [
    "train['MasVnrArea']=train['MasVnrArea'].fillna(0)"
   ]
  },
  {
   "cell_type": "code",
   "execution_count": 50,
   "metadata": {},
   "outputs": [],
   "source": [
    "for col in ['BsmtQual','BsmtCond','BsmtExposure','BsmtFinType1','BsmtFinType2']:\n",
    "    train[col]=train[col].fillna('None')"
   ]
  },
  {
   "cell_type": "code",
   "execution_count": 51,
   "metadata": {},
   "outputs": [],
   "source": [
    "train['Electrical']=train['Electrical'].fillna('SBrkr')"
   ]
  },
  {
   "cell_type": "code",
   "execution_count": 52,
   "metadata": {},
   "outputs": [],
   "source": [
    "train['FireplaceQu']=train['FireplaceQu'].fillna('None')"
   ]
  },
  {
   "cell_type": "code",
   "execution_count": 53,
   "metadata": {},
   "outputs": [],
   "source": [
    "for col in ['GarageType','GarageYrBlt','GarageFinish','GarageQual','GarageCond']:\n",
    "    train[col]=train[col].fillna('None')"
   ]
  },
  {
   "cell_type": "code",
   "execution_count": 54,
   "metadata": {},
   "outputs": [],
   "source": [
    "train['PoolQC']=train['PoolQC'].fillna('None')"
   ]
  },
  {
   "cell_type": "code",
   "execution_count": 55,
   "metadata": {},
   "outputs": [],
   "source": [
    "train['Fence']=train['Fence'].fillna('None')"
   ]
  },
  {
   "cell_type": "code",
   "execution_count": 56,
   "metadata": {},
   "outputs": [],
   "source": [
    "train['MiscFeature']=train['MiscFeature'].fillna('None')"
   ]
  },
  {
   "cell_type": "code",
   "execution_count": 57,
   "metadata": {},
   "outputs": [
    {
     "data": {
      "text/plain": [
       "0        sub60\n",
       "1        sub20\n",
       "2        sub60\n",
       "3        sub70\n",
       "4        sub60\n",
       "5        sub50\n",
       "6        sub20\n",
       "7        sub60\n",
       "8        sub50\n",
       "9       sub190\n",
       "10       sub20\n",
       "11       sub60\n",
       "12       sub20\n",
       "13       sub20\n",
       "14       sub20\n",
       "15       sub45\n",
       "16       sub20\n",
       "17       sub90\n",
       "18       sub20\n",
       "19       sub20\n",
       "20       sub60\n",
       "21       sub45\n",
       "22       sub20\n",
       "23      sub120\n",
       "24       sub20\n",
       "25       sub20\n",
       "26       sub20\n",
       "27       sub20\n",
       "28       sub20\n",
       "29       sub30\n",
       "         ...  \n",
       "1430     sub60\n",
       "1431    sub120\n",
       "1432     sub30\n",
       "1433     sub60\n",
       "1434     sub20\n",
       "1435     sub20\n",
       "1436     sub20\n",
       "1437     sub20\n",
       "1438     sub20\n",
       "1439     sub60\n",
       "1440     sub70\n",
       "1441    sub120\n",
       "1442     sub60\n",
       "1443     sub30\n",
       "1444     sub20\n",
       "1445     sub85\n",
       "1446     sub20\n",
       "1447     sub60\n",
       "1448     sub50\n",
       "1449    sub180\n",
       "1450     sub90\n",
       "1451     sub20\n",
       "1452    sub180\n",
       "1453     sub20\n",
       "1454     sub20\n",
       "1455     sub60\n",
       "1456     sub20\n",
       "1457     sub70\n",
       "1458     sub20\n",
       "1459     sub20\n",
       "Name: MSSubClass, Length: 1460, dtype: object"
      ]
     },
     "execution_count": 57,
     "metadata": {},
     "output_type": "execute_result"
    }
   ],
   "source": [
    "for x in train['MSSubClass'].values:\n",
    "    train.loc[train['MSSubClass']==x,'MSSubClass']='sub'+str(x)\n",
    "\n",
    "train['MSSubClass'].astype('O')"
   ]
  },
  {
   "cell_type": "code",
   "execution_count": 58,
   "metadata": {},
   "outputs": [
    {
     "data": {
      "text/plain": [
       "0       2003\n",
       "1       1976\n",
       "2       2001\n",
       "3       1998\n",
       "4       2000\n",
       "5       1993\n",
       "6       2004\n",
       "7       1973\n",
       "8       1931\n",
       "9       1939\n",
       "10      1965\n",
       "11      2005\n",
       "12      1962\n",
       "13      2006\n",
       "14      1960\n",
       "15      1991\n",
       "16      1970\n",
       "17      1967\n",
       "18      2004\n",
       "19      1958\n",
       "20      2005\n",
       "21      1930\n",
       "22      2002\n",
       "23      1976\n",
       "24      1968\n",
       "25      2007\n",
       "26      2005\n",
       "27      2008\n",
       "28      1957\n",
       "29      1920\n",
       "        ... \n",
       "1430    2005\n",
       "1431    1976\n",
       "1432    1928\n",
       "1433    2000\n",
       "1434    1977\n",
       "1435    1962\n",
       "1436    1974\n",
       "1437    2008\n",
       "1438    1957\n",
       "1439    1979\n",
       "1440    1993\n",
       "1441    2004\n",
       "1442    2008\n",
       "1443    1916\n",
       "1444    2004\n",
       "1445    1990\n",
       "1446    1962\n",
       "1447    1995\n",
       "1448    1950\n",
       "1449       0\n",
       "1450       0\n",
       "1451    2008\n",
       "1452    2005\n",
       "1453       0\n",
       "1454    2004\n",
       "1455    1999\n",
       "1456    1978\n",
       "1457    1941\n",
       "1458    1950\n",
       "1459    1965\n",
       "Name: GarageYrBlt, Length: 1460, dtype: int64"
      ]
     },
     "execution_count": 58,
     "metadata": {},
     "output_type": "execute_result"
    }
   ],
   "source": [
    "\n",
    "train.loc[train['GarageYrBlt']=='None','GarageYrBlt']=0\n",
    "train['GarageYrBlt'].astype('int64')"
   ]
  },
  {
   "cell_type": "code",
   "execution_count": 59,
   "metadata": {},
   "outputs": [
    {
     "data": {
      "text/plain": [
       "{'Alley': {0: 'None', 1: 'Grvl', 2: 'Pave'},\n",
       " 'BldgType': {0: '1Fam', 1: '2fmCon', 2: 'Duplex', 3: 'TwnhsE', 4: 'Twnhs'},\n",
       " 'BsmtCond': {0: 'TA', 1: 'Gd', 2: 'None', 3: 'Fa', 4: 'Po'},\n",
       " 'BsmtExposure': {0: 'No', 1: 'Gd', 2: 'Mn', 3: 'Av', 4: 'None'},\n",
       " 'BsmtFinType1': {0: 'GLQ',\n",
       "  1: 'ALQ',\n",
       "  2: 'Unf',\n",
       "  3: 'Rec',\n",
       "  4: 'BLQ',\n",
       "  5: 'None',\n",
       "  6: 'LwQ'},\n",
       " 'BsmtFinType2': {0: 'Unf',\n",
       "  1: 'BLQ',\n",
       "  2: 'None',\n",
       "  3: 'ALQ',\n",
       "  4: 'Rec',\n",
       "  5: 'LwQ',\n",
       "  6: 'GLQ'},\n",
       " 'BsmtQual': {0: 'Gd', 1: 'TA', 2: 'Ex', 3: 'None', 4: 'Fa'},\n",
       " 'CentralAir': {0: 'Y', 1: 'N'},\n",
       " 'Condition1': {0: 'Norm',\n",
       "  1: 'Feedr',\n",
       "  2: 'PosN',\n",
       "  3: 'Artery',\n",
       "  4: 'RRAe',\n",
       "  5: 'RRNn',\n",
       "  6: 'RRAn',\n",
       "  7: 'PosA',\n",
       "  8: 'RRNe'},\n",
       " 'Condition2': {0: 'Norm',\n",
       "  1: 'Artery',\n",
       "  2: 'RRNn',\n",
       "  3: 'Feedr',\n",
       "  4: 'PosN',\n",
       "  5: 'PosA',\n",
       "  6: 'RRAn',\n",
       "  7: 'RRAe'},\n",
       " 'Electrical': {0: 'SBrkr', 1: 'FuseF', 2: 'FuseA', 3: 'FuseP', 4: 'Mix'},\n",
       " 'ExterCond': {0: 'TA', 1: 'Gd', 2: 'Fa', 3: 'Po', 4: 'Ex'},\n",
       " 'ExterQual': {0: 'Gd', 1: 'TA', 2: 'Ex', 3: 'Fa'},\n",
       " 'Exterior1st': {0: 'VinylSd',\n",
       "  1: 'MetalSd',\n",
       "  2: 'Wd Sdng',\n",
       "  3: 'HdBoard',\n",
       "  4: 'BrkFace',\n",
       "  5: 'WdShing',\n",
       "  6: 'CemntBd',\n",
       "  7: 'Plywood',\n",
       "  8: 'AsbShng',\n",
       "  9: 'Stucco',\n",
       "  10: 'BrkComm',\n",
       "  11: 'AsphShn',\n",
       "  12: 'Stone',\n",
       "  13: 'ImStucc',\n",
       "  14: 'CBlock'},\n",
       " 'Exterior2nd': {0: 'VinylSd',\n",
       "  1: 'MetalSd',\n",
       "  2: 'Wd Shng',\n",
       "  3: 'HdBoard',\n",
       "  4: 'Plywood',\n",
       "  5: 'Wd Sdng',\n",
       "  6: 'CmentBd',\n",
       "  7: 'BrkFace',\n",
       "  8: 'Stucco',\n",
       "  9: 'AsbShng',\n",
       "  10: 'Brk Cmn',\n",
       "  11: 'ImStucc',\n",
       "  12: 'AsphShn',\n",
       "  13: 'Stone',\n",
       "  14: 'Other',\n",
       "  15: 'CBlock'},\n",
       " 'Fence': {0: 'None', 1: 'MnPrv', 2: 'GdWo', 3: 'GdPrv', 4: 'MnWw'},\n",
       " 'FireplaceQu': {0: 'None', 1: 'TA', 2: 'Gd', 3: 'Fa', 4: 'Ex', 5: 'Po'},\n",
       " 'Foundation': {0: 'PConc',\n",
       "  1: 'CBlock',\n",
       "  2: 'BrkTil',\n",
       "  3: 'Wood',\n",
       "  4: 'Slab',\n",
       "  5: 'Stone'},\n",
       " 'Functional': {0: 'Typ',\n",
       "  1: 'Min1',\n",
       "  2: 'Maj1',\n",
       "  3: 'Min2',\n",
       "  4: 'Mod',\n",
       "  5: 'Maj2',\n",
       "  6: 'Sev'},\n",
       " 'GarageCond': {0: 'TA', 1: 'Fa', 2: 'None', 3: 'Gd', 4: 'Po', 5: 'Ex'},\n",
       " 'GarageFinish': {0: 'RFn', 1: 'Unf', 2: 'Fin', 3: 'None'},\n",
       " 'GarageQual': {0: 'TA', 1: 'Fa', 2: 'Gd', 3: 'None', 4: 'Ex', 5: 'Po'},\n",
       " 'GarageType': {0: 'Attchd',\n",
       "  1: 'Detchd',\n",
       "  2: 'BuiltIn',\n",
       "  3: 'CarPort',\n",
       "  4: 'None',\n",
       "  5: 'Basment',\n",
       "  6: '2Types'},\n",
       " 'Heating': {0: 'GasA',\n",
       "  1: 'GasW',\n",
       "  2: 'Grav',\n",
       "  3: 'Wall',\n",
       "  4: 'OthW',\n",
       "  5: 'Floor'},\n",
       " 'HeatingQC': {0: 'Ex', 1: 'Gd', 2: 'TA', 3: 'Fa', 4: 'Po'},\n",
       " 'HouseStyle': {0: '2Story',\n",
       "  1: '1Story',\n",
       "  2: '1.5Fin',\n",
       "  3: '1.5Unf',\n",
       "  4: 'SFoyer',\n",
       "  5: 'SLvl',\n",
       "  6: '2.5Unf',\n",
       "  7: '2.5Fin'},\n",
       " 'KitchenQual': {0: 'Gd', 1: 'TA', 2: 'Ex', 3: 'Fa'},\n",
       " 'LandContour': {0: 'Lvl', 1: 'Bnk', 2: 'Low', 3: 'HLS'},\n",
       " 'LandSlope': {0: 'Gtl', 1: 'Mod', 2: 'Sev'},\n",
       " 'LotConfig': {0: 'Inside', 1: 'FR2', 2: 'Corner', 3: 'CulDSac', 4: 'FR3'},\n",
       " 'LotShape': {0: 'Reg', 1: 'IR1', 2: 'IR2', 3: 'IR3'},\n",
       " 'MSSubClass': {0: 'sub60',\n",
       "  1: 'sub20',\n",
       "  2: 'sub70',\n",
       "  3: 'sub50',\n",
       "  4: 'sub190',\n",
       "  5: 'sub45',\n",
       "  6: 'sub90',\n",
       "  7: 'sub120',\n",
       "  8: 'sub30',\n",
       "  9: 'sub85',\n",
       "  10: 'sub80',\n",
       "  11: 'sub160',\n",
       "  12: 'sub75',\n",
       "  13: 'sub180',\n",
       "  14: 'sub40'},\n",
       " 'MSZoning': {0: 'RL', 1: 'RM', 2: 'C (all)', 3: 'FV', 4: 'RH'},\n",
       " 'MasVnrType': {0: 'BrkFace', 1: 'None', 2: 'Stone', 3: 'BrkCmn'},\n",
       " 'MiscFeature': {0: 'None', 1: 'Shed', 2: 'Gar2', 3: 'Othr', 4: 'TenC'},\n",
       " 'Neighborhood': {0: 'CollgCr',\n",
       "  1: 'Veenker',\n",
       "  2: 'Crawfor',\n",
       "  3: 'NoRidge',\n",
       "  4: 'Mitchel',\n",
       "  5: 'Somerst',\n",
       "  6: 'NWAmes',\n",
       "  7: 'OldTown',\n",
       "  8: 'BrkSide',\n",
       "  9: 'Sawyer',\n",
       "  10: 'NridgHt',\n",
       "  11: 'NAmes',\n",
       "  12: 'SawyerW',\n",
       "  13: 'IDOTRR',\n",
       "  14: 'MeadowV',\n",
       "  15: 'Edwards',\n",
       "  16: 'Timber',\n",
       "  17: 'Gilbert',\n",
       "  18: 'StoneBr',\n",
       "  19: 'ClearCr',\n",
       "  20: 'NPkVill',\n",
       "  21: 'Blmngtn',\n",
       "  22: 'BrDale',\n",
       "  23: 'SWISU',\n",
       "  24: 'Blueste'},\n",
       " 'PavedDrive': {0: 'Y', 1: 'N', 2: 'P'},\n",
       " 'PoolQC': {0: 'None', 1: 'Ex', 2: 'Fa', 3: 'Gd'},\n",
       " 'RoofMatl': {0: 'CompShg',\n",
       "  1: 'WdShngl',\n",
       "  2: 'Metal',\n",
       "  3: 'WdShake',\n",
       "  4: 'Membran',\n",
       "  5: 'Tar&Grv',\n",
       "  6: 'Roll',\n",
       "  7: 'ClyTile'},\n",
       " 'RoofStyle': {0: 'Gable',\n",
       "  1: 'Hip',\n",
       "  2: 'Gambrel',\n",
       "  3: 'Mansard',\n",
       "  4: 'Flat',\n",
       "  5: 'Shed'},\n",
       " 'SaleCondition': {0: 'Normal',\n",
       "  1: 'Abnorml',\n",
       "  2: 'Partial',\n",
       "  3: 'AdjLand',\n",
       "  4: 'Alloca',\n",
       "  5: 'Family'},\n",
       " 'SaleType': {0: 'WD',\n",
       "  1: 'New',\n",
       "  2: 'COD',\n",
       "  3: 'ConLD',\n",
       "  4: 'ConLI',\n",
       "  5: 'CWD',\n",
       "  6: 'ConLw',\n",
       "  7: 'Con',\n",
       "  8: 'Oth'},\n",
       " 'Street': {0: 'Pave', 1: 'Grvl'},\n",
       " 'Utilities': {0: 'AllPub', 1: 'NoSeWa'}}"
      ]
     },
     "execution_count": 59,
     "metadata": {},
     "output_type": "execute_result"
    }
   ],
   "source": [
    "#fill missing values in columns which is data type of float64 and int64 \n",
    "object_value={}\n",
    "for col in train.columns:\n",
    "    if train[col].dtype=='O':\n",
    "        object_value[col]=dict(enumerate(train[col].unique()))\n",
    "                               \n",
    "object_value\n",
    "object_value.pop('GarageYrBlt')\n",
    "object_value"
   ]
  },
  {
   "cell_type": "code",
   "execution_count": null,
   "metadata": {},
   "outputs": [],
   "source": []
  },
  {
   "cell_type": "code",
   "execution_count": null,
   "metadata": {},
   "outputs": [],
   "source": []
  },
  {
   "cell_type": "code",
   "execution_count": 60,
   "metadata": {},
   "outputs": [
    {
     "name": "stdout",
     "output_type": "stream",
     "text": [
      "MSSubClass\n",
      "MSZoning\n",
      "Street\n",
      "Alley\n",
      "LotShape\n",
      "LandContour\n",
      "Utilities\n",
      "LotConfig\n",
      "LandSlope\n",
      "Neighborhood\n",
      "Condition1\n",
      "Condition2\n",
      "BldgType\n",
      "HouseStyle\n",
      "RoofStyle\n",
      "RoofMatl\n",
      "Exterior1st\n",
      "Exterior2nd\n",
      "MasVnrType\n",
      "ExterQual\n",
      "ExterCond\n",
      "Foundation\n",
      "BsmtQual\n",
      "BsmtCond\n",
      "BsmtExposure\n",
      "BsmtFinType1\n",
      "BsmtFinType2\n",
      "Heating\n",
      "HeatingQC\n",
      "CentralAir\n",
      "Electrical\n",
      "KitchenQual\n",
      "Functional\n",
      "FireplaceQu\n",
      "GarageType\n",
      "GarageFinish\n",
      "GarageQual\n",
      "GarageCond\n",
      "PavedDrive\n",
      "PoolQC\n",
      "Fence\n",
      "MiscFeature\n",
      "SaleType\n",
      "SaleCondition\n"
     ]
    }
   ],
   "source": [
    "for key,lis in object_value.items():\n",
    "    if train[col].dtype=='O':\n",
    "        for index,val in lis.items():\n",
    "            train.loc[train[key]==val,key]=index\n",
    "        \n",
    "        print(key)\n",
    "        train[key].astype('int64')\n",
    "\n"
   ]
  },
  {
   "cell_type": "code",
   "execution_count": 61,
   "metadata": {},
   "outputs": [
    {
     "name": "stdout",
     "output_type": "stream",
     "text": [
      "MSSubClass int64\n",
      "MSZoning int64\n",
      "LotFrontage int64\n",
      "LotArea int64\n",
      "Street int64\n",
      "Alley int64\n",
      "LotShape int64\n",
      "LandContour int64\n",
      "Utilities int64\n",
      "LotConfig int64\n",
      "LandSlope int64\n",
      "Neighborhood int64\n",
      "Condition1 int64\n",
      "Condition2 int64\n",
      "BldgType int64\n",
      "HouseStyle int64\n",
      "OverallQual int64\n",
      "OverallCond int64\n",
      "YearBuilt int64\n",
      "YearRemodAdd int64\n",
      "RoofStyle int64\n",
      "RoofMatl int64\n",
      "Exterior1st int64\n",
      "Exterior2nd int64\n",
      "MasVnrType int64\n",
      "MasVnrArea int64\n",
      "ExterQual int64\n",
      "ExterCond int64\n",
      "Foundation int64\n",
      "BsmtQual int64\n",
      "BsmtCond int64\n",
      "BsmtExposure int64\n",
      "BsmtFinType1 int64\n",
      "BsmtFinSF1 int64\n",
      "BsmtFinType2 int64\n",
      "BsmtFinSF2 int64\n",
      "BsmtUnfSF int64\n",
      "TotalBsmtSF int64\n",
      "Heating int64\n",
      "HeatingQC int64\n",
      "CentralAir int64\n",
      "Electrical int64\n",
      "1stFlrSF int64\n",
      "2ndFlrSF int64\n",
      "LowQualFinSF int64\n",
      "GrLivArea int64\n",
      "BsmtFullBath int64\n",
      "BsmtHalfBath int64\n",
      "FullBath int64\n",
      "HalfBath int64\n",
      "BedroomAbvGr int64\n",
      "KitchenAbvGr int64\n",
      "KitchenQual int64\n",
      "TotRmsAbvGrd int64\n",
      "Functional int64\n",
      "Fireplaces int64\n",
      "FireplaceQu int64\n",
      "GarageType int64\n",
      "GarageYrBlt int64\n",
      "GarageFinish int64\n",
      "GarageCars int64\n",
      "GarageArea int64\n",
      "GarageQual int64\n",
      "GarageCond int64\n",
      "PavedDrive int64\n",
      "WoodDeckSF int64\n",
      "OpenPorchSF int64\n",
      "EnclosedPorch int64\n",
      "3SsnPorch int64\n",
      "ScreenPorch int64\n",
      "PoolArea int64\n",
      "PoolQC int64\n",
      "Fence int64\n",
      "MiscFeature int64\n",
      "MiscVal int64\n",
      "MoSold int64\n",
      "YrSold int64\n",
      "SaleType int64\n",
      "SaleCondition int64\n"
     ]
    }
   ],
   "source": [
    "for x in train.columns:\n",
    "    print(x,train[key].dtype)"
   ]
  },
  {
   "cell_type": "code",
   "execution_count": 75,
   "metadata": {},
   "outputs": [
    {
     "name": "stderr",
     "output_type": "stream",
     "text": [
      "/usr/local/anaconda3/lib/python3.6/site-packages/pandas/core/indexes/base.py:3140: RuntimeWarning: '<' not supported between instances of 'int' and 'str', sort order is undefined for incomparable objects\n",
      "  return this.join(other, how=how, return_indexers=return_indexers)\n",
      "/usr/local/anaconda3/lib/python3.6/site-packages/pandas/core/indexes/base.py:3140: RuntimeWarning: '<' not supported between instances of 'str' and 'int', sort order is undefined for incomparable objects\n",
      "  return this.join(other, how=how, return_indexers=return_indexers)\n",
      "/usr/local/anaconda3/lib/python3.6/site-packages/numpy/core/_methods.py:26: RuntimeWarning: invalid value encountered in reduce\n",
      "  return umr_maximum(a, axis, None, out, keepdims)\n",
      "/usr/local/anaconda3/lib/python3.6/site-packages/numpy/linalg/linalg.py:1647: RuntimeWarning: invalid value encountered in greater\n",
      "  return count_nonzero(S > tol, axis=-1)\n"
     ]
    }
   ],
   "source": [
    "x=train*train.T\n",
    "t=train.astype('float64')\n",
    "x=x.astype('float64')\n",
    "p=np.linalg.matrix_rank(x)"
   ]
  },
  {
   "cell_type": "code",
   "execution_count": 76,
   "metadata": {},
   "outputs": [
    {
     "data": {
      "text/plain": [
       "0"
      ]
     },
     "execution_count": 76,
     "metadata": {},
     "output_type": "execute_result"
    }
   ],
   "source": [
    "p\n"
   ]
  },
  {
   "cell_type": "code",
   "execution_count": 36,
   "metadata": {},
   "outputs": [],
   "source": [
    "\n",
    "from sklearn import svm\n",
    "from sklearn.covariance import EllipticEnvelope\n",
    "from sklearn.ensemble import IsolationForest\n",
    "from sklearn.neighbors import LocalOutlierFactor\n",
    "from sklearn.preprocessing import StandardScaler\n",
    "outliers_fraction = 0.01\n",
    "n_samples = 200\n",
    "\n",
    "# define two outlier detection tools to be compared\n",
    "outliers = {\n",
    "    #\"One-Class SVM\": svm.OneClassSVM(nu=0.3, kernel=\"rbf\", gamma=0.1)\n",
    "    \"Robust covariance\": EllipticEnvelope(contamination=outliers_fraction),\n",
    "    #\"Isolation Forest\": IsolationForest(max_samples=n_samples,contamination=outliers_fraction)\n",
    "    #\"Local Outlier Factor\": LocalOutlierFactor(n_neighbors=35,contamination=outliers_fraction)\n",
    "}\n",
    "\n",
    "X=train\n",
    "X['SalePrice']=target\n",
    "outlier=set()\n",
    "\n",
    "for clf_name,clf in outliers.items():\n",
    "    if clf_name == \"Local Outlier Factor\":\n",
    "        y_pred = clf.fit_predict(X)\n",
    "        scores_pred = clf.negative_outlier_factor_\n",
    "    else:\n",
    "        clf.fit(X)\n",
    "        scores_pred = clf.decision_function(X)\n",
    "        y_pred = clf.predict(X)\n",
    "       \n",
    "        outlier=(np.where(y_pred==-1)[0])"
   ]
  },
  {
   "cell_type": "code",
   "execution_count": 37,
   "metadata": {},
   "outputs": [],
   "source": [
    "train_new = train.drop(outlier)\n",
    "train_new=train_new.drop('SalePrice',axis=1)\n",
    "target_new = target.drop(outlier)\n"
   ]
  },
  {
   "cell_type": "code",
   "execution_count": 38,
   "metadata": {},
   "outputs": [
    {
     "data": {
      "text/plain": [
       "(1445, 79)"
      ]
     },
     "execution_count": 38,
     "metadata": {},
     "output_type": "execute_result"
    }
   ],
   "source": [
    "train_new.shape"
   ]
  },
  {
   "cell_type": "code",
   "execution_count": 39,
   "metadata": {},
   "outputs": [
    {
     "name": "stdout",
     "output_type": "stream",
     "text": [
      "GradientBoost_NB: 27666.901921, 2854.8929\n",
      "GradientBoost_NB_2: 28447.011727, 3222.1691\n",
      "GradientBoost_NB_3: 27710.156522, 2978.7484\n",
      "GradientBoost_NB_4: 29333.646839, 3640.9219\n"
     ]
    },
    {
     "ename": "KeyboardInterrupt",
     "evalue": "",
     "output_type": "error",
     "traceback": [
      "\u001b[0;31m---------------------------------------------------------------------------\u001b[0m",
      "\u001b[0;31mKeyboardInterrupt\u001b[0m                         Traceback (most recent call last)",
      "\u001b[0;32m<ipython-input-39-3d8e53a512ca>\u001b[0m in \u001b[0;36m<module>\u001b[0;34m()\u001b[0m\n\u001b[1;32m     45\u001b[0m \u001b[0;34m\u001b[0m\u001b[0m\n\u001b[1;32m     46\u001b[0m \u001b[0;32mfor\u001b[0m \u001b[0mkey\u001b[0m\u001b[0;34m,\u001b[0m\u001b[0mobj\u001b[0m \u001b[0;32min\u001b[0m \u001b[0mclf\u001b[0m\u001b[0;34m.\u001b[0m\u001b[0mitems\u001b[0m\u001b[0;34m(\u001b[0m\u001b[0;34m)\u001b[0m\u001b[0;34m:\u001b[0m\u001b[0;34m\u001b[0m\u001b[0m\n\u001b[0;32m---> 47\u001b[0;31m     \u001b[0mscores\u001b[0m\u001b[0;34m=\u001b[0m \u001b[0mnp\u001b[0m\u001b[0;34m.\u001b[0m\u001b[0msqrt\u001b[0m\u001b[0;34m(\u001b[0m\u001b[0;34m-\u001b[0m\u001b[0mcross_val_score\u001b[0m\u001b[0;34m(\u001b[0m\u001b[0mobj\u001b[0m\u001b[0;34m,\u001b[0m\u001b[0mtrain_new\u001b[0m\u001b[0;34m,\u001b[0m\u001b[0mtarget_new\u001b[0m\u001b[0;34m,\u001b[0m\u001b[0mscoring\u001b[0m\u001b[0;34m=\u001b[0m\u001b[0;34m'neg_mean_squared_error'\u001b[0m\u001b[0;34m)\u001b[0m\u001b[0;34m)\u001b[0m\u001b[0;34m\u001b[0m\u001b[0m\n\u001b[0m\u001b[1;32m     48\u001b[0m \u001b[0;34m\u001b[0m\u001b[0m\n\u001b[1;32m     49\u001b[0m     \u001b[0mprint\u001b[0m\u001b[0;34m(\u001b[0m\u001b[0;34m\"{}: {:.6f}, {:.4f}\"\u001b[0m\u001b[0;34m.\u001b[0m\u001b[0mformat\u001b[0m\u001b[0;34m(\u001b[0m\u001b[0mkey\u001b[0m\u001b[0;34m,\u001b[0m\u001b[0mscores\u001b[0m\u001b[0;34m.\u001b[0m\u001b[0mmean\u001b[0m\u001b[0;34m(\u001b[0m\u001b[0;34m)\u001b[0m\u001b[0;34m,\u001b[0m\u001b[0mscores\u001b[0m\u001b[0;34m.\u001b[0m\u001b[0mstd\u001b[0m\u001b[0;34m(\u001b[0m\u001b[0;34m)\u001b[0m\u001b[0;34m)\u001b[0m\u001b[0;34m)\u001b[0m\u001b[0;34m\u001b[0m\u001b[0m\n",
      "\u001b[0;32m/usr/local/anaconda3/lib/python3.6/site-packages/sklearn/model_selection/_validation.py\u001b[0m in \u001b[0;36mcross_val_score\u001b[0;34m(estimator, X, y, groups, scoring, cv, n_jobs, verbose, fit_params, pre_dispatch)\u001b[0m\n\u001b[1;32m    340\u001b[0m                                 \u001b[0mn_jobs\u001b[0m\u001b[0;34m=\u001b[0m\u001b[0mn_jobs\u001b[0m\u001b[0;34m,\u001b[0m \u001b[0mverbose\u001b[0m\u001b[0;34m=\u001b[0m\u001b[0mverbose\u001b[0m\u001b[0;34m,\u001b[0m\u001b[0;34m\u001b[0m\u001b[0m\n\u001b[1;32m    341\u001b[0m                                 \u001b[0mfit_params\u001b[0m\u001b[0;34m=\u001b[0m\u001b[0mfit_params\u001b[0m\u001b[0;34m,\u001b[0m\u001b[0;34m\u001b[0m\u001b[0m\n\u001b[0;32m--> 342\u001b[0;31m                                 pre_dispatch=pre_dispatch)\n\u001b[0m\u001b[1;32m    343\u001b[0m     \u001b[0;32mreturn\u001b[0m \u001b[0mcv_results\u001b[0m\u001b[0;34m[\u001b[0m\u001b[0;34m'test_score'\u001b[0m\u001b[0;34m]\u001b[0m\u001b[0;34m\u001b[0m\u001b[0m\n\u001b[1;32m    344\u001b[0m \u001b[0;34m\u001b[0m\u001b[0m\n",
      "\u001b[0;32m/usr/local/anaconda3/lib/python3.6/site-packages/sklearn/model_selection/_validation.py\u001b[0m in \u001b[0;36mcross_validate\u001b[0;34m(estimator, X, y, groups, scoring, cv, n_jobs, verbose, fit_params, pre_dispatch, return_train_score)\u001b[0m\n\u001b[1;32m    204\u001b[0m             \u001b[0mfit_params\u001b[0m\u001b[0;34m,\u001b[0m \u001b[0mreturn_train_score\u001b[0m\u001b[0;34m=\u001b[0m\u001b[0mreturn_train_score\u001b[0m\u001b[0;34m,\u001b[0m\u001b[0;34m\u001b[0m\u001b[0m\n\u001b[1;32m    205\u001b[0m             return_times=True)\n\u001b[0;32m--> 206\u001b[0;31m         for train, test in cv.split(X, y, groups))\n\u001b[0m\u001b[1;32m    207\u001b[0m \u001b[0;34m\u001b[0m\u001b[0m\n\u001b[1;32m    208\u001b[0m     \u001b[0;32mif\u001b[0m \u001b[0mreturn_train_score\u001b[0m\u001b[0;34m:\u001b[0m\u001b[0;34m\u001b[0m\u001b[0m\n",
      "\u001b[0;32m/usr/local/anaconda3/lib/python3.6/site-packages/sklearn/externals/joblib/parallel.py\u001b[0m in \u001b[0;36m__call__\u001b[0;34m(self, iterable)\u001b[0m\n\u001b[1;32m    777\u001b[0m             \u001b[0;31m# was dispatched. In particular this covers the edge\u001b[0m\u001b[0;34m\u001b[0m\u001b[0;34m\u001b[0m\u001b[0m\n\u001b[1;32m    778\u001b[0m             \u001b[0;31m# case of Parallel used with an exhausted iterator.\u001b[0m\u001b[0;34m\u001b[0m\u001b[0;34m\u001b[0m\u001b[0m\n\u001b[0;32m--> 779\u001b[0;31m             \u001b[0;32mwhile\u001b[0m \u001b[0mself\u001b[0m\u001b[0;34m.\u001b[0m\u001b[0mdispatch_one_batch\u001b[0m\u001b[0;34m(\u001b[0m\u001b[0miterator\u001b[0m\u001b[0;34m)\u001b[0m\u001b[0;34m:\u001b[0m\u001b[0;34m\u001b[0m\u001b[0m\n\u001b[0m\u001b[1;32m    780\u001b[0m                 \u001b[0mself\u001b[0m\u001b[0;34m.\u001b[0m\u001b[0m_iterating\u001b[0m \u001b[0;34m=\u001b[0m \u001b[0;32mTrue\u001b[0m\u001b[0;34m\u001b[0m\u001b[0m\n\u001b[1;32m    781\u001b[0m             \u001b[0;32melse\u001b[0m\u001b[0;34m:\u001b[0m\u001b[0;34m\u001b[0m\u001b[0m\n",
      "\u001b[0;32m/usr/local/anaconda3/lib/python3.6/site-packages/sklearn/externals/joblib/parallel.py\u001b[0m in \u001b[0;36mdispatch_one_batch\u001b[0;34m(self, iterator)\u001b[0m\n\u001b[1;32m    623\u001b[0m                 \u001b[0;32mreturn\u001b[0m \u001b[0;32mFalse\u001b[0m\u001b[0;34m\u001b[0m\u001b[0m\n\u001b[1;32m    624\u001b[0m             \u001b[0;32melse\u001b[0m\u001b[0;34m:\u001b[0m\u001b[0;34m\u001b[0m\u001b[0m\n\u001b[0;32m--> 625\u001b[0;31m                 \u001b[0mself\u001b[0m\u001b[0;34m.\u001b[0m\u001b[0m_dispatch\u001b[0m\u001b[0;34m(\u001b[0m\u001b[0mtasks\u001b[0m\u001b[0;34m)\u001b[0m\u001b[0;34m\u001b[0m\u001b[0m\n\u001b[0m\u001b[1;32m    626\u001b[0m                 \u001b[0;32mreturn\u001b[0m \u001b[0;32mTrue\u001b[0m\u001b[0;34m\u001b[0m\u001b[0m\n\u001b[1;32m    627\u001b[0m \u001b[0;34m\u001b[0m\u001b[0m\n",
      "\u001b[0;32m/usr/local/anaconda3/lib/python3.6/site-packages/sklearn/externals/joblib/parallel.py\u001b[0m in \u001b[0;36m_dispatch\u001b[0;34m(self, batch)\u001b[0m\n\u001b[1;32m    586\u001b[0m         \u001b[0mdispatch_timestamp\u001b[0m \u001b[0;34m=\u001b[0m \u001b[0mtime\u001b[0m\u001b[0;34m.\u001b[0m\u001b[0mtime\u001b[0m\u001b[0;34m(\u001b[0m\u001b[0;34m)\u001b[0m\u001b[0;34m\u001b[0m\u001b[0m\n\u001b[1;32m    587\u001b[0m         \u001b[0mcb\u001b[0m \u001b[0;34m=\u001b[0m \u001b[0mBatchCompletionCallBack\u001b[0m\u001b[0;34m(\u001b[0m\u001b[0mdispatch_timestamp\u001b[0m\u001b[0;34m,\u001b[0m \u001b[0mlen\u001b[0m\u001b[0;34m(\u001b[0m\u001b[0mbatch\u001b[0m\u001b[0;34m)\u001b[0m\u001b[0;34m,\u001b[0m \u001b[0mself\u001b[0m\u001b[0;34m)\u001b[0m\u001b[0;34m\u001b[0m\u001b[0m\n\u001b[0;32m--> 588\u001b[0;31m         \u001b[0mjob\u001b[0m \u001b[0;34m=\u001b[0m \u001b[0mself\u001b[0m\u001b[0;34m.\u001b[0m\u001b[0m_backend\u001b[0m\u001b[0;34m.\u001b[0m\u001b[0mapply_async\u001b[0m\u001b[0;34m(\u001b[0m\u001b[0mbatch\u001b[0m\u001b[0;34m,\u001b[0m \u001b[0mcallback\u001b[0m\u001b[0;34m=\u001b[0m\u001b[0mcb\u001b[0m\u001b[0;34m)\u001b[0m\u001b[0;34m\u001b[0m\u001b[0m\n\u001b[0m\u001b[1;32m    589\u001b[0m         \u001b[0mself\u001b[0m\u001b[0;34m.\u001b[0m\u001b[0m_jobs\u001b[0m\u001b[0;34m.\u001b[0m\u001b[0mappend\u001b[0m\u001b[0;34m(\u001b[0m\u001b[0mjob\u001b[0m\u001b[0;34m)\u001b[0m\u001b[0;34m\u001b[0m\u001b[0m\n\u001b[1;32m    590\u001b[0m \u001b[0;34m\u001b[0m\u001b[0m\n",
      "\u001b[0;32m/usr/local/anaconda3/lib/python3.6/site-packages/sklearn/externals/joblib/_parallel_backends.py\u001b[0m in \u001b[0;36mapply_async\u001b[0;34m(self, func, callback)\u001b[0m\n\u001b[1;32m    109\u001b[0m     \u001b[0;32mdef\u001b[0m \u001b[0mapply_async\u001b[0m\u001b[0;34m(\u001b[0m\u001b[0mself\u001b[0m\u001b[0;34m,\u001b[0m \u001b[0mfunc\u001b[0m\u001b[0;34m,\u001b[0m \u001b[0mcallback\u001b[0m\u001b[0;34m=\u001b[0m\u001b[0;32mNone\u001b[0m\u001b[0;34m)\u001b[0m\u001b[0;34m:\u001b[0m\u001b[0;34m\u001b[0m\u001b[0m\n\u001b[1;32m    110\u001b[0m         \u001b[0;34m\"\"\"Schedule a func to be run\"\"\"\u001b[0m\u001b[0;34m\u001b[0m\u001b[0m\n\u001b[0;32m--> 111\u001b[0;31m         \u001b[0mresult\u001b[0m \u001b[0;34m=\u001b[0m \u001b[0mImmediateResult\u001b[0m\u001b[0;34m(\u001b[0m\u001b[0mfunc\u001b[0m\u001b[0;34m)\u001b[0m\u001b[0;34m\u001b[0m\u001b[0m\n\u001b[0m\u001b[1;32m    112\u001b[0m         \u001b[0;32mif\u001b[0m \u001b[0mcallback\u001b[0m\u001b[0;34m:\u001b[0m\u001b[0;34m\u001b[0m\u001b[0m\n\u001b[1;32m    113\u001b[0m             \u001b[0mcallback\u001b[0m\u001b[0;34m(\u001b[0m\u001b[0mresult\u001b[0m\u001b[0;34m)\u001b[0m\u001b[0;34m\u001b[0m\u001b[0m\n",
      "\u001b[0;32m/usr/local/anaconda3/lib/python3.6/site-packages/sklearn/externals/joblib/_parallel_backends.py\u001b[0m in \u001b[0;36m__init__\u001b[0;34m(self, batch)\u001b[0m\n\u001b[1;32m    330\u001b[0m         \u001b[0;31m# Don't delay the application, to avoid keeping the input\u001b[0m\u001b[0;34m\u001b[0m\u001b[0;34m\u001b[0m\u001b[0m\n\u001b[1;32m    331\u001b[0m         \u001b[0;31m# arguments in memory\u001b[0m\u001b[0;34m\u001b[0m\u001b[0;34m\u001b[0m\u001b[0m\n\u001b[0;32m--> 332\u001b[0;31m         \u001b[0mself\u001b[0m\u001b[0;34m.\u001b[0m\u001b[0mresults\u001b[0m \u001b[0;34m=\u001b[0m \u001b[0mbatch\u001b[0m\u001b[0;34m(\u001b[0m\u001b[0;34m)\u001b[0m\u001b[0;34m\u001b[0m\u001b[0m\n\u001b[0m\u001b[1;32m    333\u001b[0m \u001b[0;34m\u001b[0m\u001b[0m\n\u001b[1;32m    334\u001b[0m     \u001b[0;32mdef\u001b[0m \u001b[0mget\u001b[0m\u001b[0;34m(\u001b[0m\u001b[0mself\u001b[0m\u001b[0;34m)\u001b[0m\u001b[0;34m:\u001b[0m\u001b[0;34m\u001b[0m\u001b[0m\n",
      "\u001b[0;32m/usr/local/anaconda3/lib/python3.6/site-packages/sklearn/externals/joblib/parallel.py\u001b[0m in \u001b[0;36m__call__\u001b[0;34m(self)\u001b[0m\n\u001b[1;32m    129\u001b[0m \u001b[0;34m\u001b[0m\u001b[0m\n\u001b[1;32m    130\u001b[0m     \u001b[0;32mdef\u001b[0m \u001b[0m__call__\u001b[0m\u001b[0;34m(\u001b[0m\u001b[0mself\u001b[0m\u001b[0;34m)\u001b[0m\u001b[0;34m:\u001b[0m\u001b[0;34m\u001b[0m\u001b[0m\n\u001b[0;32m--> 131\u001b[0;31m         \u001b[0;32mreturn\u001b[0m \u001b[0;34m[\u001b[0m\u001b[0mfunc\u001b[0m\u001b[0;34m(\u001b[0m\u001b[0;34m*\u001b[0m\u001b[0margs\u001b[0m\u001b[0;34m,\u001b[0m \u001b[0;34m**\u001b[0m\u001b[0mkwargs\u001b[0m\u001b[0;34m)\u001b[0m \u001b[0;32mfor\u001b[0m \u001b[0mfunc\u001b[0m\u001b[0;34m,\u001b[0m \u001b[0margs\u001b[0m\u001b[0;34m,\u001b[0m \u001b[0mkwargs\u001b[0m \u001b[0;32min\u001b[0m \u001b[0mself\u001b[0m\u001b[0;34m.\u001b[0m\u001b[0mitems\u001b[0m\u001b[0;34m]\u001b[0m\u001b[0;34m\u001b[0m\u001b[0m\n\u001b[0m\u001b[1;32m    132\u001b[0m \u001b[0;34m\u001b[0m\u001b[0m\n\u001b[1;32m    133\u001b[0m     \u001b[0;32mdef\u001b[0m \u001b[0m__len__\u001b[0m\u001b[0;34m(\u001b[0m\u001b[0mself\u001b[0m\u001b[0;34m)\u001b[0m\u001b[0;34m:\u001b[0m\u001b[0;34m\u001b[0m\u001b[0m\n",
      "\u001b[0;32m/usr/local/anaconda3/lib/python3.6/site-packages/sklearn/externals/joblib/parallel.py\u001b[0m in \u001b[0;36m<listcomp>\u001b[0;34m(.0)\u001b[0m\n\u001b[1;32m    129\u001b[0m \u001b[0;34m\u001b[0m\u001b[0m\n\u001b[1;32m    130\u001b[0m     \u001b[0;32mdef\u001b[0m \u001b[0m__call__\u001b[0m\u001b[0;34m(\u001b[0m\u001b[0mself\u001b[0m\u001b[0;34m)\u001b[0m\u001b[0;34m:\u001b[0m\u001b[0;34m\u001b[0m\u001b[0m\n\u001b[0;32m--> 131\u001b[0;31m         \u001b[0;32mreturn\u001b[0m \u001b[0;34m[\u001b[0m\u001b[0mfunc\u001b[0m\u001b[0;34m(\u001b[0m\u001b[0;34m*\u001b[0m\u001b[0margs\u001b[0m\u001b[0;34m,\u001b[0m \u001b[0;34m**\u001b[0m\u001b[0mkwargs\u001b[0m\u001b[0;34m)\u001b[0m \u001b[0;32mfor\u001b[0m \u001b[0mfunc\u001b[0m\u001b[0;34m,\u001b[0m \u001b[0margs\u001b[0m\u001b[0;34m,\u001b[0m \u001b[0mkwargs\u001b[0m \u001b[0;32min\u001b[0m \u001b[0mself\u001b[0m\u001b[0;34m.\u001b[0m\u001b[0mitems\u001b[0m\u001b[0;34m]\u001b[0m\u001b[0;34m\u001b[0m\u001b[0m\n\u001b[0m\u001b[1;32m    132\u001b[0m \u001b[0;34m\u001b[0m\u001b[0m\n\u001b[1;32m    133\u001b[0m     \u001b[0;32mdef\u001b[0m \u001b[0m__len__\u001b[0m\u001b[0;34m(\u001b[0m\u001b[0mself\u001b[0m\u001b[0;34m)\u001b[0m\u001b[0;34m:\u001b[0m\u001b[0;34m\u001b[0m\u001b[0m\n",
      "\u001b[0;32m/usr/local/anaconda3/lib/python3.6/site-packages/sklearn/model_selection/_validation.py\u001b[0m in \u001b[0;36m_fit_and_score\u001b[0;34m(estimator, X, y, scorer, train, test, verbose, parameters, fit_params, return_train_score, return_parameters, return_n_test_samples, return_times, error_score)\u001b[0m\n\u001b[1;32m    456\u001b[0m             \u001b[0mestimator\u001b[0m\u001b[0;34m.\u001b[0m\u001b[0mfit\u001b[0m\u001b[0;34m(\u001b[0m\u001b[0mX_train\u001b[0m\u001b[0;34m,\u001b[0m \u001b[0;34m**\u001b[0m\u001b[0mfit_params\u001b[0m\u001b[0;34m)\u001b[0m\u001b[0;34m\u001b[0m\u001b[0m\n\u001b[1;32m    457\u001b[0m         \u001b[0;32melse\u001b[0m\u001b[0;34m:\u001b[0m\u001b[0;34m\u001b[0m\u001b[0m\n\u001b[0;32m--> 458\u001b[0;31m             \u001b[0mestimator\u001b[0m\u001b[0;34m.\u001b[0m\u001b[0mfit\u001b[0m\u001b[0;34m(\u001b[0m\u001b[0mX_train\u001b[0m\u001b[0;34m,\u001b[0m \u001b[0my_train\u001b[0m\u001b[0;34m,\u001b[0m \u001b[0;34m**\u001b[0m\u001b[0mfit_params\u001b[0m\u001b[0;34m)\u001b[0m\u001b[0;34m\u001b[0m\u001b[0m\n\u001b[0m\u001b[1;32m    459\u001b[0m \u001b[0;34m\u001b[0m\u001b[0m\n\u001b[1;32m    460\u001b[0m     \u001b[0;32mexcept\u001b[0m \u001b[0mException\u001b[0m \u001b[0;32mas\u001b[0m \u001b[0me\u001b[0m\u001b[0;34m:\u001b[0m\u001b[0;34m\u001b[0m\u001b[0m\n",
      "\u001b[0;32m/usr/local/anaconda3/lib/python3.6/site-packages/sklearn/ensemble/gradient_boosting.py\u001b[0m in \u001b[0;36mfit\u001b[0;34m(self, X, y, sample_weight, monitor)\u001b[0m\n\u001b[1;32m   1032\u001b[0m         \u001b[0;31m# fit the boosting stages\u001b[0m\u001b[0;34m\u001b[0m\u001b[0;34m\u001b[0m\u001b[0m\n\u001b[1;32m   1033\u001b[0m         n_stages = self._fit_stages(X, y, y_pred, sample_weight, random_state,\n\u001b[0;32m-> 1034\u001b[0;31m                                     begin_at_stage, monitor, X_idx_sorted)\n\u001b[0m\u001b[1;32m   1035\u001b[0m         \u001b[0;31m# change shape of arrays after fit (early-stopping or additional ests)\u001b[0m\u001b[0;34m\u001b[0m\u001b[0;34m\u001b[0m\u001b[0m\n\u001b[1;32m   1036\u001b[0m         \u001b[0;32mif\u001b[0m \u001b[0mn_stages\u001b[0m \u001b[0;34m!=\u001b[0m \u001b[0mself\u001b[0m\u001b[0;34m.\u001b[0m\u001b[0mestimators_\u001b[0m\u001b[0;34m.\u001b[0m\u001b[0mshape\u001b[0m\u001b[0;34m[\u001b[0m\u001b[0;36m0\u001b[0m\u001b[0;34m]\u001b[0m\u001b[0;34m:\u001b[0m\u001b[0;34m\u001b[0m\u001b[0m\n",
      "\u001b[0;32m/usr/local/anaconda3/lib/python3.6/site-packages/sklearn/ensemble/gradient_boosting.py\u001b[0m in \u001b[0;36m_fit_stages\u001b[0;34m(self, X, y, y_pred, sample_weight, random_state, begin_at_stage, monitor, X_idx_sorted)\u001b[0m\n\u001b[1;32m   1087\u001b[0m             y_pred = self._fit_stage(i, X, y, y_pred, sample_weight,\n\u001b[1;32m   1088\u001b[0m                                      \u001b[0msample_mask\u001b[0m\u001b[0;34m,\u001b[0m \u001b[0mrandom_state\u001b[0m\u001b[0;34m,\u001b[0m \u001b[0mX_idx_sorted\u001b[0m\u001b[0;34m,\u001b[0m\u001b[0;34m\u001b[0m\u001b[0m\n\u001b[0;32m-> 1089\u001b[0;31m                                      X_csc, X_csr)\n\u001b[0m\u001b[1;32m   1090\u001b[0m \u001b[0;34m\u001b[0m\u001b[0m\n\u001b[1;32m   1091\u001b[0m             \u001b[0;31m# track deviance (= loss)\u001b[0m\u001b[0;34m\u001b[0m\u001b[0;34m\u001b[0m\u001b[0m\n",
      "\u001b[0;32m/usr/local/anaconda3/lib/python3.6/site-packages/sklearn/ensemble/gradient_boosting.py\u001b[0m in \u001b[0;36m_fit_stage\u001b[0;34m(self, i, X, y, y_pred, sample_weight, sample_mask, random_state, X_idx_sorted, X_csc, X_csr)\u001b[0m\n\u001b[1;32m    786\u001b[0m             \u001b[0;32melse\u001b[0m\u001b[0;34m:\u001b[0m\u001b[0;34m\u001b[0m\u001b[0m\n\u001b[1;32m    787\u001b[0m                 tree.fit(X, residual, sample_weight=sample_weight,\n\u001b[0;32m--> 788\u001b[0;31m                          check_input=False, X_idx_sorted=X_idx_sorted)\n\u001b[0m\u001b[1;32m    789\u001b[0m \u001b[0;34m\u001b[0m\u001b[0m\n\u001b[1;32m    790\u001b[0m             \u001b[0;31m# update tree leaves\u001b[0m\u001b[0;34m\u001b[0m\u001b[0;34m\u001b[0m\u001b[0m\n",
      "\u001b[0;32m/usr/local/anaconda3/lib/python3.6/site-packages/sklearn/tree/tree.py\u001b[0m in \u001b[0;36mfit\u001b[0;34m(self, X, y, sample_weight, check_input, X_idx_sorted)\u001b[0m\n\u001b[1;32m   1122\u001b[0m             \u001b[0msample_weight\u001b[0m\u001b[0;34m=\u001b[0m\u001b[0msample_weight\u001b[0m\u001b[0;34m,\u001b[0m\u001b[0;34m\u001b[0m\u001b[0m\n\u001b[1;32m   1123\u001b[0m             \u001b[0mcheck_input\u001b[0m\u001b[0;34m=\u001b[0m\u001b[0mcheck_input\u001b[0m\u001b[0;34m,\u001b[0m\u001b[0;34m\u001b[0m\u001b[0m\n\u001b[0;32m-> 1124\u001b[0;31m             X_idx_sorted=X_idx_sorted)\n\u001b[0m\u001b[1;32m   1125\u001b[0m         \u001b[0;32mreturn\u001b[0m \u001b[0mself\u001b[0m\u001b[0;34m\u001b[0m\u001b[0m\n\u001b[1;32m   1126\u001b[0m \u001b[0;34m\u001b[0m\u001b[0m\n",
      "\u001b[0;32m/usr/local/anaconda3/lib/python3.6/site-packages/sklearn/tree/tree.py\u001b[0m in \u001b[0;36mfit\u001b[0;34m(self, X, y, sample_weight, check_input, X_idx_sorted)\u001b[0m\n\u001b[1;32m    360\u001b[0m                                            min_impurity_split)\n\u001b[1;32m    361\u001b[0m \u001b[0;34m\u001b[0m\u001b[0m\n\u001b[0;32m--> 362\u001b[0;31m         \u001b[0mbuilder\u001b[0m\u001b[0;34m.\u001b[0m\u001b[0mbuild\u001b[0m\u001b[0;34m(\u001b[0m\u001b[0mself\u001b[0m\u001b[0;34m.\u001b[0m\u001b[0mtree_\u001b[0m\u001b[0;34m,\u001b[0m \u001b[0mX\u001b[0m\u001b[0;34m,\u001b[0m \u001b[0my\u001b[0m\u001b[0;34m,\u001b[0m \u001b[0msample_weight\u001b[0m\u001b[0;34m,\u001b[0m \u001b[0mX_idx_sorted\u001b[0m\u001b[0;34m)\u001b[0m\u001b[0;34m\u001b[0m\u001b[0m\n\u001b[0m\u001b[1;32m    363\u001b[0m \u001b[0;34m\u001b[0m\u001b[0m\n\u001b[1;32m    364\u001b[0m         \u001b[0;32mif\u001b[0m \u001b[0mself\u001b[0m\u001b[0;34m.\u001b[0m\u001b[0mn_outputs_\u001b[0m \u001b[0;34m==\u001b[0m \u001b[0;36m1\u001b[0m\u001b[0;34m:\u001b[0m\u001b[0;34m\u001b[0m\u001b[0m\n",
      "\u001b[0;31mKeyboardInterrupt\u001b[0m: "
     ]
    }
   ],
   "source": [
    "from sklearn.ensemble import  BaggingRegressor\n",
    "from sklearn.neighbors import KNeighborsRegressor\n",
    "from sklearn.ensemble import RandomForestRegressor\n",
    "from sklearn.ensemble import ExtraTreesRegressor\n",
    "from sklearn.ensemble import AdaBoostRegressor\n",
    "from sklearn.ensemble import GradientBoostingRegressor\n",
    "from sklearn.model_selection import cross_val_score\n",
    "from sklearn.tree import DecisionTreeRegressor\n",
    "from sklearn.naive_bayes import GaussianNB\n",
    "from sklearn.metrics import mean_squared_error\n",
    "\n",
    "\n",
    "clf={}\n",
    "#clf['Bagging_KNR']= BaggingRegressor(KNeighborsRegressor())\n",
    "#clf['Bagging_DT']= BaggingRegressor(DecisionTreeRegressor())\n",
    "#clf['RandomForest']=RandomForestRegressor()\n",
    "#clf['ExtraTrees']=ExtraTreesRegressor()\n",
    "#clf['AdaBoost']=AdaBoostRegressor()\n",
    "#clf['GradientBoost']=GradientBoostingRegressor()\n",
    "clf['GradientBoost_NB']=GradientBoostingRegressor(loss='lad', alpha=0.95,\n",
    "                                n_estimators=500, subsample=.5,\n",
    "                                learning_rate=.1, max_leaf_nodes=10\n",
    "                                )\n",
    "clf['GradientBoost_NB_2']=GradientBoostingRegressor(loss='lad',\n",
    "                                n_estimators=500, subsample=.5,\n",
    "                                learning_rate=.05, max_leaf_nodes=10\n",
    "                                )\n",
    "clf['GradientBoost_NB_3']=GradientBoostingRegressor(loss='lad',\n",
    "                                n_estimators=1000, subsample=.5,\n",
    "                                learning_rate=.05, max_leaf_nodes=10\n",
    "                                )\n",
    "clf['GradientBoost_NB_4']=GradientBoostingRegressor(loss='lad',\n",
    "                                n_estimators=1000, subsample=.5,\n",
    "                                learning_rate=.01, max_leaf_nodes=10)\n",
    "clf['GradientBoost_NB_ls']=GradientBoostingRegressor(\n",
    "                                n_estimators=500, subsample=.5,\n",
    "                                learning_rate=.1, max_leaf_nodes=10\n",
    "                                )\n",
    "clf['GradientBoost_NB_5']=GradientBoostingRegressor(loss='lad',\n",
    "                                n_estimators=500, subsample=.5,\n",
    "                                learning_rate=.05, max_leaf_nodes=5\n",
    "                                )\n",
    "\n",
    "#clf['GaussianNB']=GaussianNB()\n",
    "\n",
    "for key,obj in clf.items():\n",
    "    scores= np.sqrt(-cross_val_score(obj,train_new,target_new,scoring='neg_mean_squared_error'))\n",
    "\n",
    "    print(\"{}: {:.6f}, {:.4f}\".format(key,scores.mean(),scores.std()))\n",
    "    obj.fit(train_new,target_new)"
   ]
  },
  {
   "cell_type": "code",
   "execution_count": null,
   "metadata": {},
   "outputs": [],
   "source": []
  },
  {
   "cell_type": "code",
   "execution_count": null,
   "metadata": {},
   "outputs": [],
   "source": []
  },
  {
   "cell_type": "code",
   "execution_count": null,
   "metadata": {},
   "outputs": [],
   "source": []
  },
  {
   "cell_type": "code",
   "execution_count": null,
   "metadata": {},
   "outputs": [],
   "source": []
  },
  {
   "cell_type": "code",
   "execution_count": null,
   "metadata": {},
   "outputs": [],
   "source": []
  },
  {
   "cell_type": "code",
   "execution_count": null,
   "metadata": {},
   "outputs": [],
   "source": [
    "test=pd.read_csv('test.csv')"
   ]
  },
  {
   "cell_type": "code",
   "execution_count": null,
   "metadata": {},
   "outputs": [],
   "source": [
    "test.head()"
   ]
  },
  {
   "cell_type": "code",
   "execution_count": null,
   "metadata": {},
   "outputs": [],
   "source": [
    "Y=test.drop([\"Id\"],axis=1);Y.columns.size"
   ]
  },
  {
   "cell_type": "code",
   "execution_count": null,
   "metadata": {},
   "outputs": [],
   "source": [
    "for col in Y.columns:\n",
    "    if Y[Y[col].isnull()==True][col].size>0 :\n",
    "        print(col,Y[Y[col].isnull()==True][col].size)"
   ]
  },
  {
   "cell_type": "code",
   "execution_count": null,
   "metadata": {},
   "outputs": [],
   "source": [
    "for x in Y['MSSubClass'].values:\n",
    "    Y.loc[Y['MSSubClass']==x,'MSSubClass']='sub'+str(x)\n",
    "\n",
    "Y['MSSubClass'].astype('O')"
   ]
  },
  {
   "cell_type": "code",
   "execution_count": null,
   "metadata": {},
   "outputs": [],
   "source": [
    "Y['GarageYrBlt']=Y['GarageYrBlt'].fillna(0)\n",
    "Y['GarageYrBlt'].astype('int64')"
   ]
  },
  {
   "cell_type": "code",
   "execution_count": null,
   "metadata": {},
   "outputs": [],
   "source": [
    "data['MSZoning'].value_counts()"
   ]
  },
  {
   "cell_type": "code",
   "execution_count": null,
   "metadata": {},
   "outputs": [],
   "source": [
    "Y['MSZoning']=Y['MSZoning'].fillna('RL')\n",
    "        "
   ]
  },
  {
   "cell_type": "code",
   "execution_count": null,
   "metadata": {},
   "outputs": [],
   "source": [
    "Y['LotFrontage']=Y['LotFrontage'].fillna(Y['LotFrontage'].mean())"
   ]
  },
  {
   "cell_type": "code",
   "execution_count": null,
   "metadata": {},
   "outputs": [],
   "source": [
    "Y['Alley']=Y['Alley'].fillna('None')"
   ]
  },
  {
   "cell_type": "code",
   "execution_count": null,
   "metadata": {},
   "outputs": [],
   "source": [
    "data['Utilities'].value_counts()\n",
    "\n"
   ]
  },
  {
   "cell_type": "code",
   "execution_count": null,
   "metadata": {},
   "outputs": [],
   "source": [
    "Y['Utilities']=Y['Utilities'].fillna('AllPub')\n",
    "\n",
    "\n"
   ]
  },
  {
   "cell_type": "code",
   "execution_count": null,
   "metadata": {},
   "outputs": [],
   "source": [
    "data['Exterior1st'].value_counts()"
   ]
  },
  {
   "cell_type": "code",
   "execution_count": null,
   "metadata": {},
   "outputs": [],
   "source": [
    "data['Exterior2nd'].value_counts()"
   ]
  },
  {
   "cell_type": "code",
   "execution_count": null,
   "metadata": {},
   "outputs": [],
   "source": [
    "Y['Exterior1st']=Y['Exterior1st'].fillna('VinylSd')\n",
    "Y['Exterior2nd']=Y['Exterior2nd'].fillna('VinylSd')\n",
    "\n"
   ]
  },
  {
   "cell_type": "code",
   "execution_count": null,
   "metadata": {},
   "outputs": [],
   "source": [
    "Y[Y['MasVnrType'].isna()==True][['MasVnrType','MasVnrArea']]"
   ]
  },
  {
   "cell_type": "code",
   "execution_count": null,
   "metadata": {},
   "outputs": [],
   "source": [
    "Y.loc[1150,'MasVnrArea']=0"
   ]
  },
  {
   "cell_type": "code",
   "execution_count": null,
   "metadata": {},
   "outputs": [],
   "source": [
    "Y['MasVnrType']=Y['MasVnrType'].fillna('None')"
   ]
  },
  {
   "cell_type": "code",
   "execution_count": null,
   "metadata": {},
   "outputs": [],
   "source": [
    "Y['MasVnrArea']=Y['MasVnrArea'].fillna(0)"
   ]
  },
  {
   "cell_type": "code",
   "execution_count": null,
   "metadata": {},
   "outputs": [],
   "source": [
    "d=['BsmtQual','BsmtCond','BsmtExposure','BsmtFinType1','BsmtFinSF1','BsmtFinType2','BsmtFinSF2','BsmtUnfSF','TotalBsmtSF','BsmtFullBath','BsmtHalfBath']"
   ]
  },
  {
   "cell_type": "code",
   "execution_count": null,
   "metadata": {},
   "outputs": [],
   "source": [
    "Y[Y['BsmtCond'].isna()==True][d]"
   ]
  },
  {
   "cell_type": "code",
   "execution_count": null,
   "metadata": {},
   "outputs": [],
   "source": [
    "data[(data['BsmtQual']=='TA')&(data['BsmtExposure']=='Av')][d]"
   ]
  },
  {
   "cell_type": "code",
   "execution_count": null,
   "metadata": {},
   "outputs": [],
   "source": [
    "Y.loc[1064,'BsmtCond']='TA'\n",
    "Y.loc[725,'BsmtCond']='TA'\n",
    "Y.loc[580,'BsmtCond']='TA'"
   ]
  },
  {
   "cell_type": "code",
   "execution_count": null,
   "metadata": {},
   "outputs": [],
   "source": []
  },
  {
   "cell_type": "code",
   "execution_count": null,
   "metadata": {},
   "outputs": [],
   "source": [
    "for x in d:\n",
    "    if Y[x].dtype=='O':\n",
    "        Y[x]=Y[x].fillna('None')\n",
    "    else:\n",
    "        Y[x]=Y[x].fillna(0)\n",
    "\n"
   ]
  },
  {
   "cell_type": "code",
   "execution_count": null,
   "metadata": {},
   "outputs": [],
   "source": [
    "for col in Y.columns:\n",
    "    if Y[Y[col].isnull()==True][col].size>0 :\n",
    "        print(col,Y[Y[col].isnull()==True][col].size)"
   ]
  },
  {
   "cell_type": "code",
   "execution_count": null,
   "metadata": {},
   "outputs": [],
   "source": [
    "data['Functional'].value_counts()"
   ]
  },
  {
   "cell_type": "code",
   "execution_count": null,
   "metadata": {},
   "outputs": [],
   "source": [
    "Y['KitchenQual']=Y['KitchenQual'].fillna('TA')\n",
    "\n",
    "Y['Functional']=Y['Functional'].fillna('Typ')\n",
    "\n",
    "\n"
   ]
  },
  {
   "cell_type": "code",
   "execution_count": null,
   "metadata": {},
   "outputs": [],
   "source": [
    "data['KitchenQual'].value_counts()"
   ]
  },
  {
   "cell_type": "code",
   "execution_count": null,
   "metadata": {},
   "outputs": [],
   "source": [
    "Y[(Y['FireplaceQu'].isna()==True)&(Y['Fireplaces']!=0)][['FireplaceQu','Fireplaces']]"
   ]
  },
  {
   "cell_type": "code",
   "execution_count": null,
   "metadata": {},
   "outputs": [],
   "source": [
    "Y['FireplaceQu']=Y['FireplaceQu'].fillna('None')\n",
    "\n"
   ]
  },
  {
   "cell_type": "code",
   "execution_count": null,
   "metadata": {},
   "outputs": [],
   "source": [
    "d=['GarageType','GarageYrBlt','GarageFinish','GarageCars','GarageArea','GarageQual','GarageCond']"
   ]
  },
  {
   "cell_type": "code",
   "execution_count": null,
   "metadata": {},
   "outputs": [],
   "source": [
    "Y[(Y['GarageYrBlt'].isna()==True)&(Y['GarageType'].isna()==False)][d]"
   ]
  },
  {
   "cell_type": "code",
   "execution_count": null,
   "metadata": {},
   "outputs": [],
   "source": [
    "Y.loc[1116,'GarageType']='None'\n",
    "Y.loc[666,'GarageType']='Detchd'\n",
    "\n"
   ]
  },
  {
   "cell_type": "code",
   "execution_count": null,
   "metadata": {},
   "outputs": [],
   "source": [
    "Y[(Y['GarageType']=='Detchd')&(Y['GarageArea']==360)][d]"
   ]
  },
  {
   "cell_type": "code",
   "execution_count": null,
   "metadata": {
    "scrolled": true
   },
   "outputs": [],
   "source": [
    "data[(data['GarageType']=='Detchd')&(data['GarageArea']==360)][d]"
   ]
  },
  {
   "cell_type": "code",
   "execution_count": null,
   "metadata": {},
   "outputs": [],
   "source": [
    "Y.loc[666,['GarageYrBlt','GarageFinish','GarageQual','GarageCond']]=[1965.0,'Unf','TA','TA']"
   ]
  },
  {
   "cell_type": "code",
   "execution_count": null,
   "metadata": {},
   "outputs": [],
   "source": [
    "Y.loc[666,d]"
   ]
  },
  {
   "cell_type": "code",
   "execution_count": null,
   "metadata": {},
   "outputs": [],
   "source": [
    "for x in d:\n",
    "    if Y[x].dtype=='O':\n",
    "        Y[x]=Y[x].fillna('None')\n",
    "    else:\n",
    "        Y[x]=Y[x].fillna(0)"
   ]
  },
  {
   "cell_type": "code",
   "execution_count": null,
   "metadata": {},
   "outputs": [],
   "source": [
    "Y[(Y['PoolQC'].isna()==True)&(Y['PoolArea']!=0)][['PoolQC','PoolArea']]"
   ]
  },
  {
   "cell_type": "code",
   "execution_count": null,
   "metadata": {},
   "outputs": [],
   "source": [
    "Y.loc[[960,1043,1139],'PoolQC']='Gd'"
   ]
  },
  {
   "cell_type": "code",
   "execution_count": null,
   "metadata": {},
   "outputs": [],
   "source": [
    "Y['PoolQC']=Y['PoolQC'].fillna('None')\n",
    "Y['Fence']=Y['Fence'].fillna('None')\n",
    "Y['MiscFeature']=Y['MiscFeature'].fillna('None')"
   ]
  },
  {
   "cell_type": "code",
   "execution_count": null,
   "metadata": {},
   "outputs": [],
   "source": [
    "Y['SaleType']=Y['SaleType'].fillna('WD')"
   ]
  },
  {
   "cell_type": "code",
   "execution_count": null,
   "metadata": {},
   "outputs": [],
   "source": [
    "print(object_value['MSSubClass'],Y['MSSubClass'].unique())"
   ]
  },
  {
   "cell_type": "code",
   "execution_count": null,
   "metadata": {},
   "outputs": [],
   "source": [
    "for key,lis in object_value.items():\n",
    "    if Y[col].dtype=='O':\n",
    "        for index,val in lis.items():\n",
    "            if val in Y[key].unique():\n",
    "                print(key,index,val)\n",
    "                Y.loc[Y[key]==val,key]=index\n",
    "        \n",
    "        print(key)\n",
    "        Y[key].astype('int64')"
   ]
  },
  {
   "cell_type": "code",
   "execution_count": null,
   "metadata": {},
   "outputs": [],
   "source": []
  },
  {
   "cell_type": "code",
   "execution_count": null,
   "metadata": {},
   "outputs": [],
   "source": [
    "for x in train.columns:\n",
    "    print(x,train[key].dtype)"
   ]
  },
  {
   "cell_type": "code",
   "execution_count": null,
   "metadata": {},
   "outputs": [],
   "source": [
    "for x in Y.columns:\n",
    "    if 'None' in Y[x].unique():\n",
    "        print(x,Y[x].unique())"
   ]
  },
  {
   "cell_type": "code",
   "execution_count": null,
   "metadata": {},
   "outputs": [],
   "source": []
  },
  {
   "cell_type": "code",
   "execution_count": null,
   "metadata": {},
   "outputs": [],
   "source": [
    "sub=clf['GradientBoost_NB_2'].predict(Y)"
   ]
  },
  {
   "cell_type": "code",
   "execution_count": null,
   "metadata": {},
   "outputs": [],
   "source": [
    "submission=pd.DataFrame(sub,columns=['SalePrice'])"
   ]
  },
  {
   "cell_type": "code",
   "execution_count": null,
   "metadata": {},
   "outputs": [],
   "source": [
    "submission['Id']=test['Id']"
   ]
  },
  {
   "cell_type": "code",
   "execution_count": null,
   "metadata": {},
   "outputs": [],
   "source": [
    "submission.head()"
   ]
  },
  {
   "cell_type": "code",
   "execution_count": null,
   "metadata": {},
   "outputs": [],
   "source": [
    "submission=submission[['Id','SalePrice']]"
   ]
  },
  {
   "cell_type": "code",
   "execution_count": null,
   "metadata": {},
   "outputs": [],
   "source": [
    "submission.to_csv(\"submission.csv\",index=False)"
   ]
  },
  {
   "cell_type": "code",
   "execution_count": null,
   "metadata": {},
   "outputs": [],
   "source": []
  },
  {
   "cell_type": "code",
   "execution_count": null,
   "metadata": {},
   "outputs": [],
   "source": []
  },
  {
   "cell_type": "code",
   "execution_count": null,
   "metadata": {},
   "outputs": [],
   "source": []
  },
  {
   "cell_type": "code",
   "execution_count": null,
   "metadata": {},
   "outputs": [],
   "source": []
  },
  {
   "cell_type": "code",
   "execution_count": null,
   "metadata": {},
   "outputs": [],
   "source": []
  }
 ],
 "metadata": {
  "kernelspec": {
   "display_name": "Python 3",
   "language": "python",
   "name": "python3"
  },
  "language_info": {
   "codemirror_mode": {
    "name": "ipython",
    "version": 3
   },
   "file_extension": ".py",
   "mimetype": "text/x-python",
   "name": "python",
   "nbconvert_exporter": "python",
   "pygments_lexer": "ipython3",
   "version": "3.6.4"
  }
 },
 "nbformat": 4,
 "nbformat_minor": 2
}
