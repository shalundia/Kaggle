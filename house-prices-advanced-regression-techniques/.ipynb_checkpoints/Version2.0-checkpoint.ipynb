{
 "cells": [
  {
   "cell_type": "code",
   "execution_count": 4,
   "metadata": {},
   "outputs": [],
   "source": [
    "import pandas as pd\n",
    "import numpy as np"
   ]
  },
  {
   "cell_type": "code",
   "execution_count": 5,
   "metadata": {},
   "outputs": [],
   "source": [
    "data=pd.read_csv(\"train.csv\")"
   ]
  },
  {
   "cell_type": "code",
   "execution_count": 6,
   "metadata": {},
   "outputs": [
    {
     "data": {
      "text/html": [
       "<div>\n",
       "<style scoped>\n",
       "    .dataframe tbody tr th:only-of-type {\n",
       "        vertical-align: middle;\n",
       "    }\n",
       "\n",
       "    .dataframe tbody tr th {\n",
       "        vertical-align: top;\n",
       "    }\n",
       "\n",
       "    .dataframe thead th {\n",
       "        text-align: right;\n",
       "    }\n",
       "</style>\n",
       "<table border=\"1\" class=\"dataframe\">\n",
       "  <thead>\n",
       "    <tr style=\"text-align: right;\">\n",
       "      <th></th>\n",
       "      <th>Id</th>\n",
       "      <th>MSSubClass</th>\n",
       "      <th>MSZoning</th>\n",
       "      <th>LotFrontage</th>\n",
       "      <th>LotArea</th>\n",
       "      <th>Street</th>\n",
       "      <th>Alley</th>\n",
       "      <th>LotShape</th>\n",
       "      <th>LandContour</th>\n",
       "      <th>Utilities</th>\n",
       "      <th>...</th>\n",
       "      <th>PoolArea</th>\n",
       "      <th>PoolQC</th>\n",
       "      <th>Fence</th>\n",
       "      <th>MiscFeature</th>\n",
       "      <th>MiscVal</th>\n",
       "      <th>MoSold</th>\n",
       "      <th>YrSold</th>\n",
       "      <th>SaleType</th>\n",
       "      <th>SaleCondition</th>\n",
       "      <th>SalePrice</th>\n",
       "    </tr>\n",
       "  </thead>\n",
       "  <tbody>\n",
       "    <tr>\n",
       "      <th>0</th>\n",
       "      <td>1</td>\n",
       "      <td>60</td>\n",
       "      <td>RL</td>\n",
       "      <td>65.0</td>\n",
       "      <td>8450</td>\n",
       "      <td>Pave</td>\n",
       "      <td>NaN</td>\n",
       "      <td>Reg</td>\n",
       "      <td>Lvl</td>\n",
       "      <td>AllPub</td>\n",
       "      <td>...</td>\n",
       "      <td>0</td>\n",
       "      <td>NaN</td>\n",
       "      <td>NaN</td>\n",
       "      <td>NaN</td>\n",
       "      <td>0</td>\n",
       "      <td>2</td>\n",
       "      <td>2008</td>\n",
       "      <td>WD</td>\n",
       "      <td>Normal</td>\n",
       "      <td>208500</td>\n",
       "    </tr>\n",
       "  </tbody>\n",
       "</table>\n",
       "<p>1 rows × 81 columns</p>\n",
       "</div>"
      ],
      "text/plain": [
       "   Id  MSSubClass MSZoning  LotFrontage  LotArea Street Alley LotShape  \\\n",
       "0   1          60       RL         65.0     8450   Pave   NaN      Reg   \n",
       "\n",
       "  LandContour Utilities    ...     PoolArea PoolQC Fence MiscFeature MiscVal  \\\n",
       "0         Lvl    AllPub    ...            0    NaN   NaN         NaN       0   \n",
       "\n",
       "  MoSold YrSold  SaleType  SaleCondition  SalePrice  \n",
       "0      2   2008        WD         Normal     208500  \n",
       "\n",
       "[1 rows x 81 columns]"
      ]
     },
     "execution_count": 6,
     "metadata": {},
     "output_type": "execute_result"
    }
   ],
   "source": [
    "data.head(1)"
   ]
  },
  {
   "cell_type": "code",
   "execution_count": 7,
   "metadata": {},
   "outputs": [
    {
     "data": {
      "text/plain": [
       "Index(['Id', 'MSSubClass', 'MSZoning', 'LotFrontage', 'LotArea', 'Street',\n",
       "       'Alley', 'LotShape', 'LandContour', 'Utilities', 'LotConfig',\n",
       "       'LandSlope', 'Neighborhood', 'Condition1', 'Condition2', 'BldgType',\n",
       "       'HouseStyle', 'OverallQual', 'OverallCond', 'YearBuilt', 'YearRemodAdd',\n",
       "       'RoofStyle', 'RoofMatl', 'Exterior1st', 'Exterior2nd', 'MasVnrType',\n",
       "       'MasVnrArea', 'ExterQual', 'ExterCond', 'Foundation', 'BsmtQual',\n",
       "       'BsmtCond', 'BsmtExposure', 'BsmtFinType1', 'BsmtFinSF1',\n",
       "       'BsmtFinType2', 'BsmtFinSF2', 'BsmtUnfSF', 'TotalBsmtSF', 'Heating',\n",
       "       'HeatingQC', 'CentralAir', 'Electrical', '1stFlrSF', '2ndFlrSF',\n",
       "       'LowQualFinSF', 'GrLivArea', 'BsmtFullBath', 'BsmtHalfBath', 'FullBath',\n",
       "       'HalfBath', 'BedroomAbvGr', 'KitchenAbvGr', 'KitchenQual',\n",
       "       'TotRmsAbvGrd', 'Functional', 'Fireplaces', 'FireplaceQu', 'GarageType',\n",
       "       'GarageYrBlt', 'GarageFinish', 'GarageCars', 'GarageArea', 'GarageQual',\n",
       "       'GarageCond', 'PavedDrive', 'WoodDeckSF', 'OpenPorchSF',\n",
       "       'EnclosedPorch', '3SsnPorch', 'ScreenPorch', 'PoolArea', 'PoolQC',\n",
       "       'Fence', 'MiscFeature', 'MiscVal', 'MoSold', 'YrSold', 'SaleType',\n",
       "       'SaleCondition', 'SalePrice'],\n",
       "      dtype='object')"
      ]
     },
     "execution_count": 7,
     "metadata": {},
     "output_type": "execute_result"
    }
   ],
   "source": [
    "data.columns"
   ]
  },
  {
   "cell_type": "code",
   "execution_count": 8,
   "metadata": {},
   "outputs": [],
   "source": [
    "train=data.drop([\"Id\",\"SalePrice\"],axis=1)"
   ]
  },
  {
   "cell_type": "code",
   "execution_count": 9,
   "metadata": {},
   "outputs": [
    {
     "data": {
      "text/plain": [
       "Index(['MSSubClass', 'MSZoning', 'LotFrontage', 'LotArea', 'Street', 'Alley',\n",
       "       'LotShape', 'LandContour', 'Utilities', 'LotConfig', 'LandSlope',\n",
       "       'Neighborhood', 'Condition1', 'Condition2', 'BldgType', 'HouseStyle',\n",
       "       'OverallQual', 'OverallCond', 'YearBuilt', 'YearRemodAdd', 'RoofStyle',\n",
       "       'RoofMatl', 'Exterior1st', 'Exterior2nd', 'MasVnrType', 'MasVnrArea',\n",
       "       'ExterQual', 'ExterCond', 'Foundation', 'BsmtQual', 'BsmtCond',\n",
       "       'BsmtExposure', 'BsmtFinType1', 'BsmtFinSF1', 'BsmtFinType2',\n",
       "       'BsmtFinSF2', 'BsmtUnfSF', 'TotalBsmtSF', 'Heating', 'HeatingQC',\n",
       "       'CentralAir', 'Electrical', '1stFlrSF', '2ndFlrSF', 'LowQualFinSF',\n",
       "       'GrLivArea', 'BsmtFullBath', 'BsmtHalfBath', 'FullBath', 'HalfBath',\n",
       "       'BedroomAbvGr', 'KitchenAbvGr', 'KitchenQual', 'TotRmsAbvGrd',\n",
       "       'Functional', 'Fireplaces', 'FireplaceQu', 'GarageType', 'GarageYrBlt',\n",
       "       'GarageFinish', 'GarageCars', 'GarageArea', 'GarageQual', 'GarageCond',\n",
       "       'PavedDrive', 'WoodDeckSF', 'OpenPorchSF', 'EnclosedPorch', '3SsnPorch',\n",
       "       'ScreenPorch', 'PoolArea', 'PoolQC', 'Fence', 'MiscFeature', 'MiscVal',\n",
       "       'MoSold', 'YrSold', 'SaleType', 'SaleCondition'],\n",
       "      dtype='object')"
      ]
     },
     "execution_count": 9,
     "metadata": {},
     "output_type": "execute_result"
    }
   ],
   "source": [
    "train.columns"
   ]
  },
  {
   "cell_type": "code",
   "execution_count": 10,
   "metadata": {},
   "outputs": [],
   "source": [
    "target = data[\"SalePrice\"]"
   ]
  },
  {
   "cell_type": "code",
   "execution_count": 11,
   "metadata": {},
   "outputs": [
    {
     "data": {
      "text/plain": [
       "array([dtype('int64'), dtype('float64'), dtype('O')], dtype=object)"
      ]
     },
     "execution_count": 11,
     "metadata": {},
     "output_type": "execute_result"
    }
   ],
   "source": [
    "data_type=[]\n",
    "for col in train.columns:\n",
    "   data_type.append(train[col].dtype)\n",
    "data_type=np.unique(data_type)\n",
    "data_type"
   ]
  },
  {
   "cell_type": "code",
   "execution_count": 12,
   "metadata": {},
   "outputs": [
    {
     "data": {
      "text/plain": [
       "{'Alley': {0: '-1', 1: 'Grvl', 2: 'Pave'},\n",
       " 'BldgType': {0: '1Fam', 1: '2fmCon', 2: 'Duplex', 3: 'TwnhsE', 4: 'Twnhs'},\n",
       " 'BsmtCond': {0: 'TA', 1: 'Gd', 2: '-1', 3: 'Fa', 4: 'Po'},\n",
       " 'BsmtExposure': {0: 'No', 1: 'Gd', 2: 'Mn', 3: 'Av', 4: '-1'},\n",
       " 'BsmtFinType1': {0: 'GLQ',\n",
       "  1: 'ALQ',\n",
       "  2: 'Unf',\n",
       "  3: 'Rec',\n",
       "  4: 'BLQ',\n",
       "  5: '-1',\n",
       "  6: 'LwQ'},\n",
       " 'BsmtFinType2': {0: 'Unf',\n",
       "  1: 'BLQ',\n",
       "  2: '-1',\n",
       "  3: 'ALQ',\n",
       "  4: 'Rec',\n",
       "  5: 'LwQ',\n",
       "  6: 'GLQ'},\n",
       " 'BsmtQual': {0: 'Gd', 1: 'TA', 2: 'Ex', 3: '-1', 4: 'Fa'},\n",
       " 'CentralAir': {0: 'Y', 1: 'N'},\n",
       " 'Condition1': {0: 'Norm',\n",
       "  1: 'Feedr',\n",
       "  2: 'PosN',\n",
       "  3: 'Artery',\n",
       "  4: 'RRAe',\n",
       "  5: 'RRNn',\n",
       "  6: 'RRAn',\n",
       "  7: 'PosA',\n",
       "  8: 'RRNe'},\n",
       " 'Condition2': {0: 'Norm',\n",
       "  1: 'Artery',\n",
       "  2: 'RRNn',\n",
       "  3: 'Feedr',\n",
       "  4: 'PosN',\n",
       "  5: 'PosA',\n",
       "  6: 'RRAn',\n",
       "  7: 'RRAe'},\n",
       " 'Electrical': {0: 'SBrkr',\n",
       "  1: 'FuseF',\n",
       "  2: 'FuseA',\n",
       "  3: 'FuseP',\n",
       "  4: 'Mix',\n",
       "  5: '-1'},\n",
       " 'ExterCond': {0: 'TA', 1: 'Gd', 2: 'Fa', 3: 'Po', 4: 'Ex'},\n",
       " 'ExterQual': {0: 'Gd', 1: 'TA', 2: 'Ex', 3: 'Fa'},\n",
       " 'Exterior1st': {0: 'VinylSd',\n",
       "  1: 'MetalSd',\n",
       "  2: 'Wd Sdng',\n",
       "  3: 'HdBoard',\n",
       "  4: 'BrkFace',\n",
       "  5: 'WdShing',\n",
       "  6: 'CemntBd',\n",
       "  7: 'Plywood',\n",
       "  8: 'AsbShng',\n",
       "  9: 'Stucco',\n",
       "  10: 'BrkComm',\n",
       "  11: 'AsphShn',\n",
       "  12: 'Stone',\n",
       "  13: 'ImStucc',\n",
       "  14: 'CBlock'},\n",
       " 'Exterior2nd': {0: 'VinylSd',\n",
       "  1: 'MetalSd',\n",
       "  2: 'Wd Shng',\n",
       "  3: 'HdBoard',\n",
       "  4: 'Plywood',\n",
       "  5: 'Wd Sdng',\n",
       "  6: 'CmentBd',\n",
       "  7: 'BrkFace',\n",
       "  8: 'Stucco',\n",
       "  9: 'AsbShng',\n",
       "  10: 'Brk Cmn',\n",
       "  11: 'ImStucc',\n",
       "  12: 'AsphShn',\n",
       "  13: 'Stone',\n",
       "  14: 'Other',\n",
       "  15: 'CBlock'},\n",
       " 'Fence': {0: '-1', 1: 'MnPrv', 2: 'GdWo', 3: 'GdPrv', 4: 'MnWw'},\n",
       " 'FireplaceQu': {0: '-1', 1: 'TA', 2: 'Gd', 3: 'Fa', 4: 'Ex', 5: 'Po'},\n",
       " 'Foundation': {0: 'PConc',\n",
       "  1: 'CBlock',\n",
       "  2: 'BrkTil',\n",
       "  3: 'Wood',\n",
       "  4: 'Slab',\n",
       "  5: 'Stone'},\n",
       " 'Functional': {0: 'Typ',\n",
       "  1: 'Min1',\n",
       "  2: 'Maj1',\n",
       "  3: 'Min2',\n",
       "  4: 'Mod',\n",
       "  5: 'Maj2',\n",
       "  6: 'Sev'},\n",
       " 'GarageCond': {0: 'TA', 1: 'Fa', 2: '-1', 3: 'Gd', 4: 'Po', 5: 'Ex'},\n",
       " 'GarageFinish': {0: 'RFn', 1: 'Unf', 2: 'Fin', 3: '-1'},\n",
       " 'GarageQual': {0: 'TA', 1: 'Fa', 2: 'Gd', 3: '-1', 4: 'Ex', 5: 'Po'},\n",
       " 'GarageType': {0: 'Attchd',\n",
       "  1: 'Detchd',\n",
       "  2: 'BuiltIn',\n",
       "  3: 'CarPort',\n",
       "  4: '-1',\n",
       "  5: 'Basment',\n",
       "  6: '2Types'},\n",
       " 'Heating': {0: 'GasA',\n",
       "  1: 'GasW',\n",
       "  2: 'Grav',\n",
       "  3: 'Wall',\n",
       "  4: 'OthW',\n",
       "  5: 'Floor'},\n",
       " 'HeatingQC': {0: 'Ex', 1: 'Gd', 2: 'TA', 3: 'Fa', 4: 'Po'},\n",
       " 'HouseStyle': {0: '2Story',\n",
       "  1: '1Story',\n",
       "  2: '1.5Fin',\n",
       "  3: '1.5Unf',\n",
       "  4: 'SFoyer',\n",
       "  5: 'SLvl',\n",
       "  6: '2.5Unf',\n",
       "  7: '2.5Fin'},\n",
       " 'KitchenQual': {0: 'Gd', 1: 'TA', 2: 'Ex', 3: 'Fa'},\n",
       " 'LandContour': {0: 'Lvl', 1: 'Bnk', 2: 'Low', 3: 'HLS'},\n",
       " 'LandSlope': {0: 'Gtl', 1: 'Mod', 2: 'Sev'},\n",
       " 'LotConfig': {0: 'Inside', 1: 'FR2', 2: 'Corner', 3: 'CulDSac', 4: 'FR3'},\n",
       " 'LotShape': {0: 'Reg', 1: 'IR1', 2: 'IR2', 3: 'IR3'},\n",
       " 'MSZoning': {0: 'RL', 1: 'RM', 2: 'C (all)', 3: 'FV', 4: 'RH'},\n",
       " 'MasVnrType': {0: 'BrkFace', 1: 'None', 2: 'Stone', 3: 'BrkCmn', 4: '-1'},\n",
       " 'MiscFeature': {0: '-1', 1: 'Shed', 2: 'Gar2', 3: 'Othr', 4: 'TenC'},\n",
       " 'Neighborhood': {0: 'CollgCr',\n",
       "  1: 'Veenker',\n",
       "  2: 'Crawfor',\n",
       "  3: 'NoRidge',\n",
       "  4: 'Mitchel',\n",
       "  5: 'Somerst',\n",
       "  6: 'NWAmes',\n",
       "  7: 'OldTown',\n",
       "  8: 'BrkSide',\n",
       "  9: 'Sawyer',\n",
       "  10: 'NridgHt',\n",
       "  11: 'NAmes',\n",
       "  12: 'SawyerW',\n",
       "  13: 'IDOTRR',\n",
       "  14: 'MeadowV',\n",
       "  15: 'Edwards',\n",
       "  16: 'Timber',\n",
       "  17: 'Gilbert',\n",
       "  18: 'StoneBr',\n",
       "  19: 'ClearCr',\n",
       "  20: 'NPkVill',\n",
       "  21: 'Blmngtn',\n",
       "  22: 'BrDale',\n",
       "  23: 'SWISU',\n",
       "  24: 'Blueste'},\n",
       " 'PavedDrive': {0: 'Y', 1: 'N', 2: 'P'},\n",
       " 'PoolQC': {0: '-1', 1: 'Ex', 2: 'Fa', 3: 'Gd'},\n",
       " 'RoofMatl': {0: 'CompShg',\n",
       "  1: 'WdShngl',\n",
       "  2: 'Metal',\n",
       "  3: 'WdShake',\n",
       "  4: 'Membran',\n",
       "  5: 'Tar&Grv',\n",
       "  6: 'Roll',\n",
       "  7: 'ClyTile'},\n",
       " 'RoofStyle': {0: 'Gable',\n",
       "  1: 'Hip',\n",
       "  2: 'Gambrel',\n",
       "  3: 'Mansard',\n",
       "  4: 'Flat',\n",
       "  5: 'Shed'},\n",
       " 'SaleCondition': {0: 'Normal',\n",
       "  1: 'Abnorml',\n",
       "  2: 'Partial',\n",
       "  3: 'AdjLand',\n",
       "  4: 'Alloca',\n",
       "  5: 'Family'},\n",
       " 'SaleType': {0: 'WD',\n",
       "  1: 'New',\n",
       "  2: 'COD',\n",
       "  3: 'ConLD',\n",
       "  4: 'ConLI',\n",
       "  5: 'CWD',\n",
       "  6: 'ConLw',\n",
       "  7: 'Con',\n",
       "  8: 'Oth'},\n",
       " 'Street': {0: 'Pave', 1: 'Grvl'},\n",
       " 'Utilities': {0: 'AllPub', 1: 'NoSeWa'}}"
      ]
     },
     "execution_count": 12,
     "metadata": {},
     "output_type": "execute_result"
    }
   ],
   "source": [
    "#fill missing values in columns which is data type of float64 and int64 \n",
    "object_value={}\n",
    "for col in train.columns:\n",
    "    if train[col].dtype!='O':\n",
    "        train[col]=train[col].fillna(train[col].mean())\n",
    "    else:\n",
    "        train[col]=train[col].fillna(\"-1\")\n",
    "        object_value[col]=dict(enumerate(train[col].unique()))\n",
    "\n",
    "object_value"
   ]
  },
  {
   "cell_type": "code",
   "execution_count": 13,
   "metadata": {},
   "outputs": [],
   "source": [
    "for key,lis in object_value.items():\n",
    "    for index,val in lis.items():\n",
    "        if val=='-1':\n",
    "            train[key]=train[key].fillna(index)\n",
    "        else:\n",
    "            train.loc[train[key]==val,key]=index"
   ]
  },
  {
   "cell_type": "code",
   "execution_count": 14,
   "metadata": {},
   "outputs": [
    {
     "name": "stdout",
     "output_type": "stream",
     "text": [
      "Bagging_KNR 0.6530675006018151\n",
      "Bagging_DT 0.8427439661955535\n",
      "RandomForest 0.833902232392027\n",
      "ExtraTrees 0.8190918278515357\n",
      "AdaBoost 0.789356075992274\n",
      "GradientBoost 0.8887973628320106\n"
     ]
    }
   ],
   "source": [
    "from sklearn.ensemble import  BaggingRegressor\n",
    "from sklearn.neighbors import KNeighborsRegressor\n",
    "from sklearn.ensemble import RandomForestRegressor\n",
    "from sklearn.ensemble import ExtraTreesRegressor\n",
    "from sklearn.ensemble import AdaBoostRegressor\n",
    "from sklearn.ensemble import GradientBoostingRegressor\n",
    "from sklearn.model_selection import cross_val_score\n",
    "from sklearn.tree import DecisionTreeRegressor\n",
    "\n",
    "clf = {}\n",
    "clf['Bagging_KNR']= BaggingRegressor(KNeighborsRegressor())\n",
    "clf['Bagging_DT']= BaggingRegressor(DecisionTreeRegressor())\n",
    "clf['RandomForest']=RandomForestRegressor()\n",
    "clf['ExtraTrees']=ExtraTreesRegressor()\n",
    "clf['AdaBoost']=AdaBoostRegressor()\n",
    "clf['GradientBoost']=GradientBoostingRegressor()\n",
    "\n",
    "for key,obj in clf.items():\n",
    "    scores = cross_val_score(obj, train, target)\n",
    "    print(key,scores.mean())\n",
    "    obj.fit(train,target)"
   ]
  },
  {
   "cell_type": "code",
   "execution_count": 15,
   "metadata": {},
   "outputs": [],
   "source": [
    "test=pd.read_csv('test.csv')"
   ]
  },
  {
   "cell_type": "code",
   "execution_count": 16,
   "metadata": {},
   "outputs": [
    {
     "data": {
      "text/html": [
       "<div>\n",
       "<style scoped>\n",
       "    .dataframe tbody tr th:only-of-type {\n",
       "        vertical-align: middle;\n",
       "    }\n",
       "\n",
       "    .dataframe tbody tr th {\n",
       "        vertical-align: top;\n",
       "    }\n",
       "\n",
       "    .dataframe thead th {\n",
       "        text-align: right;\n",
       "    }\n",
       "</style>\n",
       "<table border=\"1\" class=\"dataframe\">\n",
       "  <thead>\n",
       "    <tr style=\"text-align: right;\">\n",
       "      <th></th>\n",
       "      <th>Id</th>\n",
       "      <th>MSSubClass</th>\n",
       "      <th>MSZoning</th>\n",
       "      <th>LotFrontage</th>\n",
       "      <th>LotArea</th>\n",
       "      <th>Street</th>\n",
       "      <th>Alley</th>\n",
       "      <th>LotShape</th>\n",
       "      <th>LandContour</th>\n",
       "      <th>Utilities</th>\n",
       "      <th>...</th>\n",
       "      <th>ScreenPorch</th>\n",
       "      <th>PoolArea</th>\n",
       "      <th>PoolQC</th>\n",
       "      <th>Fence</th>\n",
       "      <th>MiscFeature</th>\n",
       "      <th>MiscVal</th>\n",
       "      <th>MoSold</th>\n",
       "      <th>YrSold</th>\n",
       "      <th>SaleType</th>\n",
       "      <th>SaleCondition</th>\n",
       "    </tr>\n",
       "  </thead>\n",
       "  <tbody>\n",
       "    <tr>\n",
       "      <th>0</th>\n",
       "      <td>1461</td>\n",
       "      <td>20</td>\n",
       "      <td>RH</td>\n",
       "      <td>80.0</td>\n",
       "      <td>11622</td>\n",
       "      <td>Pave</td>\n",
       "      <td>NaN</td>\n",
       "      <td>Reg</td>\n",
       "      <td>Lvl</td>\n",
       "      <td>AllPub</td>\n",
       "      <td>...</td>\n",
       "      <td>120</td>\n",
       "      <td>0</td>\n",
       "      <td>NaN</td>\n",
       "      <td>MnPrv</td>\n",
       "      <td>NaN</td>\n",
       "      <td>0</td>\n",
       "      <td>6</td>\n",
       "      <td>2010</td>\n",
       "      <td>WD</td>\n",
       "      <td>Normal</td>\n",
       "    </tr>\n",
       "    <tr>\n",
       "      <th>1</th>\n",
       "      <td>1462</td>\n",
       "      <td>20</td>\n",
       "      <td>RL</td>\n",
       "      <td>81.0</td>\n",
       "      <td>14267</td>\n",
       "      <td>Pave</td>\n",
       "      <td>NaN</td>\n",
       "      <td>IR1</td>\n",
       "      <td>Lvl</td>\n",
       "      <td>AllPub</td>\n",
       "      <td>...</td>\n",
       "      <td>0</td>\n",
       "      <td>0</td>\n",
       "      <td>NaN</td>\n",
       "      <td>NaN</td>\n",
       "      <td>Gar2</td>\n",
       "      <td>12500</td>\n",
       "      <td>6</td>\n",
       "      <td>2010</td>\n",
       "      <td>WD</td>\n",
       "      <td>Normal</td>\n",
       "    </tr>\n",
       "    <tr>\n",
       "      <th>2</th>\n",
       "      <td>1463</td>\n",
       "      <td>60</td>\n",
       "      <td>RL</td>\n",
       "      <td>74.0</td>\n",
       "      <td>13830</td>\n",
       "      <td>Pave</td>\n",
       "      <td>NaN</td>\n",
       "      <td>IR1</td>\n",
       "      <td>Lvl</td>\n",
       "      <td>AllPub</td>\n",
       "      <td>...</td>\n",
       "      <td>0</td>\n",
       "      <td>0</td>\n",
       "      <td>NaN</td>\n",
       "      <td>MnPrv</td>\n",
       "      <td>NaN</td>\n",
       "      <td>0</td>\n",
       "      <td>3</td>\n",
       "      <td>2010</td>\n",
       "      <td>WD</td>\n",
       "      <td>Normal</td>\n",
       "    </tr>\n",
       "    <tr>\n",
       "      <th>3</th>\n",
       "      <td>1464</td>\n",
       "      <td>60</td>\n",
       "      <td>RL</td>\n",
       "      <td>78.0</td>\n",
       "      <td>9978</td>\n",
       "      <td>Pave</td>\n",
       "      <td>NaN</td>\n",
       "      <td>IR1</td>\n",
       "      <td>Lvl</td>\n",
       "      <td>AllPub</td>\n",
       "      <td>...</td>\n",
       "      <td>0</td>\n",
       "      <td>0</td>\n",
       "      <td>NaN</td>\n",
       "      <td>NaN</td>\n",
       "      <td>NaN</td>\n",
       "      <td>0</td>\n",
       "      <td>6</td>\n",
       "      <td>2010</td>\n",
       "      <td>WD</td>\n",
       "      <td>Normal</td>\n",
       "    </tr>\n",
       "    <tr>\n",
       "      <th>4</th>\n",
       "      <td>1465</td>\n",
       "      <td>120</td>\n",
       "      <td>RL</td>\n",
       "      <td>43.0</td>\n",
       "      <td>5005</td>\n",
       "      <td>Pave</td>\n",
       "      <td>NaN</td>\n",
       "      <td>IR1</td>\n",
       "      <td>HLS</td>\n",
       "      <td>AllPub</td>\n",
       "      <td>...</td>\n",
       "      <td>144</td>\n",
       "      <td>0</td>\n",
       "      <td>NaN</td>\n",
       "      <td>NaN</td>\n",
       "      <td>NaN</td>\n",
       "      <td>0</td>\n",
       "      <td>1</td>\n",
       "      <td>2010</td>\n",
       "      <td>WD</td>\n",
       "      <td>Normal</td>\n",
       "    </tr>\n",
       "  </tbody>\n",
       "</table>\n",
       "<p>5 rows × 80 columns</p>\n",
       "</div>"
      ],
      "text/plain": [
       "     Id  MSSubClass MSZoning  LotFrontage  LotArea Street Alley LotShape  \\\n",
       "0  1461          20       RH         80.0    11622   Pave   NaN      Reg   \n",
       "1  1462          20       RL         81.0    14267   Pave   NaN      IR1   \n",
       "2  1463          60       RL         74.0    13830   Pave   NaN      IR1   \n",
       "3  1464          60       RL         78.0     9978   Pave   NaN      IR1   \n",
       "4  1465         120       RL         43.0     5005   Pave   NaN      IR1   \n",
       "\n",
       "  LandContour Utilities      ...       ScreenPorch PoolArea PoolQC  Fence  \\\n",
       "0         Lvl    AllPub      ...               120        0    NaN  MnPrv   \n",
       "1         Lvl    AllPub      ...                 0        0    NaN    NaN   \n",
       "2         Lvl    AllPub      ...                 0        0    NaN  MnPrv   \n",
       "3         Lvl    AllPub      ...                 0        0    NaN    NaN   \n",
       "4         HLS    AllPub      ...               144        0    NaN    NaN   \n",
       "\n",
       "  MiscFeature MiscVal MoSold  YrSold  SaleType  SaleCondition  \n",
       "0         NaN       0      6    2010        WD         Normal  \n",
       "1        Gar2   12500      6    2010        WD         Normal  \n",
       "2         NaN       0      3    2010        WD         Normal  \n",
       "3         NaN       0      6    2010        WD         Normal  \n",
       "4         NaN       0      1    2010        WD         Normal  \n",
       "\n",
       "[5 rows x 80 columns]"
      ]
     },
     "execution_count": 16,
     "metadata": {},
     "output_type": "execute_result"
    }
   ],
   "source": [
    "test.head()"
   ]
  },
  {
   "cell_type": "code",
   "execution_count": 17,
   "metadata": {},
   "outputs": [
    {
     "data": {
      "text/plain": [
       "79"
      ]
     },
     "execution_count": 17,
     "metadata": {},
     "output_type": "execute_result"
    }
   ],
   "source": [
    "Y=test.drop([\"Id\"],axis=1);Y.columns.size"
   ]
  },
  {
   "cell_type": "code",
   "execution_count": 18,
   "metadata": {},
   "outputs": [],
   "source": [
    "for col in Y.columns:\n",
    "    if Y[col].dtype!='O':\n",
    "        Y[col]=Y[col].fillna(Y[col].mean())"
   ]
  },
  {
   "cell_type": "code",
   "execution_count": null,
   "metadata": {},
   "outputs": [],
   "source": []
  },
  {
   "cell_type": "code",
   "execution_count": null,
   "metadata": {},
   "outputs": [],
   "source": [
    "\n",
    "        "
   ]
  },
  {
   "cell_type": "code",
   "execution_count": 19,
   "metadata": {},
   "outputs": [],
   "source": [
    "for key,lis in object_value.items():\n",
    "    for index,val in lis.items():\n",
    "        if val=='-1':\n",
    "            Y[key]=Y[key].fillna(index)"
   ]
  },
  {
   "cell_type": "code",
   "execution_count": null,
   "metadata": {},
   "outputs": [],
   "source": [
    "\n",
    "    "
   ]
  },
  {
   "cell_type": "code",
   "execution_count": 20,
   "metadata": {},
   "outputs": [
    {
     "name": "stdout",
     "output_type": "stream",
     "text": [
      "MSZoning ['RH' 'RL' 'RM' 'FV' 'C (all)' 5] ****** {0: 'RL', 1: 'RM', 2: 'C (all)', 3: 'FV', 4: 'RH'}\n",
      "Utilities ['AllPub' 2] ****** {0: 'AllPub', 1: 'NoSeWa'}\n",
      "Exterior1st ['VinylSd' 'Wd Sdng' 'HdBoard' 'Plywood' 'MetalSd' 'CemntBd' 'WdShing'\n",
      " 'BrkFace' 'AsbShng' 'BrkComm' 'Stucco' 'AsphShn' 15 'CBlock'] ****** {0: 'VinylSd', 1: 'MetalSd', 2: 'Wd Sdng', 3: 'HdBoard', 4: 'BrkFace', 5: 'WdShing', 6: 'CemntBd', 7: 'Plywood', 8: 'AsbShng', 9: 'Stucco', 10: 'BrkComm', 11: 'AsphShn', 12: 'Stone', 13: 'ImStucc', 14: 'CBlock'}\n",
      "Exterior2nd ['VinylSd' 'Wd Sdng' 'HdBoard' 'Plywood' 'MetalSd' 'Brk Cmn' 'CmentBd'\n",
      " 'ImStucc' 'Wd Shng' 'AsbShng' 'Stucco' 'CBlock' 'BrkFace' 'AsphShn' 16\n",
      " 'Stone'] ****** {0: 'VinylSd', 1: 'MetalSd', 2: 'Wd Shng', 3: 'HdBoard', 4: 'Plywood', 5: 'Wd Sdng', 6: 'CmentBd', 7: 'BrkFace', 8: 'Stucco', 9: 'AsbShng', 10: 'Brk Cmn', 11: 'ImStucc', 12: 'AsphShn', 13: 'Stone', 14: 'Other', 15: 'CBlock'}\n",
      "KitchenQual ['TA' 'Gd' 'Ex' 'Fa' 4] ****** {0: 'Gd', 1: 'TA', 2: 'Ex', 3: 'Fa'}\n",
      "Functional ['Typ' 'Min2' 'Min1' 'Mod' 'Maj1' 'Sev' 'Maj2' 7] ****** {0: 'Typ', 1: 'Min1', 2: 'Maj1', 3: 'Min2', 4: 'Mod', 5: 'Maj2', 6: 'Sev'}\n",
      "SaleType ['WD' 'COD' 'New' 'ConLD' 'Oth' 'Con' 'ConLw' 'ConLI' 'CWD' 9] ****** {0: 'WD', 1: 'New', 2: 'COD', 3: 'ConLD', 4: 'ConLI', 5: 'CWD', 6: 'ConLw', 7: 'Con', 8: 'Oth'}\n"
     ]
    }
   ],
   "source": [
    "for col in Y.columns:\n",
    "    if Y[Y[col].isnull()][col].size>0:\n",
    "        Y[col]=Y[col].fillna(len(object_value[col]))\n",
    "        print(col,Y[col].unique(),'******',object_value[col])"
   ]
  },
  {
   "cell_type": "code",
   "execution_count": null,
   "metadata": {},
   "outputs": [],
   "source": []
  },
  {
   "cell_type": "code",
   "execution_count": 21,
   "metadata": {},
   "outputs": [],
   "source": [
    "for key,lis in object_value.items():\n",
    "    for index,val in lis.items():\n",
    "        if Y[key].dtype=='O':\n",
    "            Y.loc[Y[key]==val,key]=index"
   ]
  },
  {
   "cell_type": "code",
   "execution_count": null,
   "metadata": {},
   "outputs": [],
   "source": []
  },
  {
   "cell_type": "code",
   "execution_count": 22,
   "metadata": {},
   "outputs": [],
   "source": [
    "sub=clf['GradientBoost'].predict(Y)"
   ]
  },
  {
   "cell_type": "code",
   "execution_count": 23,
   "metadata": {},
   "outputs": [],
   "source": [
    "submission=pd.DataFrame(sub,columns=['SalePrice'])"
   ]
  },
  {
   "cell_type": "code",
   "execution_count": 24,
   "metadata": {},
   "outputs": [],
   "source": [
    "submission['Id']=test['Id']"
   ]
  },
  {
   "cell_type": "code",
   "execution_count": 25,
   "metadata": {},
   "outputs": [
    {
     "data": {
      "text/html": [
       "<div>\n",
       "<style scoped>\n",
       "    .dataframe tbody tr th:only-of-type {\n",
       "        vertical-align: middle;\n",
       "    }\n",
       "\n",
       "    .dataframe tbody tr th {\n",
       "        vertical-align: top;\n",
       "    }\n",
       "\n",
       "    .dataframe thead th {\n",
       "        text-align: right;\n",
       "    }\n",
       "</style>\n",
       "<table border=\"1\" class=\"dataframe\">\n",
       "  <thead>\n",
       "    <tr style=\"text-align: right;\">\n",
       "      <th></th>\n",
       "      <th>SalePrice</th>\n",
       "      <th>Id</th>\n",
       "    </tr>\n",
       "  </thead>\n",
       "  <tbody>\n",
       "    <tr>\n",
       "      <th>0</th>\n",
       "      <td>122334.622789</td>\n",
       "      <td>1461</td>\n",
       "    </tr>\n",
       "    <tr>\n",
       "      <th>1</th>\n",
       "      <td>155383.686044</td>\n",
       "      <td>1462</td>\n",
       "    </tr>\n",
       "    <tr>\n",
       "      <th>2</th>\n",
       "      <td>176620.902622</td>\n",
       "      <td>1463</td>\n",
       "    </tr>\n",
       "    <tr>\n",
       "      <th>3</th>\n",
       "      <td>177791.970350</td>\n",
       "      <td>1464</td>\n",
       "    </tr>\n",
       "    <tr>\n",
       "      <th>4</th>\n",
       "      <td>196596.988037</td>\n",
       "      <td>1465</td>\n",
       "    </tr>\n",
       "  </tbody>\n",
       "</table>\n",
       "</div>"
      ],
      "text/plain": [
       "       SalePrice    Id\n",
       "0  122334.622789  1461\n",
       "1  155383.686044  1462\n",
       "2  176620.902622  1463\n",
       "3  177791.970350  1464\n",
       "4  196596.988037  1465"
      ]
     },
     "execution_count": 25,
     "metadata": {},
     "output_type": "execute_result"
    }
   ],
   "source": [
    "submission.head()"
   ]
  },
  {
   "cell_type": "code",
   "execution_count": 26,
   "metadata": {},
   "outputs": [],
   "source": [
    "submission=submission[['Id','SalePrice']]"
   ]
  },
  {
   "cell_type": "code",
   "execution_count": null,
   "metadata": {},
   "outputs": [],
   "source": []
  },
  {
   "cell_type": "code",
   "execution_count": null,
   "metadata": {},
   "outputs": [],
   "source": []
  },
  {
   "cell_type": "code",
   "execution_count": 27,
   "metadata": {},
   "outputs": [],
   "source": [
    "submission.to_csv(\"submission.csv\",index=False)"
   ]
  },
  {
   "cell_type": "code",
   "execution_count": 28,
   "metadata": {},
   "outputs": [],
   "source": [
    "import seaborn as sns\n",
    "color = sns.color_palette('PuBuGn_d')\n",
    "sns.set_style('darkgrid')"
   ]
  },
  {
   "cell_type": "code",
   "execution_count": 29,
   "metadata": {},
   "outputs": [],
   "source": [
    "from scipy import stats\n",
    "import matplotlib.pyplot as plt  # Matlab-style plotting"
   ]
  },
  {
   "cell_type": "code",
   "execution_count": 30,
   "metadata": {},
   "outputs": [
    {
     "data": {
      "image/png": "[encoded data removed]",
      "text/plain": [
       "<matplotlib.figure.Figure at 0x1a12cd1780>"
      ]
     },
     "metadata": {},
     "output_type": "display_data"
    }
   ],
   "source": [
    "fig = plt.figure()\n",
    "res = stats.probplot(target, plot=plt)\n",
    "plt.show()"
   ]
  },
  {
   "cell_type": "code",
   "execution_count": 31,
   "metadata": {},
   "outputs": [
    {
     "data": {
      "image/png": "[encoded data removed]",
      "text/plain": [
       "<matplotlib.figure.Figure at 0x106aee4a8>"
      ]
     },
     "metadata": {},
     "output_type": "display_data"
    }
   ],
   "source": [
    "sns.distplot(target);"
   ]
  },
  {
   "cell_type": "code",
   "execution_count": null,
   "metadata": {},
   "outputs": [],
   "source": []
  }
 ],
 "metadata": {
  "kernelspec": {
   "display_name": "Python 3",
   "language": "python",
   "name": "python3"
  },
  "language_info": {
   "codemirror_mode": {
    "name": "ipython",
    "version": 3
   },
   "file_extension": ".py",
   "mimetype": "text/x-python",
   "name": "python",
   "nbconvert_exporter": "python",
   "pygments_lexer": "ipython3",
   "version": "3.6.4"
  }
 },
 "nbformat": 4,
 "nbformat_minor": 2
}
