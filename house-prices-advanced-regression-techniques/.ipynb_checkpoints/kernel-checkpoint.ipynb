{
 "cells": [
  {
   "cell_type": "code",
   "execution_count": 1,
   "metadata": {
    "_cell_guid": "6c1b5539-1759-e753-6dae-41f655ad31eb",
    "_uuid": "e1094a2b7ff236daa59c29f1698da150de6f6aef"
   },
   "outputs": [],
   "source": [
    "import pandas as pd\n",
    "import numpy as np\n",
    "import matplotlib.pyplot as plt\n",
    "from sklearn.linear_model import Lasso\n",
    "%matplotlib inline"
   ]
  },
  {
   "cell_type": "code",
   "execution_count": 3,
   "metadata": {
    "_cell_guid": "4966d147-a568-0ce2-d84e-6dd84b2c62eb",
    "_uuid": "0b8ca89e86e5cd62aa257452b3175b8722d15bd6"
   },
   "outputs": [],
   "source": [
    "train = pd.read_csv(\"train.csv\")\n",
    "test = pd.read_csv(\"test.csv\")"
   ]
  },
  {
   "cell_type": "code",
   "execution_count": 4,
   "metadata": {
    "_cell_guid": "a8af6127-0180-983a-8ffd-ec18d569bbb8",
    "_uuid": "1ef8b2d5c7e40853536db73b0519520eab5d2e60"
   },
   "outputs": [],
   "source": [
    "all_data = pd.concat((train.loc[:,'MSSubClass':'SaleCondition'],\n",
    "                      test.loc[:,'MSSubClass':'SaleCondition']), ignore_index=True)"
   ]
  },
  {
   "cell_type": "markdown",
   "metadata": {
    "_cell_guid": "7ffbc4c8-bf8e-b7ad-8a31-7cd41bfbb1fa",
    "_uuid": "fefacaa5f0b3aa14b4b8f364d7d79078868d79e8"
   },
   "source": [
    "## Imputation of missing values ##"
   ]
  },
  {
   "cell_type": "code",
   "execution_count": 5,
   "metadata": {
    "_cell_guid": "41f21588-54a2-cccf-ebfb-b82f22818d08",
    "_uuid": "62c862b7fb28a8de36a2fccdc29c4aa62690494b"
   },
   "outputs": [],
   "source": [
    "# I have no idea how to do it better. Probably, it is better to do nothing\n",
    "x = all_data.loc[np.logical_not(all_data[\"LotFrontage\"].isnull()), \"LotArea\"]\n",
    "y = all_data.loc[np.logical_not(all_data[\"LotFrontage\"].isnull()), \"LotFrontage\"]\n",
    "# plt.scatter(x, y)\n",
    "t = (x <= 25000) & (y <= 150)\n",
    "p = np.polyfit(x[t], y[t], 1)\n",
    "all_data.loc[all_data['LotFrontage'].isnull(), 'LotFrontage'] = np.polyval(p, all_data.loc[all_data['LotFrontage'].isnull(), 'LotArea'])"
   ]
  },
  {
   "cell_type": "markdown",
   "metadata": {
    "_cell_guid": "adad1d8c-1f3a-cc8d-eebd-d0f97110a7da",
    "_uuid": "c88d70fba11ae3d83ccbff7f3dd872e4c2bc0ed6"
   },
   "source": [
    "There are many features were NaN should be considered as absence of such property. In other cases I replace NaN with most common value"
   ]
  },
  {
   "cell_type": "code",
   "execution_count": 6,
   "metadata": {
    "_cell_guid": "3bfae950-1716-ccdd-1fe7-c01a0f07cfd3",
    "_uuid": "33c34fead7bfe248bffde3fdacde4bde19bd16c6"
   },
   "outputs": [],
   "source": [
    "all_data.loc[all_data.Alley.isnull(), 'Alley'] = 'NoAlley'\n",
    "all_data.loc[all_data.MasVnrType.isnull(), 'MasVnrType'] = 'None' # no good\n",
    "all_data.loc[all_data.MasVnrType == 'None', 'MasVnrArea'] = 0\n",
    "all_data.loc[all_data.BsmtQual.isnull(), 'BsmtQual'] = 'NoBsmt'\n",
    "all_data.loc[all_data.BsmtCond.isnull(), 'BsmtCond'] = 'NoBsmt'\n",
    "all_data.loc[all_data.BsmtExposure.isnull(), 'BsmtExposure'] = 'NoBsmt'\n",
    "all_data.loc[all_data.BsmtFinType1.isnull(), 'BsmtFinType1'] = 'NoBsmt'\n",
    "all_data.loc[all_data.BsmtFinType2.isnull(), 'BsmtFinType2'] = 'NoBsmt'\n",
    "all_data.loc[all_data.BsmtFinType1=='NoBsmt', 'BsmtFinSF1'] = 0\n",
    "all_data.loc[all_data.BsmtFinType2=='NoBsmt', 'BsmtFinSF2'] = 0\n",
    "all_data.loc[all_data.BsmtFinSF1.isnull(), 'BsmtFinSF1'] = all_data.BsmtFinSF1.median()\n",
    "all_data.loc[all_data.BsmtQual=='NoBsmt', 'BsmtUnfSF'] = 0\n",
    "all_data.loc[all_data.BsmtUnfSF.isnull(), 'BsmtUnfSF'] = all_data.BsmtUnfSF.median()\n",
    "all_data.loc[all_data.BsmtQual=='NoBsmt', 'TotalBsmtSF'] = 0\n",
    "all_data.loc[all_data.FireplaceQu.isnull(), 'FireplaceQu'] = 'NoFireplace'\n",
    "all_data.loc[all_data.GarageType.isnull(), 'GarageType'] = 'NoGarage'\n",
    "all_data.loc[all_data.GarageFinish.isnull(), 'GarageFinish'] = 'NoGarage'\n",
    "all_data.loc[all_data.GarageQual.isnull(), 'GarageQual'] = 'NoGarage'\n",
    "all_data.loc[all_data.GarageCond.isnull(), 'GarageCond'] = 'NoGarage'\n",
    "all_data.loc[all_data.BsmtFullBath.isnull(), 'BsmtFullBath'] = 0\n",
    "all_data.loc[all_data.BsmtHalfBath.isnull(), 'BsmtHalfBath'] = 0\n",
    "all_data.loc[all_data.KitchenQual.isnull(), 'KitchenQual'] = 'TA'\n",
    "all_data.loc[all_data.MSZoning.isnull(), 'MSZoning'] = 'RL'\n",
    "all_data.loc[all_data.Utilities.isnull(), 'Utilities'] = 'AllPub'\n",
    "all_data.loc[all_data.Exterior1st.isnull(), 'Exterior1st'] = 'VinylSd'\n",
    "all_data.loc[all_data.Exterior2nd.isnull(), 'Exterior2nd'] = 'VinylSd'\n",
    "all_data.loc[all_data.Functional.isnull(), 'Functional'] = 'Typ'\n",
    "all_data.loc[all_data.SaleCondition.isnull(), 'SaleCondition'] = 'Normal'\n",
    "all_data.loc[all_data.SaleCondition.isnull(), 'SaleType'] = 'WD'\n",
    "all_data.loc[all_data['PoolQC'].isnull(), 'PoolQC'] = 'NoPool'\n",
    "all_data.loc[all_data['Fence'].isnull(), 'Fence'] = 'NoFence'\n",
    "all_data.loc[all_data['MiscFeature'].isnull(), 'MiscFeature'] = 'None'\n",
    "all_data.loc[all_data['Electrical'].isnull(), 'Electrical'] = 'SBrkr'\n",
    "# only one is null and it has type Detchd\n",
    "all_data.loc[all_data['GarageArea'].isnull(), 'GarageArea'] = all_data.loc[all_data['GarageType']=='Detchd', 'GarageArea'].mean()\n",
    "all_data.loc[all_data['GarageCars'].isnull(), 'GarageCars'] = all_data.loc[all_data['GarageType']=='Detchd', 'GarageCars'].median()"
   ]
  },
  {
   "cell_type": "markdown",
   "metadata": {
    "_cell_guid": "9bb00740-bde7-a678-c29f-fb1e2709105b",
    "_uuid": "96f11895dc51e581ec64eb2990fa2b3967c7bcdd"
   },
   "source": [
    "## Normalization ##"
   ]
  },
  {
   "cell_type": "code",
   "execution_count": 7,
   "metadata": {
    "_cell_guid": "f706c097-313b-d53e-908d-2d02a10868c4",
    "_uuid": "af31d58e2422f88003be90daf0e7695396377a1a"
   },
   "outputs": [],
   "source": [
    "# where we have order we will use numeric\n",
    "all_data = all_data.replace({'Utilities': {'AllPub': 1, 'NoSeWa': 0, 'NoSewr': 0, 'ELO': 0},\n",
    "                             'Street': {'Pave': 1, 'Grvl': 0 },\n",
    "                             'FireplaceQu': {'Ex': 5, \n",
    "                                            'Gd': 4, \n",
    "                                            'TA': 3, \n",
    "                                            'Fa': 2,\n",
    "                                            'Po': 1,\n",
    "                                            'NoFireplace': 0 \n",
    "                                            },\n",
    "                             'Fence': {'GdPrv': 2, \n",
    "                                       'GdWo': 2, \n",
    "                                       'MnPrv': 1, \n",
    "                                       'MnWw': 1,\n",
    "                                       'NoFence': 0},\n",
    "                             'ExterQual': {'Ex': 5, \n",
    "                                            'Gd': 4, \n",
    "                                            'TA': 3, \n",
    "                                            'Fa': 2,\n",
    "                                            'Po': 1\n",
    "                                            },\n",
    "                             'ExterCond': {'Ex': 5, \n",
    "                                            'Gd': 4, \n",
    "                                            'TA': 3, \n",
    "                                            'Fa': 2,\n",
    "                                            'Po': 1\n",
    "                                            },\n",
    "                             'BsmtQual': {'Ex': 5, \n",
    "                                            'Gd': 4, \n",
    "                                            'TA': 3, \n",
    "                                            'Fa': 2,\n",
    "                                            'Po': 1,\n",
    "                                            'NoBsmt': 0},\n",
    "                             'BsmtExposure': {'Gd': 3, \n",
    "                                            'Av': 2, \n",
    "                                            'Mn': 1,\n",
    "                                            'No': 0,\n",
    "                                            'NoBsmt': 0},\n",
    "                             'BsmtCond': {'Ex': 5, \n",
    "                                            'Gd': 4, \n",
    "                                            'TA': 3, \n",
    "                                            'Fa': 2,\n",
    "                                            'Po': 1,\n",
    "                                            'NoBsmt': 0},\n",
    "                             'GarageQual': {'Ex': 5, \n",
    "                                            'Gd': 4, \n",
    "                                            'TA': 3, \n",
    "                                            'Fa': 2,\n",
    "                                            'Po': 1,\n",
    "                                            'NoGarage': 0},\n",
    "                             'GarageCond': {'Ex': 5, \n",
    "                                            'Gd': 4, \n",
    "                                            'TA': 3, \n",
    "                                            'Fa': 2,\n",
    "                                            'Po': 1,\n",
    "                                            'NoGarage': 0},\n",
    "                             'KitchenQual': {'Ex': 5, \n",
    "                                            'Gd': 4, \n",
    "                                            'TA': 3, \n",
    "                                            'Fa': 2,\n",
    "                                            'Po': 1},\n",
    "                             'Functional': {'Typ': 0,\n",
    "                                            'Min1': 1,\n",
    "                                            'Min2': 1,\n",
    "                                            'Mod': 2,\n",
    "                                            'Maj1': 3,\n",
    "                                            'Maj2': 4,\n",
    "                                            'Sev': 5,\n",
    "                                            'Sal': 6}                             \n",
    "                            })"
   ]
  },
  {
   "cell_type": "code",
   "execution_count": 8,
   "metadata": {
    "_cell_guid": "a22c83af-1b99-80c5-c9e0-ae3b98fc8277",
    "_uuid": "32206fffa87ef839532fa0ac4996b811902e2ea8"
   },
   "outputs": [],
   "source": [
    "newer_dwelling = all_data.MSSubClass.replace({20: 1, \n",
    "                                            30: 0, \n",
    "                                            40: 0, \n",
    "                                            45: 0,\n",
    "                                            50: 0, \n",
    "                                            60: 1,\n",
    "                                            70: 0,\n",
    "                                            75: 0,\n",
    "                                            80: 0,\n",
    "                                            85: 0,\n",
    "                                            90: 0,\n",
    "                                           120: 1,\n",
    "                                           150: 0,\n",
    "                                           160: 0,\n",
    "                                           180: 0,\n",
    "                                           190: 0})\n",
    "newer_dwelling.name = 'newer_dwelling'"
   ]
  },
  {
   "cell_type": "code",
   "execution_count": 9,
   "metadata": {
    "_cell_guid": "fcc7f095-ba43-0377-66bc-8ebdfbb18e31",
    "_uuid": "a1075795f2484b4764b75c36fa4d8329140049c8"
   },
   "outputs": [],
   "source": [
    "all_data = all_data.replace({'MSSubClass': {20: 'SubClass_20', \n",
    "                                            30: 'SubClass_30', \n",
    "                                            40: 'SubClass_40', \n",
    "                                            45: 'SubClass_45',\n",
    "                                            50: 'SubClass_50', \n",
    "                                            60: 'SubClass_60',\n",
    "                                            70: 'SubClass_70',\n",
    "                                            75: 'SubClass_75',\n",
    "                                            80: 'SubClass_80',\n",
    "                                            85: 'SubClass_85',\n",
    "                                            90: 'SubClass_90',\n",
    "                                           120: 'SubClass_120',\n",
    "                                           150: 'SubClass_150',\n",
    "                                           160: 'SubClass_160',\n",
    "                                           180: 'SubClass_180',\n",
    "                                           190: 'SubClass_190'}})"
   ]
  },
  {
   "cell_type": "code",
   "execution_count": 10,
   "metadata": {
    "_cell_guid": "4245cfd6-86f6-4590-fbf3-3f292f3f0495",
    "_uuid": "e98f56fd5f1424bb62bfcbc9a294b3b0d1cfb8da"
   },
   "outputs": [],
   "source": [
    "# The idea is good quality should rise price, poor quality - reduce price\n",
    "overall_poor_qu = all_data.OverallQual.copy()\n",
    "overall_poor_qu = 5 - overall_poor_qu\n",
    "overall_poor_qu[overall_poor_qu<0] = 0\n",
    "overall_poor_qu.name = 'overall_poor_qu'\n",
    "\n",
    "overall_good_qu = all_data.OverallQual.copy()\n",
    "overall_good_qu = overall_good_qu - 5\n",
    "overall_good_qu[overall_good_qu<0] = 0\n",
    "overall_good_qu.name = 'overall_good_qu'\n",
    "\n",
    "overall_poor_cond = all_data.OverallCond.copy()\n",
    "overall_poor_cond = 5 - overall_poor_cond\n",
    "overall_poor_cond[overall_poor_cond<0] = 0\n",
    "overall_poor_cond.name = 'overall_poor_cond'\n",
    "\n",
    "overall_good_cond = all_data.OverallCond.copy()\n",
    "overall_good_cond = overall_good_cond - 5\n",
    "overall_good_cond[overall_good_cond<0] = 0\n",
    "overall_good_cond.name = 'overall_good_cond'\n",
    "\n",
    "exter_poor_qu = all_data.ExterQual.copy()\n",
    "exter_poor_qu[exter_poor_qu<3] = 1\n",
    "exter_poor_qu[exter_poor_qu>=3] = 0\n",
    "exter_poor_qu.name = 'exter_poor_qu'\n",
    "\n",
    "exter_good_qu = all_data.ExterQual.copy()\n",
    "exter_good_qu[exter_good_qu<=3] = 0\n",
    "exter_good_qu[exter_good_qu>3] = 1\n",
    "exter_good_qu.name = 'exter_good_qu'\n",
    "\n",
    "exter_poor_cond = all_data.ExterCond.copy()\n",
    "exter_poor_cond[exter_poor_cond<3] = 1\n",
    "exter_poor_cond[exter_poor_cond>=3] = 0\n",
    "exter_poor_cond.name = 'exter_poor_cond'\n",
    "\n",
    "exter_good_cond = all_data.ExterCond.copy()\n",
    "exter_good_cond[exter_good_cond<=3] = 0\n",
    "exter_good_cond[exter_good_cond>3] = 1\n",
    "exter_good_cond.name = 'exter_good_cond'\n",
    "\n",
    "bsmt_poor_cond = all_data.BsmtCond.copy()\n",
    "bsmt_poor_cond[bsmt_poor_cond<3] = 1\n",
    "bsmt_poor_cond[bsmt_poor_cond>=3] = 0\n",
    "bsmt_poor_cond.name = 'bsmt_poor_cond'\n",
    "\n",
    "bsmt_good_cond = all_data.BsmtCond.copy()\n",
    "bsmt_good_cond[bsmt_good_cond<=3] = 0\n",
    "bsmt_good_cond[bsmt_good_cond>3] = 1\n",
    "bsmt_good_cond.name = 'bsmt_good_cond'\n",
    "\n",
    "garage_poor_qu = all_data.GarageQual.copy()\n",
    "garage_poor_qu[garage_poor_qu<3] = 1\n",
    "garage_poor_qu[garage_poor_qu>=3] = 0\n",
    "garage_poor_qu.name = 'garage_poor_qu'\n",
    "\n",
    "garage_good_qu = all_data.GarageQual.copy()\n",
    "garage_good_qu[garage_good_qu<=3] = 0\n",
    "garage_good_qu[garage_good_qu>3] = 1\n",
    "garage_good_qu.name = 'garage_good_qu'\n",
    "\n",
    "garage_poor_cond = all_data.GarageCond.copy()\n",
    "garage_poor_cond[garage_poor_cond<3] = 1\n",
    "garage_poor_cond[garage_poor_cond>=3] = 0\n",
    "garage_poor_cond.name = 'garage_poor_cond'\n",
    "\n",
    "garage_good_cond = all_data.GarageCond.copy()\n",
    "garage_good_cond[garage_good_cond<=3] = 0\n",
    "garage_good_cond[garage_good_cond>3] = 1\n",
    "garage_good_cond.name = 'garage_good_cond'\n",
    "\n",
    "kitchen_poor_qu = all_data.KitchenQual.copy()\n",
    "kitchen_poor_qu[kitchen_poor_qu<3] = 1\n",
    "kitchen_poor_qu[kitchen_poor_qu>=3] = 0\n",
    "kitchen_poor_qu.name = 'kitchen_poor_qu'\n",
    "\n",
    "kitchen_good_qu = all_data.KitchenQual.copy()\n",
    "kitchen_good_qu[kitchen_good_qu<=3] = 0\n",
    "kitchen_good_qu[kitchen_good_qu>3] = 1\n",
    "kitchen_good_qu.name = 'kitchen_good_qu'\n",
    "\n",
    "qu_list = pd.concat((overall_poor_qu, overall_good_qu, overall_poor_cond, overall_good_cond, exter_poor_qu,\n",
    "                     exter_good_qu, exter_poor_cond, exter_good_cond, bsmt_poor_cond, bsmt_good_cond, garage_poor_qu,\n",
    "                     garage_good_qu, garage_poor_cond, garage_good_cond, kitchen_poor_qu, kitchen_good_qu), axis=1)\n",
    "\n",
    "bad_heating = all_data.HeatingQC.replace({'Ex': 0, \n",
    "                                          'Gd': 0, \n",
    "                                          'TA': 0, \n",
    "                                          'Fa': 1,\n",
    "                                          'Po': 1})\n",
    "bad_heating.name = 'bad_heating'\n",
    "                                          \n",
    "MasVnrType_Any = all_data.MasVnrType.replace({'BrkCmn': 1,\n",
    "                                              'BrkFace': 1,\n",
    "                                              'CBlock': 1,\n",
    "                                              'Stone': 1,\n",
    "                                              'None': 0})\n",
    "MasVnrType_Any.name = 'MasVnrType_Any'\n",
    "\n",
    "SaleCondition_PriceDown = all_data.SaleCondition.replace({'Abnorml': 1,\n",
    "                                                          'Alloca': 1,\n",
    "                                                          'AdjLand': 1,\n",
    "                                                          'Family': 1,\n",
    "                                                          'Normal': 0,\n",
    "                                                          'Partial': 0})\n",
    "SaleCondition_PriceDown.name = 'SaleCondition_PriceDown'\n",
    "\n",
    "Neighborhood_Good = pd.DataFrame(np.zeros((all_data.shape[0],1)), columns=['Neighborhood_Good'])\n",
    "Neighborhood_Good[all_data.Neighborhood=='NridgHt'] = 1\n",
    "Neighborhood_Good[all_data.Neighborhood=='Crawfor'] = 1\n",
    "Neighborhood_Good[all_data.Neighborhood=='StoneBr'] = 1\n",
    "Neighborhood_Good[all_data.Neighborhood=='Somerst'] = 1\n",
    "Neighborhood_Good[all_data.Neighborhood=='NoRidge'] = 1\n",
    "\n",
    "# do smth with BsmtFinType1, BsmtFinType2"
   ]
  },
  {
   "cell_type": "markdown",
   "metadata": {
    "_cell_guid": "8cbb3844-4bef-bbad-3d78-6f834300d110",
    "_uuid": "f20b24927f7c9253bbcf91140e2a8eb044e22da5"
   },
   "source": [
    "I have no idea what to do with Exterior1st, Exterior2nd, RoofMatl, Condition1, Condition2, BldgType. I'll try convert them into some kind of price brackets"
   ]
  },
  {
   "cell_type": "code",
   "execution_count": 12,
   "metadata": {
    "_cell_guid": "f0fdf976-c5bb-fe0b-3ffe-511197bf11b4",
    "_uuid": "8e593d3fa36d0f0d31c1ee6355396edc05ae1330"
   },
   "outputs": [
    {
     "name": "stdout",
     "output_type": "stream",
     "text": [
      "      Exterior1st_AsbShng  Exterior1st_AsphShn  Exterior1st_BrkComm  \\\n",
      "0                       0                    0                    0   \n",
      "1                       0                    0                    0   \n",
      "2                       0                    0                    0   \n",
      "3                       0                    0                    0   \n",
      "4                       0                    0                    0   \n",
      "5                       0                    0                    0   \n",
      "6                       0                    0                    0   \n",
      "7                       0                    0                    0   \n",
      "8                       0                    0                    0   \n",
      "9                       0                    0                    0   \n",
      "10                      0                    0                    0   \n",
      "11                      0                    0                    0   \n",
      "12                      0                    0                    0   \n",
      "13                      0                    0                    0   \n",
      "14                      0                    0                    0   \n",
      "15                      0                    0                    0   \n",
      "16                      0                    0                    0   \n",
      "17                      0                    0                    0   \n",
      "18                      0                    0                    0   \n",
      "19                      0                    0                    0   \n",
      "20                      0                    0                    0   \n",
      "21                      0                    0                    0   \n",
      "22                      0                    0                    0   \n",
      "23                      0                    0                    0   \n",
      "24                      0                    0                    0   \n",
      "25                      0                    0                    0   \n",
      "26                      0                    0                    0   \n",
      "27                      0                    0                    0   \n",
      "28                      0                    0                    0   \n",
      "29                      0                    0                    0   \n",
      "...                   ...                  ...                  ...   \n",
      "1430                    0                    0                    0   \n",
      "1431                    0                    0                    0   \n",
      "1432                    0                    0                    0   \n",
      "1433                    0                    0                    0   \n",
      "1434                    0                    0                    0   \n",
      "1435                    0                    0                    0   \n",
      "1436                    0                    0                    0   \n",
      "1437                    0                    0                    0   \n",
      "1438                    0                    0                    0   \n",
      "1439                    0                    0                    0   \n",
      "1440                    0                    0                    0   \n",
      "1441                    0                    0                    0   \n",
      "1442                    0                    0                    0   \n",
      "1443                    0                    0                    0   \n",
      "1444                    0                    0                    0   \n",
      "1445                    0                    0                    0   \n",
      "1446                    0                    0                    0   \n",
      "1447                    0                    0                    0   \n",
      "1448                    0                    0                    0   \n",
      "1449                    0                    0                    0   \n",
      "1450                    0                    0                    0   \n",
      "1451                    0                    0                    0   \n",
      "1452                    0                    0                    0   \n",
      "1453                    0                    0                    0   \n",
      "1454                    0                    0                    0   \n",
      "1455                    0                    0                    0   \n",
      "1456                    0                    0                    0   \n",
      "1457                    0                    0                    0   \n",
      "1458                    0                    0                    0   \n",
      "1459                    0                    0                    0   \n",
      "\n",
      "      Exterior1st_BrkFace  Exterior1st_CBlock  Exterior1st_CemntBd  \\\n",
      "0                       0                   0                    0   \n",
      "1                       0                   0                    0   \n",
      "2                       0                   0                    0   \n",
      "3                       0                   0                    0   \n",
      "4                       0                   0                    0   \n",
      "5                       0                   0                    0   \n",
      "6                       0                   0                    0   \n",
      "7                       0                   0                    0   \n",
      "8                       1                   0                    0   \n",
      "9                       0                   0                    0   \n",
      "10                      0                   0                    0   \n",
      "11                      0                   0                    0   \n",
      "12                      0                   0                    0   \n",
      "13                      0                   0                    0   \n",
      "14                      0                   0                    0   \n",
      "15                      0                   0                    0   \n",
      "16                      0                   0                    0   \n",
      "17                      0                   0                    0   \n",
      "18                      0                   0                    0   \n",
      "19                      1                   0                    0   \n",
      "20                      0                   0                    0   \n",
      "21                      0                   0                    0   \n",
      "22                      0                   0                    0   \n",
      "23                      0                   0                    1   \n",
      "24                      0                   0                    0   \n",
      "25                      0                   0                    0   \n",
      "26                      0                   0                    0   \n",
      "27                      0                   0                    0   \n",
      "28                      0                   0                    0   \n",
      "29                      0                   0                    0   \n",
      "...                   ...                 ...                  ...   \n",
      "1430                    0                   0                    0   \n",
      "1431                    0                   0                    0   \n",
      "1432                    0                   0                    0   \n",
      "1433                    0                   0                    0   \n",
      "1434                    1                   0                    0   \n",
      "1435                    0                   0                    0   \n",
      "1436                    0                   0                    0   \n",
      "1437                    0                   0                    0   \n",
      "1438                    0                   0                    0   \n",
      "1439                    0                   0                    0   \n",
      "1440                    0                   0                    0   \n",
      "1441                    0                   0                    0   \n",
      "1442                    0                   0                    0   \n",
      "1443                    0                   0                    0   \n",
      "1444                    0                   0                    0   \n",
      "1445                    0                   0                    0   \n",
      "1446                    0                   0                    0   \n",
      "1447                    0                   0                    0   \n",
      "1448                    0                   0                    0   \n",
      "1449                    0                   0                    1   \n",
      "1450                    0                   0                    0   \n",
      "1451                    0                   0                    1   \n",
      "1452                    0                   0                    0   \n",
      "1453                    0                   0                    0   \n",
      "1454                    0                   0                    0   \n",
      "1455                    0                   0                    0   \n",
      "1456                    0                   0                    0   \n",
      "1457                    0                   0                    1   \n",
      "1458                    0                   0                    0   \n",
      "1459                    0                   0                    0   \n",
      "\n",
      "      Exterior1st_HdBoard  Exterior1st_ImStucc  Exterior1st_MetalSd  \\\n",
      "0                       0                    0                    0   \n",
      "1                       0                    0                    1   \n",
      "2                       0                    0                    0   \n",
      "3                       0                    0                    0   \n",
      "4                       0                    0                    0   \n",
      "5                       0                    0                    0   \n",
      "6                       0                    0                    0   \n",
      "7                       1                    0                    0   \n",
      "8                       0                    0                    0   \n",
      "9                       0                    0                    1   \n",
      "10                      1                    0                    0   \n",
      "11                      0                    0                    0   \n",
      "12                      1                    0                    0   \n",
      "13                      0                    0                    0   \n",
      "14                      0                    0                    1   \n",
      "15                      0                    0                    0   \n",
      "16                      0                    0                    0   \n",
      "17                      0                    0                    1   \n",
      "18                      0                    0                    0   \n",
      "19                      0                    0                    0   \n",
      "20                      0                    0                    0   \n",
      "21                      0                    0                    0   \n",
      "22                      0                    0                    0   \n",
      "23                      0                    0                    0   \n",
      "24                      0                    0                    0   \n",
      "25                      0                    0                    0   \n",
      "26                      0                    0                    0   \n",
      "27                      0                    0                    0   \n",
      "28                      0                    0                    1   \n",
      "29                      0                    0                    1   \n",
      "...                   ...                  ...                  ...   \n",
      "1430                    0                    0                    0   \n",
      "1431                    0                    0                    0   \n",
      "1432                    0                    0                    0   \n",
      "1433                    0                    0                    0   \n",
      "1434                    0                    0                    0   \n",
      "1435                    0                    0                    0   \n",
      "1436                    1                    0                    0   \n",
      "1437                    0                    0                    0   \n",
      "1438                    0                    0                    1   \n",
      "1439                    1                    0                    0   \n",
      "1440                    0                    0                    1   \n",
      "1441                    0                    0                    0   \n",
      "1442                    0                    0                    0   \n",
      "1443                    0                    0                    0   \n",
      "1444                    0                    0                    0   \n",
      "1445                    0                    0                    0   \n",
      "1446                    1                    0                    0   \n",
      "1447                    0                    0                    0   \n",
      "1448                    0                    0                    1   \n",
      "1449                    0                    0                    0   \n",
      "1450                    0                    0                    0   \n",
      "1451                    0                    0                    0   \n",
      "1452                    0                    0                    0   \n",
      "1453                    0                    0                    0   \n",
      "1454                    0                    0                    0   \n",
      "1455                    0                    0                    0   \n",
      "1456                    0                    0                    0   \n",
      "1457                    0                    0                    0   \n",
      "1458                    0                    0                    1   \n",
      "1459                    1                    0                    0   \n",
      "\n",
      "      Exterior1st_Plywood       ...         Condition2_PosA  Condition2_PosN  \\\n",
      "0                       0       ...                       0                0   \n",
      "1                       0       ...                       0                0   \n",
      "2                       0       ...                       0                0   \n",
      "3                       0       ...                       0                0   \n",
      "4                       0       ...                       0                0   \n",
      "5                       0       ...                       0                0   \n",
      "6                       0       ...                       0                0   \n",
      "7                       0       ...                       0                0   \n",
      "8                       0       ...                       0                0   \n",
      "9                       0       ...                       0                0   \n",
      "10                      0       ...                       0                0   \n",
      "11                      0       ...                       0                0   \n",
      "12                      0       ...                       0                0   \n",
      "13                      0       ...                       0                0   \n",
      "14                      0       ...                       0                0   \n",
      "15                      0       ...                       0                0   \n",
      "16                      0       ...                       0                0   \n",
      "17                      0       ...                       0                0   \n",
      "18                      0       ...                       0                0   \n",
      "19                      0       ...                       0                0   \n",
      "20                      0       ...                       0                0   \n",
      "21                      0       ...                       0                0   \n",
      "22                      0       ...                       0                0   \n",
      "23                      0       ...                       0                0   \n",
      "24                      1       ...                       0                0   \n",
      "25                      0       ...                       0                0   \n",
      "26                      0       ...                       0                0   \n",
      "27                      0       ...                       0                0   \n",
      "28                      0       ...                       0                0   \n",
      "29                      0       ...                       0                0   \n",
      "...                   ...       ...                     ...              ...   \n",
      "1430                    0       ...                       0                0   \n",
      "1431                    1       ...                       0                0   \n",
      "1432                    0       ...                       0                0   \n",
      "1433                    0       ...                       0                0   \n",
      "1434                    0       ...                       0                0   \n",
      "1435                    0       ...                       0                0   \n",
      "1436                    0       ...                       0                0   \n",
      "1437                    0       ...                       0                0   \n",
      "1438                    0       ...                       0                0   \n",
      "1439                    0       ...                       0                0   \n",
      "1440                    0       ...                       0                0   \n",
      "1441                    0       ...                       0                0   \n",
      "1442                    0       ...                       0                0   \n",
      "1443                    0       ...                       0                0   \n",
      "1444                    0       ...                       0                0   \n",
      "1445                    0       ...                       0                0   \n",
      "1446                    0       ...                       0                0   \n",
      "1447                    0       ...                       0                0   \n",
      "1448                    0       ...                       0                0   \n",
      "1449                    0       ...                       0                0   \n",
      "1450                    0       ...                       0                0   \n",
      "1451                    0       ...                       0                0   \n",
      "1452                    0       ...                       0                0   \n",
      "1453                    0       ...                       0                0   \n",
      "1454                    0       ...                       0                0   \n",
      "1455                    0       ...                       0                0   \n",
      "1456                    1       ...                       0                0   \n",
      "1457                    0       ...                       0                0   \n",
      "1458                    0       ...                       0                0   \n",
      "1459                    0       ...                       0                0   \n",
      "\n",
      "      Condition2_RRAe  Condition2_RRAn  Condition2_RRNn  BldgType_1Fam  \\\n",
      "0                   0                0                0              1   \n",
      "1                   0                0                0              1   \n",
      "2                   0                0                0              1   \n",
      "3                   0                0                0              1   \n",
      "4                   0                0                0              1   \n",
      "5                   0                0                0              1   \n",
      "6                   0                0                0              1   \n",
      "7                   0                0                0              1   \n",
      "8                   0                0                0              1   \n",
      "9                   0                0                0              0   \n",
      "10                  0                0                0              1   \n",
      "11                  0                0                0              1   \n",
      "12                  0                0                0              1   \n",
      "13                  0                0                0              1   \n",
      "14                  0                0                0              1   \n",
      "15                  0                0                0              1   \n",
      "16                  0                0                0              1   \n",
      "17                  0                0                0              0   \n",
      "18                  0                0                0              1   \n",
      "19                  0                0                0              1   \n",
      "20                  0                0                0              1   \n",
      "21                  0                0                0              1   \n",
      "22                  0                0                0              1   \n",
      "23                  0                0                0              0   \n",
      "24                  0                0                0              1   \n",
      "25                  0                0                0              1   \n",
      "26                  0                0                0              1   \n",
      "27                  0                0                0              1   \n",
      "28                  0                0                0              1   \n",
      "29                  0                0                1              1   \n",
      "...               ...              ...              ...            ...   \n",
      "1430                0                0                0              1   \n",
      "1431                0                0                0              0   \n",
      "1432                0                0                0              1   \n",
      "1433                0                0                0              1   \n",
      "1434                0                0                0              1   \n",
      "1435                0                0                0              1   \n",
      "1436                0                0                0              1   \n",
      "1437                0                0                0              1   \n",
      "1438                0                0                0              1   \n",
      "1439                0                0                0              1   \n",
      "1440                0                0                0              1   \n",
      "1441                0                0                0              0   \n",
      "1442                0                0                0              1   \n",
      "1443                0                0                0              1   \n",
      "1444                0                0                0              1   \n",
      "1445                0                0                0              1   \n",
      "1446                0                0                0              1   \n",
      "1447                0                0                0              1   \n",
      "1448                0                0                0              1   \n",
      "1449                0                0                0              0   \n",
      "1450                0                0                0              0   \n",
      "1451                0                0                0              1   \n",
      "1452                0                0                0              0   \n",
      "1453                0                0                0              1   \n",
      "1454                0                0                0              1   \n",
      "1455                0                0                0              1   \n",
      "1456                0                0                0              1   \n",
      "1457                0                0                0              1   \n",
      "1458                0                0                0              1   \n",
      "1459                0                0                0              1   \n",
      "\n",
      "      BldgType_2fmCon  BldgType_Duplex  BldgType_Twnhs  BldgType_TwnhsE  \n",
      "0                   0                0               0                0  \n",
      "1                   0                0               0                0  \n",
      "2                   0                0               0                0  \n",
      "3                   0                0               0                0  \n",
      "4                   0                0               0                0  \n",
      "5                   0                0               0                0  \n",
      "6                   0                0               0                0  \n",
      "7                   0                0               0                0  \n",
      "8                   0                0               0                0  \n",
      "9                   1                0               0                0  \n",
      "10                  0                0               0                0  \n",
      "11                  0                0               0                0  \n",
      "12                  0                0               0                0  \n",
      "13                  0                0               0                0  \n",
      "14                  0                0               0                0  \n",
      "15                  0                0               0                0  \n",
      "16                  0                0               0                0  \n",
      "17                  0                1               0                0  \n",
      "18                  0                0               0                0  \n",
      "19                  0                0               0                0  \n",
      "20                  0                0               0                0  \n",
      "21                  0                0               0                0  \n",
      "22                  0                0               0                0  \n",
      "23                  0                0               0                1  \n",
      "24                  0                0               0                0  \n",
      "25                  0                0               0                0  \n",
      "26                  0                0               0                0  \n",
      "27                  0                0               0                0  \n",
      "28                  0                0               0                0  \n",
      "29                  0                0               0                0  \n",
      "...               ...              ...             ...              ...  \n",
      "1430                0                0               0                0  \n",
      "1431                0                0               0                1  \n",
      "1432                0                0               0                0  \n",
      "1433                0                0               0                0  \n",
      "1434                0                0               0                0  \n",
      "1435                0                0               0                0  \n",
      "1436                0                0               0                0  \n",
      "1437                0                0               0                0  \n",
      "1438                0                0               0                0  \n",
      "1439                0                0               0                0  \n",
      "1440                0                0               0                0  \n",
      "1441                0                0               0                1  \n",
      "1442                0                0               0                0  \n",
      "1443                0                0               0                0  \n",
      "1444                0                0               0                0  \n",
      "1445                0                0               0                0  \n",
      "1446                0                0               0                0  \n",
      "1447                0                0               0                0  \n",
      "1448                0                0               0                0  \n",
      "1449                0                0               1                0  \n",
      "1450                0                1               0                0  \n",
      "1451                0                0               0                0  \n",
      "1452                0                0               0                1  \n",
      "1453                0                0               0                0  \n",
      "1454                0                0               0                0  \n",
      "1455                0                0               0                0  \n",
      "1456                0                0               0                0  \n",
      "1457                0                0               0                0  \n",
      "1458                0                0               0                0  \n",
      "1459                0                0               0                0  \n",
      "\n",
      "[1460 rows x 61 columns]\n"
     ]
    }
   ],
   "source": [
    "from sklearn.svm import SVC\n",
    "svm = SVC(C=100)\n",
    "# price categories\n",
    "pc = pd.Series(np.zeros(train.shape[0]))\n",
    "pc[:] = 'pc1'\n",
    "pc[train.SalePrice >= 150000] = 'pc2'\n",
    "pc[train.SalePrice >= 220000] = 'pc3'\n",
    "columns_for_pc = ['Exterior1st', 'Exterior2nd', 'RoofMatl', 'Condition1', 'Condition2', 'BldgType']\n",
    "X_t = pd.get_dummies(train.loc[:, columns_for_pc], sparse=True)\n",
    "svm.fit(X_t, pc)\n",
    "pc_pred = svm.predict(X_t)\n",
    "print(X_t)"
   ]
  },
  {
   "cell_type": "code",
   "execution_count": null,
   "metadata": {
    "_cell_guid": "b7ecdeae-937b-a58d-befc-4d2b638e1041",
    "_uuid": "c5e7a090f62d8b5699029bca73b95396558dadb2",
    "collapsed": true
   },
   "outputs": [],
   "source": [
    "p = train.SalePrice/100000\n",
    "plt.hist(p[pc_pred=='pc1'])\n",
    "plt.hist(p[pc_pred=='pc2'])\n",
    "plt.hist(p[pc_pred=='pc3'])"
   ]
  },
  {
   "cell_type": "code",
   "execution_count": null,
   "metadata": {
    "_cell_guid": "b444fe09-fd4b-28e9-a08d-6080f8e9ea1d",
    "_uuid": "9a03da24bb594c2c73710a86afe597e23701ac41",
    "collapsed": true
   },
   "outputs": [],
   "source": [
    "price_category = pd.DataFrame(np.zeros((all_data.shape[0],1)), columns=['pc'])\n",
    "X_t = pd.get_dummies(all_data.loc[:, columns_for_pc], sparse=True)\n",
    "pc_pred = svm.predict(X_t)\n",
    "price_category[pc_pred=='pc2'] = 1\n",
    "price_category[pc_pred=='pc3'] = 2\n",
    "price_category = price_category.to_sparse()"
   ]
  },
  {
   "cell_type": "code",
   "execution_count": null,
   "metadata": {
    "_cell_guid": "df571648-bb68-1eed-ad9f-e924911f4dbf",
    "_uuid": "2eec8334a49a6ecf874416b43ce065edf28273c0",
    "collapsed": true
   },
   "outputs": [],
   "source": [
    "# Monthes with the lagest number of deals may be significant\n",
    "season = all_data.MoSold.replace( {1: 0, \n",
    "                                   2: 0, \n",
    "                                   3: 0, \n",
    "                                   4: 1,\n",
    "                                   5: 1, \n",
    "                                   6: 1,\n",
    "                                   7: 1,\n",
    "                                   8: 0,\n",
    "                                   9: 0,\n",
    "                                  10: 0,\n",
    "                                  11: 0,\n",
    "                                  12: 0})\n",
    "season.name = 'season'\n",
    "\n",
    "# Numer month is not significant\n",
    "all_data = all_data.replace({'MoSold': {1: 'Yan', \n",
    "                                        2: 'Feb', \n",
    "                                        3: 'Mar', \n",
    "                                        4: 'Apr',\n",
    "                                        5: 'May', \n",
    "                                        6: 'Jun',\n",
    "                                        7: 'Jul',\n",
    "                                        8: 'Avg',\n",
    "                                        9: 'Sep',\n",
    "                                        10: 'Oct',\n",
    "                                        11: 'Nov',\n",
    "                                        12: 'Dec'}})"
   ]
  },
  {
   "cell_type": "code",
   "execution_count": null,
   "metadata": {
    "_cell_guid": "7428a0fe-0695-1709-fbee-e57148f7eb39",
    "_uuid": "ccd1a7a73f9928a58fa03a830e7f5a36745908cc",
    "collapsed": true
   },
   "outputs": [],
   "source": [
    "all_data = all_data.replace({'CentralAir': {'Y': 1, \n",
    "                                            'N': 0}})\n",
    "all_data = all_data.replace({'PavedDrive': {'Y': 1, \n",
    "                                            'P': 0,\n",
    "                                            'N': 0}})"
   ]
  },
  {
   "cell_type": "code",
   "execution_count": null,
   "metadata": {
    "_cell_guid": "4a4b1ece-a80f-0071-8020-522e9c75fa26",
    "_uuid": "cb559256ec26fd75ffcc10b08fcb15a09cc9d649",
    "collapsed": true
   },
   "outputs": [],
   "source": [
    "reconstruct = pd.DataFrame(np.zeros((all_data.shape[0],1)), columns=['Reconstruct'])\n",
    "reconstruct[all_data.YrSold < all_data.YearRemodAdd] = 1\n",
    "reconstruct = reconstruct.to_sparse()\n",
    "\n",
    "recon_after_buy = pd.DataFrame(np.zeros((all_data.shape[0],1)), columns=['ReconstructAfterBuy'])\n",
    "recon_after_buy[all_data.YearRemodAdd >= all_data.YrSold] = 1\n",
    "recon_after_buy = recon_after_buy.to_sparse()\n",
    "\n",
    "build_eq_buy = pd.DataFrame(np.zeros((all_data.shape[0],1)), columns=['Build.eq.Buy'])\n",
    "build_eq_buy[all_data.YearBuilt >= all_data.YrSold] = 1\n",
    "build_eq_buy = build_eq_buy.to_sparse()"
   ]
  },
  {
   "cell_type": "code",
   "execution_count": null,
   "metadata": {
    "_cell_guid": "4aac1977-9a4c-0dfe-8abc-737cb0c945cb",
    "_uuid": "a4311fdf28fa84723e80689a2b63763db0435009",
    "collapsed": true
   },
   "outputs": [],
   "source": [
    "# I hope this will help\n",
    "all_data.YrSold = 2010 - all_data.YrSold"
   ]
  },
  {
   "cell_type": "code",
   "execution_count": null,
   "metadata": {
    "_cell_guid": "54ee71df-fdcd-00df-6adf-f76453daacdf",
    "_uuid": "7c587ae539c0a1dc27a04689d176bcc1f6e15e1c",
    "collapsed": true
   },
   "outputs": [],
   "source": [
    "year_map = pd.concat(pd.Series('YearGroup' + str(i+1), index=range(1871+i*20,1891+i*20)) for i in range(0, 7))\n",
    "all_data.GarageYrBlt = all_data.GarageYrBlt.map(year_map)\n",
    "all_data.loc[all_data['GarageYrBlt'].isnull(), 'GarageYrBlt'] = 'NoGarage'"
   ]
  },
  {
   "cell_type": "code",
   "execution_count": null,
   "metadata": {
    "_cell_guid": "060e746d-16fb-1d41-468a-584b1c5b1cb3",
    "_uuid": "2cfd40a9ea544e0022416ae590ff231268d8928b",
    "collapsed": true
   },
   "outputs": [],
   "source": [
    "all_data.YearBuilt = all_data.YearBuilt.map(year_map)\n",
    "all_data.YearRemodAdd = all_data.YearRemodAdd.map(year_map)"
   ]
  },
  {
   "cell_type": "markdown",
   "metadata": {
    "_cell_guid": "6ebb4194-80fb-a91d-e153-cd38688b4a1d",
    "_uuid": "b286135915b7fbc8aad2d76a847741ee5eab7d50"
   },
   "source": [
    "Scaling numeric data"
   ]
  },
  {
   "cell_type": "code",
   "execution_count": null,
   "metadata": {
    "_cell_guid": "2b153f12-8081-ebe4-e503-3c55c8350618",
    "_uuid": "fcf2d5c286465a8df8b43f1cd0416c5879fc82c2",
    "collapsed": true
   },
   "outputs": [],
   "source": [
    "numeric_feats = all_data.dtypes[all_data.dtypes != \"object\"].index\n",
    "\n",
    "t = all_data[numeric_feats].quantile(.95)\n",
    "use_max_scater = t[t == 0].index\n",
    "use_95_scater = t[t != 0].index\n",
    "all_data[use_max_scater] = all_data[use_max_scater]/all_data[use_max_scater].max()\n",
    "all_data[use_95_scater] = all_data[use_95_scater]/all_data[use_95_scater].quantile(.95)"
   ]
  },
  {
   "cell_type": "code",
   "execution_count": null,
   "metadata": {
    "_cell_guid": "89aace43-ac8c-3c7d-eaf7-c6d85adec796",
    "_uuid": "cb9423f934732925caf48c93ebe899a15a5c1610",
    "collapsed": true
   },
   "outputs": [],
   "source": [
    "t = ['LotFrontage', 'LotArea', 'MasVnrArea', 'BsmtFinSF1', 'BsmtFinSF2', 'BsmtUnfSF', 'TotalBsmtSF', \n",
    "     '1stFlrSF', '2ndFlrSF', 'LowQualFinSF', 'GrLivArea', 'GarageArea', 'WoodDeckSF', 'OpenPorchSF', \n",
    "     'EnclosedPorch', '3SsnPorch', 'ScreenPorch', 'PoolArea', 'MiscVal']\n",
    "\n",
    "all_data.loc[:, t] = np.log1p(all_data.loc[:, t])"
   ]
  },
  {
   "cell_type": "markdown",
   "metadata": {
    "_cell_guid": "063dfaf9-7f49-5c62-655b-8c35d5d2f19e",
    "_uuid": "944eed58f45927b66d50bd6e30f8bbed96904f20"
   },
   "source": [
    "## Preparing for sklearn##"
   ]
  },
  {
   "cell_type": "code",
   "execution_count": null,
   "metadata": {
    "_cell_guid": "83da8155-1385-dce5-9e8b-4630ef12ff61",
    "_uuid": "a5d7da0caff7db71db16ab2a844bb06c3eb8aaed",
    "collapsed": true
   },
   "outputs": [],
   "source": [
    "# all classes in sklearn requires numeric data only\n",
    "# transform categorical variable into binary\n",
    "X = pd.get_dummies(all_data, sparse=True)\n",
    "X = X.fillna(0)"
   ]
  },
  {
   "cell_type": "code",
   "execution_count": null,
   "metadata": {
    "_cell_guid": "a64a33b1-9cd0-986a-bc12-76b30a69f912",
    "_uuid": "a82b5970c755ca3a3dd01977a3aa640c2d096fd1",
    "collapsed": true
   },
   "outputs": [],
   "source": [
    "X = X.drop('RoofMatl_ClyTile', axis=1) # only one is not zero\n",
    "X = X.drop('Condition2_PosN', axis=1) # only two is not zero\n",
    "X = X.drop('MSZoning_C (all)', axis=1)\n",
    "X = X.drop('MSSubClass_SubClass_160', axis=1)\n",
    "# this features definitely couse overfitting"
   ]
  },
  {
   "cell_type": "code",
   "execution_count": null,
   "metadata": {
    "_cell_guid": "4c3e142c-018d-484d-1b49-997d671a8b12",
    "_uuid": "9c31293f5aeb188f0033b700757ec1302f380401",
    "collapsed": true
   },
   "outputs": [],
   "source": [
    "# add new features\n",
    "X = pd.concat((X, newer_dwelling, season, reconstruct, recon_after_buy,\n",
    "               qu_list, bad_heating, MasVnrType_Any, price_category, build_eq_buy), axis=1)"
   ]
  },
  {
   "cell_type": "markdown",
   "metadata": {
    "_cell_guid": "a3d8ee03-439b-1fe1-0170-2948e08f2fb2",
    "_uuid": "b8a92873caf10f9630e319f18421afb415f679af"
   },
   "source": [
    "Next step is guess what new feachers we need to intoduse to make the model better. I'll make a lot of feachers and model wiil choose"
   ]
  },
  {
   "cell_type": "code",
   "execution_count": null,
   "metadata": {
    "_cell_guid": "ab19a761-2876-11c8-3fdb-9fbe703872e3",
    "_uuid": "27bc2c13ed6c549e0160750287cb84f98cbe590b",
    "collapsed": true
   },
   "outputs": [],
   "source": [
    "from itertools import product, chain\n",
    "\n",
    "def poly(X):\n",
    "    areas = ['LotArea', 'TotalBsmtSF', 'GrLivArea', 'GarageArea', 'BsmtUnfSF']\n",
    "    # t = [s for s in X.axes[1].get_values() if s not in areas]\n",
    "    t = chain(qu_list.axes[1].get_values(), \n",
    "              ['OverallQual', 'OverallCond', 'ExterQual', 'ExterCond', 'BsmtCond', 'GarageQual', 'GarageCond',\n",
    "               'KitchenQual', 'HeatingQC', 'bad_heating', 'MasVnrType_Any', 'SaleCondition_PriceDown', 'Reconstruct',\n",
    "               'ReconstructAfterBuy', 'Build.eq.Buy'])\n",
    "    for a, t in product(areas, t):\n",
    "        x = X.loc[:, [a, t]].prod(1)\n",
    "        x.name = a + '_' + t\n",
    "        yield x\n",
    "\n",
    "XP = pd.concat(poly(X), axis=1)\n",
    "X = pd.concat((X, XP), axis=1)"
   ]
  },
  {
   "cell_type": "code",
   "execution_count": null,
   "metadata": {
    "_cell_guid": "cbdd91b4-6ea3-d1bd-3f13-8b92f9265048",
    "_uuid": "e89dd3b4cf8bced10bbe669d6053d71cb98050fc",
    "collapsed": true
   },
   "outputs": [],
   "source": [
    "X_train = X[:train.shape[0]]\n",
    "X_test = X[train.shape[0]:]"
   ]
  },
  {
   "cell_type": "code",
   "execution_count": null,
   "metadata": {
    "_cell_guid": "b4560804-7a54-6f1f-6781-1b173b55e5cd",
    "_uuid": "f4d367ced1e595c59c332e4f74d002b7cc850648",
    "collapsed": true
   },
   "outputs": [],
   "source": [
    "# the model has become really big\n",
    "X_train.shape"
   ]
  },
  {
   "cell_type": "code",
   "execution_count": null,
   "metadata": {
    "_cell_guid": "b9faea74-013d-0813-9715-44d11b6665ff",
    "_uuid": "ff84df81f7bfb3d4ab466a328b92bce2c6279078",
    "collapsed": true
   },
   "outputs": [],
   "source": [
    "y = np.log1p(train.SalePrice)"
   ]
  },
  {
   "cell_type": "code",
   "execution_count": null,
   "metadata": {
    "_cell_guid": "4be5d5c6-91c1-3f5f-c548-82014a276284",
    "_uuid": "87e4f77430e6620db588ca5ad43502229186ae69",
    "collapsed": true
   },
   "outputs": [],
   "source": [
    "# this come from iterational model improvment. I was trying to understand why the model gives to the two points much better price\n",
    "x_plot = X_train.loc[X_train['SaleCondition_Partial']==1, 'GrLivArea']\n",
    "y_plot = y[X_train['SaleCondition_Partial']==1]\n",
    "plt.scatter(x_plot, y_plot)"
   ]
  },
  {
   "cell_type": "code",
   "execution_count": null,
   "metadata": {
    "_cell_guid": "7b9a32b8-a62d-08c0-523c-d70b8dd23140",
    "_uuid": "cd3e3fe79eae0ae2e6c3629ca3665eaaebc45249",
    "collapsed": true
   },
   "outputs": [],
   "source": [
    "outliers_id = np.array([524, 1299])\n",
    "\n",
    "outliers_id = outliers_id - 1 # id starts with 1, index starts with 0\n",
    "X_train = X_train.drop(outliers_id)\n",
    "y = y.drop(outliers_id)\n",
    "# There are difinetly more outliers"
   ]
  },
  {
   "cell_type": "code",
   "execution_count": null,
   "metadata": {
    "_cell_guid": "1d04b984-f245-56ed-7fd0-5aff233d4e2e",
    "_uuid": "8b565dacaaa429d9905acdf939d2dfcf78c99a71",
    "collapsed": true
   },
   "outputs": [],
   "source": [
    "from sklearn.cross_validation import cross_val_score\n",
    "from sklearn.metrics import make_scorer, mean_squared_error\n",
    "\n",
    "def rmsle(y, y_pred):\n",
    "     return np.sqrt((( (np.log1p(y_pred*price_scale)- np.log1p(y*price_scale)) )**2).mean())\n",
    "\n",
    "# scorer = make_scorer(rmsle, False)\n",
    "scorer = make_scorer(mean_squared_error, False)\n",
    "\n",
    "def rmse_cv(model, X, y):\n",
    "     return (cross_val_score(model, X, y, scoring=scorer)).mean()"
   ]
  },
  {
   "cell_type": "markdown",
   "metadata": {
    "_cell_guid": "66d40c8e-cf67-3810-965a-814f140e69c3",
    "_uuid": "15f950e621222f49c511936bee935f8fa3a38d5a"
   },
   "source": [
    "## Learning ##\n",
    "The model is sparse with n_features > n_samples. Likely it's linear.  It is classic case to use the Lasso model"
   ]
  },
  {
   "cell_type": "code",
   "execution_count": null,
   "metadata": {
    "_cell_guid": "af3513a4-b20d-2ed7-705c-c9a57d9d042a",
    "_uuid": "f914415fd851422cf040f4b1a7a56f1ac1e935bf",
    "collapsed": true
   },
   "outputs": [],
   "source": [
    "alphas = [1e-4, 5e-4, 1e-3, 5e-3]\n",
    "cv_lasso = [rmse_cv(Lasso(alpha = alpha, max_iter=50000), X_train, y) for alpha in alphas]\n",
    "pd.Series(cv_lasso, index = alphas).plot()"
   ]
  },
  {
   "cell_type": "markdown",
   "metadata": {
    "_cell_guid": "c1e2a969-b462-9393-5be4-09d042567cef",
    "_uuid": "c20624fede96041f99eb761b90d3fa917968b26b"
   },
   "source": [
    "Choose alpha with better score"
   ]
  },
  {
   "cell_type": "code",
   "execution_count": null,
   "metadata": {
    "_cell_guid": "93eddc21-2573-06ac-7487-d3ad7180941b",
    "_uuid": "c695fe97ef7bf0875b969e06f64e28ccff40713d",
    "collapsed": true
   },
   "outputs": [],
   "source": [
    "model_lasso = Lasso(alpha=5e-4, max_iter=50000).fit(X_train, y)"
   ]
  },
  {
   "cell_type": "markdown",
   "metadata": {
    "_cell_guid": "27a3f809-5300-758d-f379-0c9ccaf988b5",
    "_uuid": "b578e655e0f51196d967b53701ee6550b44ae0d6"
   },
   "source": [
    "## Getting results##"
   ]
  },
  {
   "cell_type": "code",
   "execution_count": null,
   "metadata": {
    "_cell_guid": "09ab72bf-82c6-f2b1-3818-668fef834c62",
    "_uuid": "6d708e1a2fd21fd3b3d0e95fb1ba312ebe3eec41",
    "collapsed": true
   },
   "outputs": [],
   "source": [
    "coef = pd.Series(model_lasso.coef_, index = X_train.columns).sort_values()\n",
    "imp_coef = pd.concat([coef.head(10), coef.tail(10)])\n",
    "imp_coef.plot(kind = \"barh\")\n",
    "plt.title(\"Coefficients in the Model\")"
   ]
  },
  {
   "cell_type": "markdown",
   "metadata": {
    "_cell_guid": "9aefbc31-64a7-9461-8ba0-7a72841589c0",
    "_uuid": "0cdd8258503e8472c26d24f6e61256366462bc7c"
   },
   "source": [
    "Some features still look suspicious. May be, we need to exlude them like RoofMatl_ClyTile and others"
   ]
  },
  {
   "cell_type": "code",
   "execution_count": null,
   "metadata": {
    "_cell_guid": "f036759b-2fd7-80e5-ecd1-f3facb725451",
    "_uuid": "4b3d736e820da6b0d6a44698664f441f02ef747f",
    "collapsed": true
   },
   "outputs": [],
   "source": [
    "# This is a good way to see how model predict data\n",
    "p_pred = np.expm1(model_lasso.predict(X_train))\n",
    "plt.scatter(p_pred, np.expm1(y))\n",
    "plt.plot([min(p_pred),max(p_pred)], [min(p_pred),max(p_pred)], c=\"red\")"
   ]
  },
  {
   "cell_type": "markdown",
   "metadata": {
    "_cell_guid": "ca10ffb3-cc8d-b9a5-dd28-5cdeafd238aa",
    "_uuid": "c32d04dca772315fd6e3b6e1f32b8c3099f90cce"
   },
   "source": [
    "Some point are far from the red line. May be they are outliers like the 524th and the 1299th"
   ]
  },
  {
   "cell_type": "code",
   "execution_count": null,
   "metadata": {
    "_cell_guid": "6772895c-191f-98dd-b99c-f574a68ebe0c",
    "_uuid": "1a73c3528df3522ae1c266af44a8dd45fcef7a64",
    "collapsed": true
   },
   "outputs": [],
   "source": [
    "# save to file to make a submission\n",
    "p = np.expm1(model_lasso.predict(X_test))\n",
    "solution = pd.DataFrame({\"id\":test.Id, \"SalePrice\":p}, columns=['id', 'SalePrice'])\n",
    "solution.to_csv(\"lasso_sol.csv\", index = False)"
   ]
  },
  {
   "cell_type": "markdown",
   "metadata": {
    "_cell_guid": "f05a8111-558e-3d8e-0b91-9febf6e45696",
    "_uuid": "a3a0f726546685b16155a6504eaea15043c14967"
   },
   "source": [
    "## Model improvement##\n",
    "With various model tunnings I've got 0.11720 in public leaderboard. Ways of improvement are find some more outliers and exlude (or include) features."
   ]
  }
 ],
 "metadata": {
  "_change_revision": 0,
  "_is_fork": false,
  "kernelspec": {
   "display_name": "Python 3",
   "language": "python",
   "name": "python3"
  },
  "language_info": {
   "codemirror_mode": {
    "name": "ipython",
    "version": 3
   },
   "file_extension": ".py",
   "mimetype": "text/x-python",
   "name": "python",
   "nbconvert_exporter": "python",
   "pygments_lexer": "ipython3",
   "version": "3.6.4"
  }
 },
 "nbformat": 4,
 "nbformat_minor": 1
}
