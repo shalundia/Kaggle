{
  "nbformat": 4,
  "nbformat_minor": 0,
  "metadata": {
    "colab": {
      "name": "Untitled3.ipynb",
      "version": "0.3.2",
      "provenance": [],
      "include_colab_link": true
    },
    "kernelspec": {
      "name": "python3",
      "display_name": "Python 3"
    }
  },
  "cells": [
    {
      "cell_type": "markdown",
      "metadata": {
        "id": "view-in-github",
        "colab_type": "text"
      },
      "source": [
        "[View in Colaboratory](https://colab.research.google.com/github/shalundia/Kaggle/blob/master/digit-recognizer/CNN.ipynb)"
      ]
    },
    {
      "metadata": {
        "id": "j5yjzlpqCj1Y",
        "colab_type": "code",
        "colab": {
          "base_uri": "https://localhost:8080/",
          "height": 102
        },
        "outputId": "8e601d9a-749e-4aec-9502-e455cc19d861"
      },
      "cell_type": "code",
      "source": [
        "!git clone \"https://github.com/shalundia/Kaggle\""
      ],
      "execution_count": 1,
      "outputs": [
        {
          "output_type": "stream",
          "text": [
            "Cloning into 'Kaggle'...\n",
            "remote: Counting objects: 59, done.\u001b[K\n",
            "remote: Compressing objects: 100% (43/43), done.\u001b[K\n",
            "remote: Total 59 (delta 23), reused 43 (delta 14), pack-reused 0\u001b[K\n",
            "Unpacking objects: 100% (59/59), done.\n"
          ],
          "name": "stdout"
        }
      ]
    },
    {
      "metadata": {
        "id": "65EVtw_NDgRi",
        "colab_type": "code",
        "colab": {
          "base_uri": "https://localhost:8080/",
          "height": 68
        },
        "outputId": "09087c18-a497-481c-9c63-ecd5cd45f04b"
      },
      "cell_type": "code",
      "source": [
        "'''Trains a simple convnet on the MNIST dataset.\n",
        "Gets to 99.25% test accuracy after 12 epochs\n",
        "(there is still a lot of margin for parameter tuning).\n",
        "16 seconds per epoch on a GRID K520 GPU.\n",
        "'''\n",
        "\n",
        "from __future__ import print_function\n",
        "import keras\n",
        "from keras.datasets import mnist\n",
        "from keras.models import Sequential\n",
        "from keras.layers import Dense, Dropout, Flatten\n",
        "from keras.layers import Conv2D, MaxPooling2D\n",
        "from keras import backend as K\n",
        "import numpy as np\n",
        "\n",
        "batch_size = 128\n",
        "num_classes = 10\n",
        "epochs = 12\n",
        "\n",
        "# input image dimensions\n",
        "img_rows, img_cols = 28, 28\n",
        "\n",
        "# the data, split between train and test sets\n",
        "#(x_train, y_train), (x_test, y_test) = mnist.load_data()\n",
        "data=np.loadtxt(open('Kaggle/digit-recognizer/train.csv', \"rb\"), delimiter=\",\", skiprows=1)\n",
        "x_train = data[:,1:]\n",
        "y_train = data[:,0]\n",
        "\n",
        "test=np.loadtxt(open('Kaggle/digit-recognizer/test.csv', \"rb\"), delimiter=\",\", skiprows=1)\n",
        "x_test = test\n",
        "\n",
        "print(x_train.shape[0])\n",
        "print(x_test.shape[0])"
      ],
      "execution_count": 2,
      "outputs": [
        {
          "output_type": "stream",
          "text": [
            "Using TensorFlow backend.\n"
          ],
          "name": "stderr"
        },
        {
          "output_type": "stream",
          "text": [
            "42000\n",
            "28000\n"
          ],
          "name": "stdout"
        }
      ]
    },
    {
      "metadata": {
        "id": "z1_GRBM7Dg4N",
        "colab_type": "code",
        "colab": {
          "base_uri": "https://localhost:8080/",
          "height": 493
        },
        "outputId": "1c246b1d-8ae4-45df-fa16-ba0ab1ecd24f"
      },
      "cell_type": "code",
      "source": [
        "if K.image_data_format() == 'channels_first':\n",
        "    x_train = x_train.reshape(x_train.shape[0], 1, img_rows, img_cols)\n",
        "    x_test = x_test.reshape(x_test.shape[0], 1, img_rows, img_cols)\n",
        "    input_shape = (1, img_rows, img_cols)\n",
        "else:\n",
        "    x_train = x_train.reshape(x_train.shape[0], img_rows, img_cols, 1)\n",
        "    x_test = x_test.reshape(x_test.shape[0], img_rows, img_cols, 1)\n",
        "    input_shape = (img_rows, img_cols, 1)\n",
        "\n",
        "x_train = x_train.astype('float32')\n",
        "x_test = x_test.astype('float32')\n",
        "x_train /= 255\n",
        "x_test /= 255\n",
        "print('x_train shape:', x_train.shape)\n",
        "print(x_train.shape[0], 'train samples')\n",
        "print(x_test.shape[0], 'test samples')\n",
        "\n",
        "# convert class vectors to binary class matrices\n",
        "y_train = keras.utils.to_categorical(y_train, num_classes)\n",
        "#y_test = keras.utils.to_categorical(y_test, num_classes)\n",
        "\n",
        "model = Sequential()\n",
        "model.add(Conv2D(32, kernel_size=(3, 3),\n",
        "                 activation='relu',\n",
        "                 input_shape=input_shape))\n",
        "model.add(Conv2D(64, (3, 3), activation='relu'))\n",
        "model.add(MaxPooling2D(pool_size=(2, 2)))\n",
        "model.add(Dropout(0.25))\n",
        "model.add(Flatten())\n",
        "model.add(Dense(128, activation='relu'))\n",
        "model.add(Dropout(0.5))\n",
        "model.add(Dense(num_classes, activation='softmax'))\n",
        "\n",
        "model.compile(loss=keras.losses.categorical_crossentropy,\n",
        "              optimizer=keras.optimizers.Adadelta(),\n",
        "              metrics=['accuracy'])\n",
        "\n",
        "model.fit(x_train, y_train,\n",
        "          batch_size=batch_size,\n",
        "          epochs=epochs,\n",
        "          verbose=1)\n",
        "          #validation_data=(x_test, y_test))\n",
        "#score = model.evaluate(x_test, y_test, verbose=0)\n",
        "#print('Test loss:', score[0])\n",
        "#print('Test accuracy:', score[1])"
      ],
      "execution_count": 3,
      "outputs": [
        {
          "output_type": "stream",
          "text": [
            "x_train shape: (42000, 28, 28, 1)\n",
            "42000 train samples\n",
            "28000 test samples\n",
            "Epoch 1/12\n",
            "42000/42000 [==============================] - 113s 3ms/step - loss: 0.3180 - acc: 0.9012\n",
            "Epoch 2/12\n",
            "42000/42000 [==============================] - 113s 3ms/step - loss: 0.1061 - acc: 0.9679\n",
            "Epoch 3/12\n",
            "42000/42000 [==============================] - 113s 3ms/step - loss: 0.0766 - acc: 0.9769\n",
            "Epoch 4/12\n",
            "42000/42000 [==============================] - 113s 3ms/step - loss: 0.0612 - acc: 0.9820\n",
            "Epoch 5/12\n",
            "42000/42000 [==============================] - 113s 3ms/step - loss: 0.0509 - acc: 0.9846\n",
            "Epoch 6/12\n",
            "42000/42000 [==============================] - 114s 3ms/step - loss: 0.0458 - acc: 0.9860\n",
            "Epoch 7/12\n",
            "42000/42000 [==============================] - 113s 3ms/step - loss: 0.0415 - acc: 0.9876\n",
            "Epoch 8/12\n",
            "42000/42000 [==============================] - 113s 3ms/step - loss: 0.0353 - acc: 0.9899\n",
            "Epoch 9/12\n",
            "42000/42000 [==============================] - 113s 3ms/step - loss: 0.0334 - acc: 0.9897\n",
            "Epoch 10/12\n",
            "42000/42000 [==============================] - 113s 3ms/step - loss: 0.0306 - acc: 0.9906\n",
            "Epoch 11/12\n",
            "42000/42000 [==============================] - 115s 3ms/step - loss: 0.0281 - acc: 0.9911\n",
            "Epoch 12/12\n",
            "42000/42000 [==============================] - 113s 3ms/step - loss: 0.0253 - acc: 0.9921\n"
          ],
          "name": "stdout"
        },
        {
          "output_type": "execute_result",
          "data": {
            "text/plain": [
              "<keras.callbacks.History at 0x7fcba5cc9470>"
            ]
          },
          "metadata": {
            "tags": []
          },
          "execution_count": 3
        }
      ]
    },
    {
      "metadata": {
        "id": "63G0nAYARa2W",
        "colab_type": "code",
        "colab": {}
      },
      "cell_type": "code",
      "source": [
        "prediction=model.predict(x_test,batch_size=batch_size)\n",
        "\n",
        "submission=np.argmax(prediction,axis=1)\n",
        "\n",
        "import pandas as pd\n",
        "sub=pd.DataFrame()\n",
        "sub['ImageId']=np.arange(start=1,stop=(len(test)+1))\n",
        "sub['Label']=submission\n",
        "sub.to_csv(\"submission.csv\",index=False)\n",
        "\n",
        "\n",
        "from google.colab import files\n",
        "files.download('submission.csv')"
      ],
      "execution_count": 0,
      "outputs": []
    },
    {
      "metadata": {
        "id": "BImlwkEcG6Y7",
        "colab_type": "code",
        "colab": {
          "base_uri": "https://localhost:8080/",
          "height": 170
        },
        "outputId": "16977637-c9a4-4040-f5ed-48a5b12a4cf7"
      },
      "cell_type": "code",
      "source": [
        "prediction[0:3,:]"
      ],
      "execution_count": 8,
      "outputs": [
        {
          "output_type": "execute_result",
          "data": {
            "text/plain": [
              "array([[4.65541472e-09, 1.34197653e-10, 9.99999166e-01, 7.93807601e-07,\n",
              "        7.27074928e-11, 6.17560933e-11, 8.38700567e-11, 9.65903002e-09,\n",
              "        7.92610866e-09, 1.47224052e-10],\n",
              "       [9.99911904e-01, 1.20163692e-08, 3.04700166e-06, 1.24623091e-06,\n",
              "        1.60426950e-09, 6.64504332e-05, 1.29396167e-05, 4.31762328e-06,\n",
              "        9.87512383e-09, 1.03835099e-07],\n",
              "       [2.27875219e-11, 3.36286068e-11, 1.83437336e-08, 5.15478362e-08,\n",
              "        1.05014522e-06, 1.09607385e-07, 2.09031403e-12, 3.01166779e-07,\n",
              "        4.60854537e-08, 9.99998450e-01]], dtype=float32)"
            ]
          },
          "metadata": {
            "tags": []
          },
          "execution_count": 8
        }
      ]
    },
    {
      "metadata": {
        "id": "ob2ab9Z1HhUD",
        "colab_type": "code",
        "colab": {}
      },
      "cell_type": "code",
      "source": [
        "submission=np.argmax(prediction,axis=1)\n"
      ],
      "execution_count": 0,
      "outputs": []
    },
    {
      "metadata": {
        "id": "4_7MRVNYJR04",
        "colab_type": "code",
        "colab": {
          "base_uri": "https://localhost:8080/",
          "height": 34
        },
        "outputId": "3d7612fc-79ba-4a82-c932-4559c6df7f51"
      },
      "cell_type": "code",
      "source": [
        "submission[0:5]"
      ],
      "execution_count": 10,
      "outputs": [
        {
          "output_type": "execute_result",
          "data": {
            "text/plain": [
              "array([2, 0, 9, 9, 3])"
            ]
          },
          "metadata": {
            "tags": []
          },
          "execution_count": 10
        }
      ]
    },
    {
      "metadata": {
        "id": "Yyrhz5wSJWje",
        "colab_type": "code",
        "colab": {}
      },
      "cell_type": "code",
      "source": [
        ""
      ],
      "execution_count": 0,
      "outputs": []
    }
  ]
}