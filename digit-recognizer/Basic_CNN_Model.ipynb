{
 "cells": [
  {
   "cell_type": "code",
   "execution_count": 2,
   "metadata": {
    "colab": {
     "base_uri": "https://localhost:8080/",
     "height": 102
    },
    "colab_type": "code",
    "id": "6e335-Urfd0F",
    "outputId": "5d7f39f1-f675-4821-8598-5be4f8d7a798"
   },
   "outputs": [
    {
     "name": "stdout",
     "output_type": "stream",
     "text": [
      "Cloning into 'Kaggle'...\n",
      "remote: Counting objects: 35, done.\u001b[K\n",
      "remote: Compressing objects: 100% (25/25), done.\u001b[K\n",
      "remote: Total 35 (delta 11), reused 31 (delta 10), pack-reused 0\u001b[K\n",
      "Unpacking objects: 100% (35/35), done.\n"
     ]
    }
   ],
   "source": [
    "[View in Colaboratory](https://colab.research.google.com/github/shalundia/Kaggle/blob/master/Untitled0.ipynb)\n",
    "\n",
    "!git clone https://github.com/shalundia/Kaggle.git\n",
    "\n",
    "# TensorFlow and tf.keras\n",
    "import tensorflow as tf\n",
    "from tensorflow import keras\n",
    "\n",
    "# Helper libraries\n",
    "import pandas as pd\n",
    "import numpy as np\n",
    "import matplotlib.pyplot as plt\n",
    "\n",
    "print(tf.__version__)\n",
    "\n",
    "#load train and test data\n",
    "path = 'Kaggle/digit-recognizer/'\n",
    "data=np.loadtxt(open(path+'train.csv', \"rb\"), delimiter=\",\", skiprows=1)\n",
    "test=np.loadtxt(open(path+'test.csv',\"rb\"),delimiter=\",\", skiprows=1)\n",
    "target=data[:,0]\n",
    "train=data[:,1:]/255.0\n",
    "test=test/255.0\n",
    "\n",
    "\n",
    "#set up an simple keras model, it has 2 full connect layer \n",
    "#which momic an perceptron model,\n",
    "#compile and fit it.\n",
    "model = keras.Sequential([\n",
    "    keras.layers.Dense(128, activation=tf.nn.relu),\n",
    "    keras.layers.Dense(10, activation=tf.nn.softmax)\n",
    "])\n",
    "model.compile(optimizer=tf.train.AdamOptimizer(), \n",
    "              loss='sparse_categorical_crossentropy',\n",
    "              metrics=['accuracy'])\n",
    "model.fit(train, target, epochs=33)\n",
    "\n",
    "\n",
    "#predict with test data and download the submission file to local\n",
    "#stor\n",
    "predictions = model.predict(test)\n",
    "\n",
    "submission=np.argmax(predictions)\n",
    "\n",
    "sub=pd.DataFrame()\n",
    "sub['ImageId']=np.arange(start=1,stop=(len(test)+1))\n",
    "sub['Label']=submission\n",
    "sub.to_csv(\"submission.csv\",index=False)\n",
    "\n",
    "from google.colab import files\n",
    "\n",
    "\n",
    "files.download('submission.csv')"
   ]
  }
 ],
 "metadata": {
  "colab": {
   "include_colab_link": true,
   "name": "Untitled0.ipynb",
   "provenance": [],
   "version": "0.3.2"
  },
  "kernelspec": {
   "display_name": "Python 3",
   "language": "python",
   "name": "python3"
  },
  "language_info": {
   "codemirror_mode": {
    "name": "ipython",
    "version": 3
   },
   "file_extension": ".py",
   "mimetype": "text/x-python",
   "name": "python",
   "nbconvert_exporter": "python",
   "pygments_lexer": "ipython3",
   "version": "3.6.4"
  }
 },
 "nbformat": 4,
 "nbformat_minor": 1
}
