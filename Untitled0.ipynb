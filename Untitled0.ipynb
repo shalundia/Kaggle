{
  "nbformat": 4,
  "nbformat_minor": 0,
  "metadata": {
    "colab": {
      "name": "Untitled0.ipynb",
      "version": "0.3.2",
      "provenance": [],
      "include_colab_link": true
    },
    "kernelspec": {
      "name": "python3",
      "display_name": "Python 3"
    }
  },
  "cells": [
    {
      "cell_type": "markdown",
      "metadata": {
        "id": "view-in-github",
        "colab_type": "text"
      },
      "source": [
        "[View in Colaboratory](https://colab.research.google.com/github/shalundia/Kaggle/blob/master/Untitled0.ipynb)"
      ]
    },
    {
      "metadata": {
        "id": "6e335-Urfd0F",
        "colab_type": "code",
        "colab": {
          "base_uri": "https://localhost:8080/",
          "height": 102
        },
        "outputId": "5d7f39f1-f675-4821-8598-5be4f8d7a798"
      },
      "cell_type": "code",
      "source": [
        "!git clone https://github.com/shalundia/Kaggle.git"
      ],
      "execution_count": 2,
      "outputs": [
        {
          "output_type": "stream",
          "text": [
            "Cloning into 'Kaggle'...\n",
            "remote: Counting objects: 35, done.\u001b[K\n",
            "remote: Compressing objects: 100% (25/25), done.\u001b[K\n",
            "remote: Total 35 (delta 11), reused 31 (delta 10), pack-reused 0\u001b[K\n",
            "Unpacking objects: 100% (35/35), done.\n"
          ],
          "name": "stdout"
        }
      ]
    },
    {
      "metadata": {
        "id": "Z63jGCea7SJc",
        "colab_type": "text"
      },
      "cell_type": "markdown",
      "source": [
        ""
      ]
    },
    {
      "metadata": {
        "id": "Rso0_4qffvPX",
        "colab_type": "code",
        "colab": {
          "base_uri": "https://localhost:8080/",
          "height": 34
        },
        "outputId": "9a785178-9d96-464d-e0e3-8e9763d3ad27"
      },
      "cell_type": "code",
      "source": [
        "# TensorFlow and tf.keras\n",
        "import tensorflow as tf\n",
        "from tensorflow import keras\n",
        "\n",
        "# Helper libraries\n",
        "import pandas as pd\n",
        "import numpy as np\n",
        "import matplotlib.pyplot as plt\n",
        "\n",
        "print(tf.__version__)"
      ],
      "execution_count": 3,
      "outputs": [
        {
          "output_type": "stream",
          "text": [
            "1.9.0\n"
          ],
          "name": "stdout"
        }
      ]
    },
    {
      "metadata": {
        "id": "JFOOwyxyfvm4",
        "colab_type": "code",
        "colab": {}
      },
      "cell_type": "code",
      "source": [
        "model = keras.Sequential([\n",
        "    keras.layers.Dense(128, activation=tf.nn.relu),\n",
        "    keras.layers.Dense(10, activation=tf.nn.softmax)\n",
        "])"
      ],
      "execution_count": 0,
      "outputs": []
    },
    {
      "metadata": {
        "id": "OcKQjHvofvYq",
        "colab_type": "code",
        "colab": {}
      },
      "cell_type": "code",
      "source": [
        "path = 'Kaggle/digit-recognizer/'\n",
        "\n",
        "\n",
        "data=np.loadtxt(open(path+'train.csv', \"rb\"), delimiter=\",\", skiprows=1)\n",
        "test=np.loadtxt(open(path+'test.csv',\"rb\"),delimiter=\",\", skiprows=1)\n"
      ],
      "execution_count": 0,
      "outputs": []
    },
    {
      "metadata": {
        "id": "kYnUF5oetWSO",
        "colab_type": "code",
        "colab": {}
      },
      "cell_type": "code",
      "source": [
        "target=data[:,0]\n",
        "train=data[:,1:]/255.0\n",
        "test=test/255.0"
      ],
      "execution_count": 0,
      "outputs": []
    },
    {
      "metadata": {
        "id": "xNteswcvfvvE",
        "colab_type": "code",
        "colab": {}
      },
      "cell_type": "code",
      "source": [
        "model.compile(optimizer=tf.train.AdamOptimizer(), \n",
        "              loss='sparse_categorical_crossentropy',\n",
        "              metrics=['accuracy'])"
      ],
      "execution_count": 0,
      "outputs": []
    },
    {
      "metadata": {
        "id": "cI3JKdlffvx9",
        "colab_type": "code",
        "colab": {
          "base_uri": "https://localhost:8080/",
          "height": 1815
        },
        "outputId": "672aeb72-62f7-4177-bdc9-72ac9061d788"
      },
      "cell_type": "code",
      "source": [
        "\n",
        "\n",
        "model.fit(train, target, epochs=33)"
      ],
      "execution_count": 8,
      "outputs": [
        {
          "output_type": "stream",
          "text": [
            "Epoch 1/33\n",
            "42000/42000 [==============================] - 3s 63us/step - loss: 0.2932 - acc: 0.9156\n",
            "Epoch 2/33\n",
            "42000/42000 [==============================] - 3s 61us/step - loss: 0.1318 - acc: 0.9610\n",
            "Epoch 3/33\n",
            "42000/42000 [==============================] - 3s 61us/step - loss: 0.0884 - acc: 0.9740\n",
            "Epoch 4/33\n",
            "42000/42000 [==============================] - 3s 62us/step - loss: 0.0655 - acc: 0.9800\n",
            "Epoch 5/33\n",
            "42000/42000 [==============================] - 3s 61us/step - loss: 0.0512 - acc: 0.9843\n",
            "Epoch 6/33\n",
            "31808/42000 [=====================>........] - ETA: 0s - loss: 0.0356 - acc: 0.9900"
          ],
          "name": "stdout"
        },
        {
          "output_type": "stream",
          "text": [
            "42000/42000 [==============================] - 3s 61us/step - loss: 0.0384 - acc: 0.9887\n",
            "Epoch 7/33\n",
            "42000/42000 [==============================] - 3s 61us/step - loss: 0.0305 - acc: 0.9911\n",
            "Epoch 8/33\n",
            "42000/42000 [==============================] - 3s 61us/step - loss: 0.0243 - acc: 0.9934\n",
            "Epoch 9/33\n",
            "42000/42000 [==============================] - 3s 61us/step - loss: 0.0197 - acc: 0.9945\n",
            "Epoch 10/33\n",
            "42000/42000 [==============================] - 3s 61us/step - loss: 0.0155 - acc: 0.9956\n",
            "Epoch 11/33\n",
            "41952/42000 [============================>.] - ETA: 0s - loss: 0.0135 - acc: 0.9960"
          ],
          "name": "stdout"
        },
        {
          "output_type": "stream",
          "text": [
            "42000/42000 [==============================] - 3s 61us/step - loss: 0.0135 - acc: 0.9960\n",
            "Epoch 12/33\n",
            "42000/42000 [==============================] - 3s 61us/step - loss: 0.0121 - acc: 0.9964\n",
            "Epoch 13/33\n",
            "42000/42000 [==============================] - 3s 61us/step - loss: 0.0102 - acc: 0.9969\n",
            "Epoch 14/33\n",
            "42000/42000 [==============================] - 3s 61us/step - loss: 0.0079 - acc: 0.9979\n",
            "Epoch 15/33\n",
            "42000/42000 [==============================] - 3s 61us/step - loss: 0.0070 - acc: 0.9982\n",
            "Epoch 16/33\n",
            "41856/42000 [============================>.] - ETA: 0s - loss: 0.0054 - acc: 0.9987"
          ],
          "name": "stdout"
        },
        {
          "output_type": "stream",
          "text": [
            "42000/42000 [==============================] - 3s 61us/step - loss: 0.0054 - acc: 0.9987\n",
            "Epoch 17/33\n",
            "42000/42000 [==============================] - 3s 61us/step - loss: 0.0092 - acc: 0.9971\n",
            "Epoch 18/33\n",
            "42000/42000 [==============================] - 3s 61us/step - loss: 0.0042 - acc: 0.9990\n",
            "Epoch 19/33\n",
            "42000/42000 [==============================] - 3s 60us/step - loss: 0.0051 - acc: 0.9986\n",
            "Epoch 20/33\n",
            "42000/42000 [==============================] - 3s 60us/step - loss: 0.0051 - acc: 0.9983\n",
            "Epoch 21/33\n",
            "42000/42000 [==============================] - 3s 60us/step - loss: 0.0054 - acc: 0.9983\n",
            "Epoch 22/33\n",
            "   32/42000 [..............................] - ETA: 6s - loss: 2.0792e-04 - acc: 1.0000"
          ],
          "name": "stdout"
        },
        {
          "output_type": "stream",
          "text": [
            "42000/42000 [==============================] - 3s 60us/step - loss: 0.0038 - acc: 0.9989\n",
            "Epoch 23/33\n",
            "42000/42000 [==============================] - 3s 60us/step - loss: 0.0035 - acc: 0.9991\n",
            "Epoch 24/33\n",
            "42000/42000 [==============================] - 3s 60us/step - loss: 0.0063 - acc: 0.9979\n",
            "Epoch 25/33\n",
            "42000/42000 [==============================] - 3s 61us/step - loss: 0.0022 - acc: 0.9995\n",
            "Epoch 26/33\n",
            "42000/42000 [==============================] - 3s 61us/step - loss: 0.0031 - acc: 0.9991\n",
            "Epoch 27/33\n",
            "36128/42000 [========================>.....] - ETA: 0s - loss: 0.0075 - acc: 0.9979"
          ],
          "name": "stdout"
        },
        {
          "output_type": "stream",
          "text": [
            "42000/42000 [==============================] - 3s 61us/step - loss: 0.0069 - acc: 0.9981\n",
            "Epoch 28/33\n",
            "42000/42000 [==============================] - 3s 61us/step - loss: 0.0013 - acc: 0.9997\n",
            "Epoch 29/33\n",
            "42000/42000 [==============================] - 3s 61us/step - loss: 0.0047 - acc: 0.9983\n",
            "Epoch 30/33\n",
            "42000/42000 [==============================] - 3s 61us/step - loss: 0.0022 - acc: 0.9993\n",
            "Epoch 31/33\n",
            "42000/42000 [==============================] - 3s 60us/step - loss: 0.0024 - acc: 0.9995\n",
            "Epoch 32/33\n",
            "40128/42000 [===========================>..] - ETA: 0s - loss: 0.0052 - acc: 0.9984"
          ],
          "name": "stdout"
        },
        {
          "output_type": "stream",
          "text": [
            "42000/42000 [==============================] - 3s 61us/step - loss: 0.0054 - acc: 0.9983\n",
            "Epoch 33/33\n",
            "42000/42000 [==============================] - 3s 61us/step - loss: 0.0046 - acc: 0.9987\n"
          ],
          "name": "stdout"
        },
        {
          "output_type": "execute_result",
          "data": {
            "text/plain": [
              "<tensorflow.python.keras.callbacks.History at 0x7fbdee20a630>"
            ]
          },
          "metadata": {
            "tags": []
          },
          "execution_count": 8
        }
      ]
    },
    {
      "metadata": {
        "id": "CqoRfj6mfv1J",
        "colab_type": "code",
        "colab": {}
      },
      "cell_type": "code",
      "source": [
        "predictions = model.predict(test)"
      ],
      "execution_count": 0,
      "outputs": []
    },
    {
      "metadata": {
        "id": "wyEWYVqvfv4A",
        "colab_type": "code",
        "colab": {}
      },
      "cell_type": "code",
      "source": [
        "submission=np.argmax(predictions)"
      ],
      "execution_count": 0,
      "outputs": []
    },
    {
      "metadata": {
        "id": "OMIFCq_ZNaVb",
        "colab_type": "code",
        "colab": {}
      },
      "cell_type": "code",
      "source": [
        "sub=pd.DataFrame()\n",
        "sub['ImageId']=np.arange(start=1,stop=(len(test)+1))\n",
        "sub['Label']=submission\n",
        "sub.to_csv(\"submission.csv\",index=False)"
      ],
      "execution_count": 0,
      "outputs": []
    },
    {
      "metadata": {
        "id": "a6OXRz3S_hez",
        "colab_type": "code",
        "colab": {}
      },
      "cell_type": "code",
      "source": [
        "from google.colab import files\n",
        "\n",
        "\n",
        "files.download('submission.csv')"
      ],
      "execution_count": 0,
      "outputs": []
    },
    {
      "metadata": {
        "id": "_6XpU1ZBA8oJ",
        "colab_type": "code",
        "colab": {
          "base_uri": "https://localhost:8080/",
          "height": 34
        },
        "outputId": "788d5800-5127-4099-b2cb-a0fe59e7bf03"
      },
      "cell_type": "code",
      "source": [
        "!ls\n"
      ],
      "execution_count": 1,
      "outputs": [
        {
          "output_type": "stream",
          "text": [
            "datalab  example.txt\r\n"
          ],
          "name": "stdout"
        }
      ]
    }
  ]
}